{
 "cells": [
  {
   "cell_type": "markdown",
   "metadata": {},
   "source": [
    "<p style=\"text-align:center\">\n",
    "    <a href=\"https://skills.network/?utm_medium=Exinfluencer&utm_source=Exinfluencer&utm_content=000026UJ&utm_term=10006555&utm_id=NA-SkillsNetwork-Channel-SkillsNetworkCoursesIBMML321ENSkillsNetwork817-2022-01-01\" target=\"_blank\">\n",
    "    <img src=\"https://cf-courses-data.s3.us.cloud-object-storage.appdomain.cloud/assets/logos/SN_web_lightmode.png\" width=\"200\" alt=\"Skills Network Logo\">\n",
    "    </a>\n",
    "</p>\n"
   ]
  },
  {
   "cell_type": "markdown",
   "metadata": {},
   "source": [
    "# **Course Rating Prediction using Neural Networks**\n"
   ]
  },
  {
   "cell_type": "markdown",
   "metadata": {},
   "source": [
    "Estimated time needed: **60** minutes\n"
   ]
  },
  {
   "cell_type": "markdown",
   "metadata": {},
   "source": [
    "In the previous labs, we have crafted several types of user and item feature vectors.  For example, given a user `i`, we may build its profile feature vector and course rating feature vector, and given an item `j`, we may create its genre vector and user enrollment vectors.\n"
   ]
  },
  {
   "cell_type": "markdown",
   "metadata": {},
   "source": [
    "\n",
    "With these explicit features vectors, we can perform machine learning tasks such as calculating the similarities among users or items, finding nearest neighbors, and using dot-product to estimate a rating value. \n",
    "\n",
    "The main advantage of using these explicit features is they are highly interpretable and yield very good performance as well. The main disadvantage is we need to spend quite some effort to build and store them.\n"
   ]
  },
  {
   "cell_type": "markdown",
   "metadata": {},
   "source": [
    "![](https://cf-courses-data.s3.us.cloud-object-storage.appdomain.cloud/IBM-ML321EN-SkillsNetwork/labs/module_4/images/explicit_user_item_features.png)\n"
   ]
  },
  {
   "cell_type": "markdown",
   "metadata": {},
   "source": [
    "Is it possible to predict a rating without building explicit feature vectors beforehand?  \n",
    "\n",
    "Yes, as you may recall, the Non-negative Matrix Factorization decomposes the user-item interaction matrix into user matrix and item matrix, which contain the latent features of users and items and you can simply dot-product them to get an estimated rating.\n"
   ]
  },
  {
   "cell_type": "markdown",
   "metadata": {},
   "source": [
    "![](https://cf-courses-data.s3.us.cloud-object-storage.appdomain.cloud/IBM-ML321EN-SkillsNetwork/labs/module_4/images/nmf.png)\n"
   ]
  },
  {
   "cell_type": "markdown",
   "metadata": {},
   "source": [
    "In addition to NMF, neural networks can also be used to extract the latent user and item features  In fact,  neural networks are very good at learning patterns from data and are widely used to extract latent features.  When training neural networks, it gradually captures and stores the features within its hidden layers as weight matrices and can be extracted to represent the original data.\n"
   ]
  },
  {
   "cell_type": "markdown",
   "metadata": {},
   "source": [
    "In this lab, you will be training neural networks to predict course ratings while simultaneously extracting users' and items' latent features. \n"
   ]
  },
  {
   "cell_type": "markdown",
   "metadata": {},
   "source": [
    "## Objectives\n"
   ]
  },
  {
   "cell_type": "markdown",
   "metadata": {},
   "source": [
    "After completing this lab you will be able to:\n"
   ]
  },
  {
   "cell_type": "markdown",
   "metadata": {},
   "source": [
    "* Use `tensorflow` to train neural networks to extract the user and item latent features from the hidden's layers  \n",
    "* Predict course ratings with trained neural networks\n"
   ]
  },
  {
   "cell_type": "markdown",
   "metadata": {},
   "source": [
    "----\n"
   ]
  },
  {
   "cell_type": "markdown",
   "metadata": {},
   "source": [
    "## Prepare and setup lab environment\n"
   ]
  },
  {
   "cell_type": "markdown",
   "metadata": {},
   "source": [
    "Install tensorflow if not installed before in your Python environment\n"
   ]
  },
  {
   "cell_type": "code",
   "execution_count": 1,
   "metadata": {
    "collapsed": true,
    "jupyter": {
     "outputs_hidden": true
    }
   },
   "outputs": [],
   "source": [
    "#%pip install tensorflow"
   ]
  },
  {
   "cell_type": "markdown",
   "metadata": {},
   "source": [
    "and import required libraries:\n"
   ]
  },
  {
   "cell_type": "code",
   "execution_count": 29,
   "metadata": {
    "collapsed": true,
    "jupyter": {
     "outputs_hidden": true
    }
   },
   "outputs": [],
   "source": [
    "#%pip install pandas\n",
    "#%pip install matplotlib\n",
    "import tensorflow as tf\n",
    "import matplotlib.pyplot as plt\n",
    "\n",
    "import pandas as pd\n",
    "import numpy as np\n",
    "from sklearn.metrics import confusion_matrix,ConfusionMatrixDisplay\n",
    "from tensorflow import keras\n",
    "from tensorflow.keras import layers\n",
    "from keras.callbacks import EarlyStopping, ModelCheckpoint"
   ]
  },
  {
   "cell_type": "code",
   "execution_count": 30,
   "metadata": {},
   "outputs": [],
   "source": [
    "# also set a random state\n",
    "rs = 123"
   ]
  },
  {
   "cell_type": "markdown",
   "metadata": {},
   "source": [
    "### Load and processing rating dataset\n"
   ]
  },
  {
   "cell_type": "code",
   "execution_count": 31,
   "metadata": {},
   "outputs": [
    {
     "data": {
      "text/html": [
       "<div>\n",
       "<style scoped>\n",
       "    .dataframe tbody tr th:only-of-type {\n",
       "        vertical-align: middle;\n",
       "    }\n",
       "\n",
       "    .dataframe tbody tr th {\n",
       "        vertical-align: top;\n",
       "    }\n",
       "\n",
       "    .dataframe thead th {\n",
       "        text-align: right;\n",
       "    }\n",
       "</style>\n",
       "<table border=\"1\" class=\"dataframe\">\n",
       "  <thead>\n",
       "    <tr style=\"text-align: right;\">\n",
       "      <th></th>\n",
       "      <th>user</th>\n",
       "      <th>item</th>\n",
       "      <th>rating</th>\n",
       "    </tr>\n",
       "  </thead>\n",
       "  <tbody>\n",
       "    <tr>\n",
       "      <th>0</th>\n",
       "      <td>1889878</td>\n",
       "      <td>CC0101EN</td>\n",
       "      <td>5</td>\n",
       "    </tr>\n",
       "    <tr>\n",
       "      <th>1</th>\n",
       "      <td>1342067</td>\n",
       "      <td>CL0101EN</td>\n",
       "      <td>3</td>\n",
       "    </tr>\n",
       "    <tr>\n",
       "      <th>2</th>\n",
       "      <td>1990814</td>\n",
       "      <td>ML0120ENv3</td>\n",
       "      <td>5</td>\n",
       "    </tr>\n",
       "    <tr>\n",
       "      <th>3</th>\n",
       "      <td>380098</td>\n",
       "      <td>BD0211EN</td>\n",
       "      <td>5</td>\n",
       "    </tr>\n",
       "    <tr>\n",
       "      <th>4</th>\n",
       "      <td>779563</td>\n",
       "      <td>DS0101EN</td>\n",
       "      <td>3</td>\n",
       "    </tr>\n",
       "  </tbody>\n",
       "</table>\n",
       "</div>"
      ],
      "text/plain": [
       "      user        item  rating\n",
       "0  1889878    CC0101EN       5\n",
       "1  1342067    CL0101EN       3\n",
       "2  1990814  ML0120ENv3       5\n",
       "3   380098    BD0211EN       5\n",
       "4   779563    DS0101EN       3"
      ]
     },
     "execution_count": 31,
     "metadata": {},
     "output_type": "execute_result"
    }
   ],
   "source": [
    "rating_url = \"https://cf-courses-data.s3.us.cloud-object-storage.appdomain.cloud/IBMSkillsNetwork-ML0321EN-Coursera/labs/v2/module_3/ratings.csv\"\n",
    "rating_df = pd.read_csv(rating_url)\n",
    "rating_df.head()"
   ]
  },
  {
   "cell_type": "markdown",
   "metadata": {},
   "source": [
    "This is the same rating dataset we have been using in previous lab, which contains the three main columns: `user`, `item`, and `rating`. \n"
   ]
  },
  {
   "cell_type": "markdown",
   "metadata": {},
   "source": [
    "Next, let's figure out how many unique users and items, their total numbers will determine the sizes of one-hot encoding vectors.\n"
   ]
  },
  {
   "cell_type": "code",
   "execution_count": 32,
   "metadata": {},
   "outputs": [
    {
     "name": "stdout",
     "output_type": "stream",
     "text": [
      "There are total `33901` of users and `126` items\n"
     ]
    }
   ],
   "source": [
    "num_users = len(rating_df['user'].unique())\n",
    "num_items = len(rating_df['item'].unique())\n",
    "print(f\"There are total `{num_users}` of users and `{num_items}` items\")"
   ]
  },
  {
   "cell_type": "markdown",
   "metadata": {},
   "source": [
    "It means our each user can be represented as a `33901 x 1` one-hot vector and each item can be represented as `126 x 1` one-hot vector.\n"
   ]
  },
  {
   "cell_type": "markdown",
   "metadata": {},
   "source": [
    "The goal is to create a neural network structure that can take the user and item one-hot vectors as inputs and outputs a rating estimation or the probability of interaction.\n",
    "\n",
    "While training and updating the weights in the neural network, its hidden layers should be able to capture the pattern or features for each user and item. Based on this idea, we can design a simple neural network architecture like the following:\n"
   ]
  },
  {
   "cell_type": "markdown",
   "metadata": {},
   "source": [
    "![](https://cf-courses-data.s3.us.cloud-object-storage.appdomain.cloud/IBM-ML321EN-SkillsNetwork/labs/module_4/images/embedding_feature_vector.png)\n"
   ]
  },
  {
   "cell_type": "markdown",
   "metadata": {},
   "source": [
    "The network inputs are two one-hot encoding vectors, the blue one is for the user and the green one is for the item. Then on top of them, we added two embedding layers. Here embedding means embedding the one-hot encoding vector into a latent feature space. The embedding layer is a fully-connected layer that outputs the embedding feature vectors. For example, the user embedding layer takes `33901 x 1` one-hot vector as input and outputs a `16 x 1` embedding vector.\n"
   ]
  },
  {
   "cell_type": "markdown",
   "metadata": {},
   "source": [
    "The embedding layer outputs two embedding vectors, which are similar to Non-negative matrix factorization. Then we could simply dot the product the user and item embedding vector to output a rating estimation.\n"
   ]
  },
  {
   "cell_type": "markdown",
   "metadata": {},
   "source": [
    "#### Implementing the recommender neural network using tensorflow \n"
   ]
  },
  {
   "cell_type": "markdown",
   "metadata": {},
   "source": [
    "This network architecture could be defined and implemented as a sub-class inheriting the `tensorflow.keras.Model` super class, let's call it `RecommenderNet()`.\n"
   ]
  },
  {
   "cell_type": "code",
   "execution_count": 148,
   "metadata": {},
   "outputs": [],
   "source": [
    "class RecommenderNet(keras.Model):\n",
    "    \"\"\"\n",
    "        Neural network model for recommendation.\n",
    "\n",
    "        This model learns embeddings for users and items, and computes the dot product\n",
    "        of the user and item embeddings to predict ratings or preferences.\n",
    "\n",
    "        Attributes:\n",
    "        - num_users (int): Number of users.\n",
    "        - num_items (int): Number of items.\n",
    "        - embedding_size (int): Size of embedding vectors for users and items.\n",
    "    \"\"\"\n",
    "    def __init__(self, num_users, num_items, embedding_size=16, **kwargs):\n",
    "        \"\"\"\n",
    "            Constructor.\n",
    "\n",
    "            Args:\n",
    "            - num_users (int): Number of users.\n",
    "            - num_items (int): Number of items.\n",
    "            - embedding_size (int): Size of embedding vectors for users and items.\n",
    "         \"\"\"\n",
    "        super(RecommenderNet, self).__init__(**kwargs)\n",
    "        self.num_users = num_users\n",
    "        self.num_items = num_items\n",
    "        self.embedding_size = embedding_size\n",
    "\n",
    "        # Define a user_embedding vector\n",
    "        # Input dimension is the num_users\n",
    "        # Output dimension is the embedding size\n",
    "        # A name for the layer, which helps in identifying the layer within the model.\n",
    "\n",
    "        self.user_embedding_layer = layers.Embedding(\n",
    "            input_dim=num_users,\n",
    "            output_dim=embedding_size,\n",
    "            name='user_embedding_layer',\n",
    "            embeddings_initializer=\"he_normal\",\n",
    "            embeddings_regularizer=keras.regularizers.l2(1e-6),\n",
    "        )\n",
    "        self.user_dense_layer = layers.Dense(\n",
    "            units=embedding_size,\n",
    "            activation='linear',\n",
    "            name='item_dense_layer',\n",
    "            kernel_initializer=\"he_normal\",\n",
    "            activity_regularizer=keras.regularizers.l2(1e-6),\n",
    "        )\n",
    "        # Define a user bias layer\n",
    "        # Bias is applied per user, hence output_dim is set to 1.\n",
    "        self.user_bias = layers.Embedding(\n",
    "            input_dim=num_users,\n",
    "            output_dim=1,\n",
    "            name=\"user_bias\")\n",
    "\n",
    "        # Define an item_embedding vector\n",
    "        # Input dimension is the num_items\n",
    "        # Output dimension is the embedding size\n",
    "        self.item_embedding_layer = layers.Embedding(\n",
    "            input_dim=num_items,\n",
    "            output_dim=embedding_size,\n",
    "            name='item_embedding_layer',\n",
    "            embeddings_initializer=\"he_normal\",\n",
    "            embeddings_regularizer=keras.regularizers.l2(1e-6),\n",
    "        )\n",
    "        self.item_dense_layer = layers.Dense(\n",
    "            units=embedding_size,\n",
    "            activation='linear',\n",
    "            name='item_dense_layer',\n",
    "            kernel_initializer=\"he_normal\",\n",
    "            activity_regularizer=keras.regularizers.l2(1e-6),\n",
    "        )\n",
    "        # Define an item bias layer\n",
    "        # Bias is applied per item, hence output_dim is set to 1.\n",
    "        self.item_bias = layers.Embedding(\n",
    "            input_dim=num_items,\n",
    "            output_dim=1,\n",
    "            name=\"item_bias\")\n",
    "\n",
    "    def call(self, inputs):\n",
    "        \"\"\"\n",
    "            Method called during model fitting.\n",
    "\n",
    "            Args:\n",
    "            - inputs (tf.Tensor): Input tensor containing user and item one-hot vectors.\n",
    "\n",
    "            Returns:\n",
    "            - tf.Tensor: Output tensor containing predictions.\n",
    "        \"\"\"\n",
    "        # Compute the user embedding vector\n",
    "        user_vector = self.user_embedding_layer(inputs[:, 0])\n",
    "        user_vector = self.user_dense_layer(user_vector)\n",
    "        user_vector = self.user_dense_layer(user_vector)\n",
    "        # Compute the user bias\n",
    "        user_bias = self.user_bias(inputs[:, 0])\n",
    "        # Compute the item embedding vector\n",
    "        item_vector = self.item_embedding_layer(inputs[:, 1])\n",
    "        item_vector = self.item_dense_layer(item_vector)\n",
    "        item_vector = self.item_dense_layer(item_vector)\n",
    "        # Compute the item bias\n",
    "        item_bias = self.item_bias(inputs[:, 1])\n",
    "         # Compute dot product of user and item embeddings\n",
    "        dot_user_item = tf.tensordot(user_vector, item_vector, 2)\n",
    "        # Add all the components (including bias)\n",
    "        x = dot_user_item + user_bias + item_bias\n",
    "        # Apply ReLU activation function\n",
    "        return tf.nn.sigmoid(x)"
   ]
  },
  {
   "cell_type": "markdown",
   "metadata": {},
   "source": [
    "### TASK: Train and evaluate the RecommenderNet()\n"
   ]
  },
  {
   "cell_type": "markdown",
   "metadata": {},
   "source": [
    "Now it's time to train and evaluate the defined `RecommenderNet()`. First, we need to process the original rating dataset a little bit by converting the actual user ids and item ids into integer indices for `tensorflow` to creating the one-hot encoding vectors.\n"
   ]
  },
  {
   "cell_type": "code",
   "execution_count": 104,
   "metadata": {},
   "outputs": [],
   "source": [
    "def process_dataset(raw_data):\n",
    "    \"\"\"\n",
    "        Preprocesses the raw dataset by encoding user and item IDs to indices.\n",
    "\n",
    "        Args:\n",
    "        - raw_data (DataFrame): Raw dataset containing user, item, and rating information.\n",
    "\n",
    "        Returns:\n",
    "        - encoded_data (DataFrame): Processed dataset with user and item IDs encoded as indices.\n",
    "        - user_idx2id_dict (dict): Dictionary mapping user indices to original user IDs.\n",
    "        - course_idx2id_dict (dict): Dictionary mapping item indices to original item IDs.\n",
    "    \"\"\"\n",
    "\n",
    "    encoded_data = raw_data.copy() # Make a copy of the raw dataset to avoid modifying the original data.\n",
    "\n",
    "    # Mapping user ids to indices\n",
    "    user_list = encoded_data[\"user\"].unique().tolist() # Get unique user IDs from the dataset.\n",
    "    user_id2idx_dict = {x: i for i, x in enumerate(user_list)} # Create a dictionary mapping user IDs to indices.\n",
    "    user_idx2id_dict = {i: x for i, x in enumerate(user_list)} # Create a dictionary mapping user indices back to original user IDs.\n",
    "\n",
    "    # Mapping course ids to indices\n",
    "    course_list = encoded_data[\"item\"].unique().tolist() # Get unique item (course) IDs from the dataset.\n",
    "    course_id2idx_dict = {x: i for i, x in enumerate(course_list)} # Create a dictionary mapping item IDs to indices.\n",
    "    course_idx2id_dict = {i: x for i, x in enumerate(course_list)} # Create a dictionary mapping item indices back to original item IDs.\n",
    "\n",
    "    # Convert original user ids to idx\n",
    "    encoded_data[\"user\"] = encoded_data[\"user\"].map(user_id2idx_dict)\n",
    "    # Convert original course ids to idx\n",
    "    encoded_data[\"item\"] = encoded_data[\"item\"].map(course_id2idx_dict)\n",
    "    # Convert rating to int\n",
    "    encoded_data[\"rating\"] = encoded_data[\"rating\"].values.astype(\"int\")\n",
    "\n",
    "    return encoded_data, user_idx2id_dict, course_idx2id_dict # Return the processed dataset and dictionaries mapping indices to original IDs."
   ]
  },
  {
   "cell_type": "code",
   "execution_count": 35,
   "metadata": {},
   "outputs": [],
   "source": [
    "# Process the raw dataset using the process_dataset function\n",
    "# The function returns three values: encoded_data, user_idx2id_dict, and course_idx2id_dict\n",
    "# encoded_data: Processed dataset with user and item IDs encoded as indices\n",
    "# user_idx2id_dict: Dictionary mapping user indices to original user IDs\n",
    "# course_idx2id_dict: Dictionary mapping item indices to original item IDs\n",
    "encoded_data, user_idx2id_dict, course_idx2id_dict = process_dataset(rating_df)"
   ]
  },
  {
   "cell_type": "code",
   "execution_count": 105,
   "metadata": {},
   "outputs": [
    {
     "data": {
      "text/html": [
       "<div>\n",
       "<style scoped>\n",
       "    .dataframe tbody tr th:only-of-type {\n",
       "        vertical-align: middle;\n",
       "    }\n",
       "\n",
       "    .dataframe tbody tr th {\n",
       "        vertical-align: top;\n",
       "    }\n",
       "\n",
       "    .dataframe thead th {\n",
       "        text-align: right;\n",
       "    }\n",
       "</style>\n",
       "<table border=\"1\" class=\"dataframe\">\n",
       "  <thead>\n",
       "    <tr style=\"text-align: right;\">\n",
       "      <th></th>\n",
       "      <th>user</th>\n",
       "      <th>item</th>\n",
       "      <th>rating</th>\n",
       "    </tr>\n",
       "  </thead>\n",
       "  <tbody>\n",
       "    <tr>\n",
       "      <th>0</th>\n",
       "      <td>0</td>\n",
       "      <td>0</td>\n",
       "      <td>3</td>\n",
       "    </tr>\n",
       "    <tr>\n",
       "      <th>1</th>\n",
       "      <td>1</td>\n",
       "      <td>1</td>\n",
       "      <td>3</td>\n",
       "    </tr>\n",
       "    <tr>\n",
       "      <th>2</th>\n",
       "      <td>2</td>\n",
       "      <td>2</td>\n",
       "      <td>3</td>\n",
       "    </tr>\n",
       "    <tr>\n",
       "      <th>3</th>\n",
       "      <td>3</td>\n",
       "      <td>3</td>\n",
       "      <td>3</td>\n",
       "    </tr>\n",
       "    <tr>\n",
       "      <th>4</th>\n",
       "      <td>4</td>\n",
       "      <td>4</td>\n",
       "      <td>3</td>\n",
       "    </tr>\n",
       "  </tbody>\n",
       "</table>\n",
       "</div>"
      ],
      "text/plain": [
       "   user  item  rating\n",
       "0     0     0       3\n",
       "1     1     1       3\n",
       "2     2     2       3\n",
       "3     3     3       3\n",
       "4     4     4       3"
      ]
     },
     "execution_count": 105,
     "metadata": {},
     "output_type": "execute_result"
    }
   ],
   "source": [
    "encoded_data.head()"
   ]
  },
  {
   "cell_type": "code",
   "execution_count": 106,
   "metadata": {},
   "outputs": [
    {
     "data": {
      "text/plain": [
       "(233364, 3)"
      ]
     },
     "execution_count": 106,
     "metadata": {},
     "output_type": "execute_result"
    }
   ],
   "source": [
    "encoded_data.shape"
   ]
  },
  {
   "cell_type": "markdown",
   "metadata": {},
   "source": [
    "Then we can split the encoded dataset into training and testing datasets.\n"
   ]
  },
  {
   "cell_type": "code",
   "execution_count": 163,
   "metadata": {},
   "outputs": [],
   "source": [
    "def generate_train_test_datasets(dataset, scale=True):\n",
    "    \"\"\"\n",
    "        Splits the dataset into training, validation, and testing sets.\n",
    "\n",
    "        Args:\n",
    "        - dataset (DataFrame): Dataset containing user, item, and rating information.\n",
    "        - scale (bool): Indicates whether to scale the ratings between 0 and 1. Default is True.\n",
    "\n",
    "       Returns:\n",
    "        - x_train (array): Features for training set.\n",
    "        - x_val (array): Features for validation set.\n",
    "        - x_test (array): Features for testing set.\n",
    "        - y_train (array): Labels for training set.\n",
    "        - y_val (array): Labels for validation set.\n",
    "        - y_test (array): Labels for testing set.\n",
    "    \"\"\"\n",
    "\n",
    "    min_rating = min(dataset[\"rating\"]) # Get the minimum rating from the dataset\n",
    "    max_rating = max(dataset[\"rating\"]) # Get the maximum rating from the dataset\n",
    "\n",
    "    dataset = dataset.sample(frac=1, random_state=42) # Shuffle the dataset to ensure randomness\n",
    "    x = dataset[[\"user\", \"item\"]].values # Extract features (user and item indices) from the dataset\n",
    "    if scale:\n",
    "        # Scale the ratings between 0 and 1 if scale=True\n",
    "        y = dataset[\"rating\"].apply(lambda x: (x - min_rating) / (max_rating - min_rating)).values\n",
    "    else:\n",
    "        # Otherwise, use raw ratings\n",
    "        y = dataset[\"rating\"].values\n",
    "\n",
    "    # Assuming training on 80% of the data and testing on 10% of the data\n",
    "    train_indices = int(0.8 * dataset.shape[0])\n",
    "    test_indices = int(0.9 * dataset.shape[0])\n",
    "    # Assigning subsets of features and labels for each set\n",
    "    x_train, x_val, x_test, y_train, y_val, y_test = (\n",
    "        x[:train_indices], # Training features\n",
    "        x[train_indices:test_indices], # Validation features\n",
    "        x[test_indices:], # Testing features\n",
    "        y[:train_indices], # Training labels\n",
    "        y[train_indices:test_indices], # Validation labels\n",
    "        y[test_indices:], # Testing labels\n",
    "    )\n",
    "    return x_train, x_val, x_test, y_train, y_val, y_test # Return the training, validation, and testing sets"
   ]
  },
  {
   "cell_type": "code",
   "execution_count": 164,
   "metadata": {},
   "outputs": [],
   "source": [
    "x_train, x_val, x_test, y_train, y_val, y_test = generate_train_test_datasets(encoded_data)#,scale=False)"
   ]
  },
  {
   "cell_type": "code",
   "execution_count": 165,
   "metadata": {},
   "outputs": [
    {
     "data": {
      "text/plain": [
       "(186691, 2)"
      ]
     },
     "execution_count": 165,
     "metadata": {},
     "output_type": "execute_result"
    }
   ],
   "source": [
    "x_train.shape"
   ]
  },
  {
   "cell_type": "code",
   "execution_count": 166,
   "metadata": {},
   "outputs": [
    {
     "data": {
      "text/plain": [
       "(23337, 2)"
      ]
     },
     "execution_count": 166,
     "metadata": {},
     "output_type": "execute_result"
    }
   ],
   "source": [
    "x_test.shape"
   ]
  },
  {
   "cell_type": "code",
   "execution_count": 167,
   "metadata": {},
   "outputs": [
    {
     "data": {
      "text/plain": [
       "array([[ 2034,     7],\n",
       "       [33719,    47],\n",
       "       [ 7464,    14],\n",
       "       ...,\n",
       "       [28761,    19],\n",
       "       [ 4973,    17],\n",
       "       [16053,    27]], dtype=int64)"
      ]
     },
     "execution_count": 167,
     "metadata": {},
     "output_type": "execute_result"
    }
   ],
   "source": [
    "x_train"
   ]
  },
  {
   "cell_type": "markdown",
   "metadata": {},
   "source": [
    "If we take a look at the training input data, it is simply just a list of user indices and item indices, which is a dense format of one-hot encoding vectors.\n"
   ]
  },
  {
   "cell_type": "code",
   "execution_count": 168,
   "metadata": {},
   "outputs": [
    {
     "data": {
      "text/plain": [
       "array([ 2034, 33719,  7464, ..., 28761,  4973, 16053], dtype=int64)"
      ]
     },
     "execution_count": 168,
     "metadata": {},
     "output_type": "execute_result"
    }
   ],
   "source": [
    "user_indices = x_train[:, 0]\n",
    "user_indices"
   ]
  },
  {
   "cell_type": "code",
   "execution_count": 169,
   "metadata": {},
   "outputs": [
    {
     "data": {
      "text/plain": [
       "array([ 7, 47, 14, ..., 19, 17, 27], dtype=int64)"
      ]
     },
     "execution_count": 169,
     "metadata": {},
     "output_type": "execute_result"
    }
   ],
   "source": [
    "item_indices = x_train[:, 1]\n",
    "item_indices"
   ]
  },
  {
   "cell_type": "markdown",
   "metadata": {},
   "source": [
    "The training output labels are a list of 0s and 1s indicating if the user has completed a course or not.\n"
   ]
  },
  {
   "cell_type": "code",
   "execution_count": 170,
   "metadata": {},
   "outputs": [
    {
     "data": {
      "text/plain": [
       "array([1., 0., 1., ..., 0., 1., 1.])"
      ]
     },
     "execution_count": 170,
     "metadata": {},
     "output_type": "execute_result"
    }
   ],
   "source": [
    "y_train"
   ]
  },
  {
   "cell_type": "markdown",
   "metadata": {},
   "source": [
    "Then we can choose a small embedding vector size to be 16 and create a `RecommenderNet()` model to be trained.\n"
   ]
  },
  {
   "cell_type": "code",
   "execution_count": 171,
   "metadata": {},
   "outputs": [],
   "source": [
    "embedding_size = 32\n",
    "model = RecommenderNet(num_users, num_items, embedding_size)"
   ]
  },
  {
   "cell_type": "code",
   "execution_count": 172,
   "metadata": {},
   "outputs": [],
   "source": [
    "\n",
    "early_stopping =EarlyStopping(monitor='val_loss', patience=5)"
   ]
  },
  {
   "cell_type": "markdown",
   "metadata": {},
   "source": [
    "_TODO: Train the RecommenderNet() model_\n"
   ]
  },
  {
   "cell_type": "code",
   "execution_count": 173,
   "metadata": {},
   "outputs": [
    {
     "name": "stdout",
     "output_type": "stream",
     "text": [
      "Epoch 1/10\n",
      "\u001b[1m2918/2918\u001b[0m \u001b[32m━━━━━━━━━━━━━━━━━━━━\u001b[0m\u001b[37m\u001b[0m \u001b[1m6s\u001b[0m 2ms/step - loss: 0.0463 - root_mean_squared_error: 0.2136 - val_loss: 0.0327 - val_root_mean_squared_error: 0.1791\n",
      "Epoch 2/10\n",
      "\u001b[1m2918/2918\u001b[0m \u001b[32m━━━━━━━━━━━━━━━━━━━━\u001b[0m\u001b[37m\u001b[0m \u001b[1m4s\u001b[0m 2ms/step - loss: 0.0313 - root_mean_squared_error: 0.1753 - val_loss: 0.0285 - val_root_mean_squared_error: 0.1667\n",
      "Epoch 3/10\n",
      "\u001b[1m2918/2918\u001b[0m \u001b[32m━━━━━━━━━━━━━━━━━━━━\u001b[0m\u001b[37m\u001b[0m \u001b[1m4s\u001b[0m 2ms/step - loss: 0.0276 - root_mean_squared_error: 0.1640 - val_loss: 0.0270 - val_root_mean_squared_error: 0.1620\n",
      "Epoch 4/10\n",
      "\u001b[1m2918/2918\u001b[0m \u001b[32m━━━━━━━━━━━━━━━━━━━━\u001b[0m\u001b[37m\u001b[0m \u001b[1m5s\u001b[0m 2ms/step - loss: 0.0264 - root_mean_squared_error: 0.1600 - val_loss: 0.0264 - val_root_mean_squared_error: 0.1600\n",
      "Epoch 5/10\n",
      "\u001b[1m2918/2918\u001b[0m \u001b[32m━━━━━━━━━━━━━━━━━━━━\u001b[0m\u001b[37m\u001b[0m \u001b[1m5s\u001b[0m 2ms/step - loss: 0.0249 - root_mean_squared_error: 0.1553 - val_loss: 0.0257 - val_root_mean_squared_error: 0.1581\n",
      "Epoch 6/10\n",
      "\u001b[1m2918/2918\u001b[0m \u001b[32m━━━━━━━━━━━━━━━━━━━━\u001b[0m\u001b[37m\u001b[0m \u001b[1m5s\u001b[0m 2ms/step - loss: 0.0242 - root_mean_squared_error: 0.1532 - val_loss: 0.0253 - val_root_mean_squared_error: 0.1565\n",
      "Epoch 7/10\n",
      "\u001b[1m2918/2918\u001b[0m \u001b[32m━━━━━━━━━━━━━━━━━━━━\u001b[0m\u001b[37m\u001b[0m \u001b[1m5s\u001b[0m 2ms/step - loss: 0.0235 - root_mean_squared_error: 0.1507 - val_loss: 0.0252 - val_root_mean_squared_error: 0.1563\n",
      "Epoch 8/10\n",
      "\u001b[1m2918/2918\u001b[0m \u001b[32m━━━━━━━━━━━━━━━━━━━━\u001b[0m\u001b[37m\u001b[0m \u001b[1m5s\u001b[0m 2ms/step - loss: 0.0231 - root_mean_squared_error: 0.1494 - val_loss: 0.0243 - val_root_mean_squared_error: 0.1537\n",
      "Epoch 9/10\n",
      "\u001b[1m2918/2918\u001b[0m \u001b[32m━━━━━━━━━━━━━━━━━━━━\u001b[0m\u001b[37m\u001b[0m \u001b[1m5s\u001b[0m 2ms/step - loss: 0.0219 - root_mean_squared_error: 0.1456 - val_loss: 0.0238 - val_root_mean_squared_error: 0.1521\n",
      "Epoch 10/10\n",
      "\u001b[1m2918/2918\u001b[0m \u001b[32m━━━━━━━━━━━━━━━━━━━━\u001b[0m\u001b[37m\u001b[0m \u001b[1m5s\u001b[0m 2ms/step - loss: 0.0211 - root_mean_squared_error: 0.1430 - val_loss: 0.0233 - val_root_mean_squared_error: 0.1504\n"
     ]
    },
    {
     "data": {
      "image/png": "[encoded data removed]",
      "text/plain": [
       "<Figure size 640x480 with 1 Axes>"
      ]
     },
     "metadata": {},
     "output_type": "display_data"
    },
    {
     "data": {
      "text/plain": [
       "[<matplotlib.lines.Line2D at 0x219868b5ca0>]"
      ]
     },
     "execution_count": 173,
     "metadata": {},
     "output_type": "execute_result"
    },
    {
     "data": {
      "image/png": "[encoded data removed]",
      "text/plain": [
       "<Figure size 640x480 with 1 Axes>"
      ]
     },
     "metadata": {},
     "output_type": "display_data"
    }
   ],
   "source": [
    "## WRITE YOUR CODE HERE:\n",
    "embedding_size = 16\n",
    "model = RecommenderNet(num_users, num_items, embedding_size)\n",
    "early_stopping =EarlyStopping(monitor='val_loss', patience=5)\n",
    "## - call model.compile() method to set up the loss and optimizer and metrics for the model training, you may use\n",
    "model.compile(optimizer=keras.optimizers.Adam(),loss=tf.keras.losses.MeanSquaredError(),metrics=[tf.keras.metrics.RootMeanSquaredError()])\n",
    "history=model.fit(x=x_train, y=y_train,batch_size=64,epochs=10,validation_data=(x_val,y_val),verbose=1,callbacks = [early_stopping,keras.callbacks.ModelCheckpoint(\"RNN.keras\",save_best_only=True)]) \n",
    "#  - -Save the entire model in the SavedModel format and then save only the weights of the model using \n",
    "model.save(\"recommender_net_model.keras\")\n",
    "## - - model.save_weights(\"recommender_net_weights.weights.h5\")\n",
    "model.save_weights(\"recommender_net_weights.weights.h5\")\n",
    " \n",
    "## - plot the train and validation loss\n",
    "plt.plot(history.history[\"loss\"])\n",
    "plt.show()\n",
    "plt.plot(history.history[\"val_loss\"])\n"
   ]
  },
  {
   "cell_type": "markdown",
   "metadata": {},
   "source": [
    "<details>\n",
    "    <summary>Click here for Hints</summary>\n",
    "    \n",
    "When you are fitting a model, dont forget to specify the parameters: `x=x_train, y=y_train`, as well as `batch_size=64`, number of `epochs=10` and of course `validation_data=(x_val, y_val)` you can also define `verbose = 1` which will show you an animated progress for the training progress for each epoch.\n",
    "    \n",
    "* You can set  `history = model.fit()` which will give you a \"loss\" dataframe which will be very useful for ploting the train and validation loss. To plot it, use plt.plot() with `history.history[\"loss\"]` as its parameter for train loss and `history.history[\"val_loss\"]` for validation loss.\n"
   ]
  },
  {
   "cell_type": "markdown",
   "metadata": {},
   "source": [
    "_TODO:_ Evaluate the trained model\n"
   ]
  },
  {
   "cell_type": "code",
   "execution_count": 49,
   "metadata": {},
   "outputs": [
    {
     "data": {
      "text/plain": [
       "array([[ 8376,    12],\n",
       "       [ 7659,    29],\n",
       "       [10717,     3],\n",
       "       ...,\n",
       "       [ 3409,    18],\n",
       "       [28761,    19],\n",
       "       [ 4973,    17]], dtype=int64)"
      ]
     },
     "execution_count": 49,
     "metadata": {},
     "output_type": "execute_result"
    }
   ],
   "source": [
    "x_train"
   ]
  },
  {
   "cell_type": "code",
   "execution_count": 57,
   "metadata": {},
   "outputs": [
    {
     "data": {
      "text/plain": [
       "()"
      ]
     },
     "execution_count": 57,
     "metadata": {},
     "output_type": "execute_result"
    }
   ],
   "source": [
    "np.shape(user_idx2id_dict)"
   ]
  },
  {
   "cell_type": "code",
   "execution_count": 31,
   "metadata": {},
   "outputs": [
    {
     "data": {
      "text/plain": [
       "array([[ 2,  2],\n",
       "       [ 2, 26],\n",
       "       [ 2, 39],\n",
       "       [ 2, 67],\n",
       "       [ 2, 34],\n",
       "       [ 2, 48],\n",
       "       [ 2,  4],\n",
       "       [ 2, 42],\n",
       "       [ 2, 37],\n",
       "       [ 2, 79],\n",
       "       [ 2, 29],\n",
       "       [ 2, 72],\n",
       "       [ 2, 21],\n",
       "       [ 2, 11],\n",
       "       [ 2, 98],\n",
       "       [ 2, 51],\n",
       "       [ 2,  7],\n",
       "       [ 2, 23],\n",
       "       [ 2, 12],\n",
       "       [ 2, 90],\n",
       "       [ 2, 41],\n",
       "       [ 2, 57],\n",
       "       [ 2, 94],\n",
       "       [ 2, 66],\n",
       "       [ 2, 17],\n",
       "       [ 2,  8],\n",
       "       [ 2,  5],\n",
       "       [ 2, 27],\n",
       "       [ 2, 49],\n",
       "       [ 2, 18],\n",
       "       [ 2,  6],\n",
       "       [ 2,  3],\n",
       "       [ 2, 61],\n",
       "       [ 2, 31],\n",
       "       [ 2, 56]], dtype=int64)"
      ]
     },
     "execution_count": 31,
     "metadata": {},
     "output_type": "execute_result"
    }
   ],
   "source": [
    "encoded_data[encoded_data['user']==2][['user','item']].to_numpy()"
   ]
  },
  {
   "cell_type": "code",
   "execution_count": 57,
   "metadata": {},
   "outputs": [],
   "source": [
    "ratings_df = pd.read_csv(\"ratings.csv\")\n",
    "course_genres_df = pd.read_csv(\"course_genres.csv\")\n",
    "user_ratings = ratings_df[ratings_df['user'] == 2]\n",
    "enrolled_course_ids = user_ratings['item'].to_list()\n",
    "all_courses = set(course_genres_df['COURSE_ID'].values)\n",
    "unknown_courses = list(all_courses.difference(enrolled_course_ids))\n",
    "test_dataset= pd.DataFrame({'user':[2]*len(unknown_courses),'item':unknown_courses,'rating':[4]*len(unknown_courses)})\n",
    "\n",
    "encoded_data, user_idx2id_dict, course_idx2id_dict = process_dataset(ratings_df)\n",
    "encoded_user_id=list(user_idx2id_dict.keys())[list(user_idx2id_dict.values()).index(2)]\n",
    "encoded_unknown_courses=[]\n",
    "for i in unknown_courses:\n",
    "    if i in ratings_df.item.unique():\n",
    "        encoded_unknown_courses.append(list(course_idx2id_dict.keys())[list(course_idx2id_dict.values()).index(i)])\n",
    "    else:\n",
    "        course_idx2id_dict[list(course_idx2id_dict.keys())[-1]+1]=i\n",
    "        encoded_unknown_courses.append(list(course_idx2id_dict.keys())[list(course_idx2id_dict.values()).index(i)])\n",
    "        \n",
    "encoded_test_dataset= pd.DataFrame({'user':[encoded_user_id]*len(encoded_unknown_courses),'item':encoded_unknown_courses,'rating':[4]*len(encoded_unknown_courses)})"
   ]
  },
  {
   "cell_type": "code",
   "execution_count": null,
   "metadata": {},
   "outputs": [
    {
     "data": {
      "text/html": [
       "<div>\n",
       "<style scoped>\n",
       "    .dataframe tbody tr th:only-of-type {\n",
       "        vertical-align: middle;\n",
       "    }\n",
       "\n",
       "    .dataframe tbody tr th {\n",
       "        vertical-align: top;\n",
       "    }\n",
       "\n",
       "    .dataframe thead th {\n",
       "        text-align: right;\n",
       "    }\n",
       "</style>\n",
       "<table border=\"1\" class=\"dataframe\">\n",
       "  <thead>\n",
       "    <tr style=\"text-align: right;\">\n",
       "      <th></th>\n",
       "      <th>user</th>\n",
       "      <th>item</th>\n",
       "      <th>rating</th>\n",
       "    </tr>\n",
       "  </thead>\n",
       "  <tbody>\n",
       "    <tr>\n",
       "      <th>0</th>\n",
       "      <td>4818</td>\n",
       "      <td>138</td>\n",
       "      <td>4</td>\n",
       "    </tr>\n",
       "    <tr>\n",
       "      <th>1</th>\n",
       "      <td>4818</td>\n",
       "      <td>139</td>\n",
       "      <td>4</td>\n",
       "    </tr>\n",
       "    <tr>\n",
       "      <th>2</th>\n",
       "      <td>4818</td>\n",
       "      <td>129</td>\n",
       "      <td>4</td>\n",
       "    </tr>\n",
       "    <tr>\n",
       "      <th>3</th>\n",
       "      <td>4818</td>\n",
       "      <td>140</td>\n",
       "      <td>4</td>\n",
       "    </tr>\n",
       "    <tr>\n",
       "      <th>4</th>\n",
       "      <td>4818</td>\n",
       "      <td>141</td>\n",
       "      <td>4</td>\n",
       "    </tr>\n",
       "    <tr>\n",
       "      <th>...</th>\n",
       "      <td>...</td>\n",
       "      <td>...</td>\n",
       "      <td>...</td>\n",
       "    </tr>\n",
       "    <tr>\n",
       "      <th>241</th>\n",
       "      <td>4818</td>\n",
       "      <td>304</td>\n",
       "      <td>4</td>\n",
       "    </tr>\n",
       "    <tr>\n",
       "      <th>242</th>\n",
       "      <td>4818</td>\n",
       "      <td>305</td>\n",
       "      <td>4</td>\n",
       "    </tr>\n",
       "    <tr>\n",
       "      <th>243</th>\n",
       "      <td>4818</td>\n",
       "      <td>306</td>\n",
       "      <td>4</td>\n",
       "    </tr>\n",
       "    <tr>\n",
       "      <th>244</th>\n",
       "      <td>4818</td>\n",
       "      <td>80</td>\n",
       "      <td>4</td>\n",
       "    </tr>\n",
       "    <tr>\n",
       "      <th>245</th>\n",
       "      <td>4818</td>\n",
       "      <td>113</td>\n",
       "      <td>4</td>\n",
       "    </tr>\n",
       "  </tbody>\n",
       "</table>\n",
       "<p>246 rows × 3 columns</p>\n",
       "</div>"
      ],
      "text/plain": [
       "     user  item  rating\n",
       "0    4818   138       4\n",
       "1    4818   139       4\n",
       "2    4818   129       4\n",
       "3    4818   140       4\n",
       "4    4818   141       4\n",
       "..    ...   ...     ...\n",
       "241  4818   304       4\n",
       "242  4818   305       4\n",
       "243  4818   306       4\n",
       "244  4818    80       4\n",
       "245  4818   113       4\n",
       "\n",
       "[246 rows x 3 columns]"
      ]
     },
     "execution_count": 58,
     "metadata": {},
     "output_type": "execute_result"
    }
   ],
   "source": [
    "encoded_test_dataset.sort_values(by='rating',inplace=True)"
   ]
  },
  {
   "cell_type": "code",
   "execution_count": 59,
   "metadata": {},
   "outputs": [
    {
     "ename": "InvalidArgumentError",
     "evalue": "Graph execution error:\n\nDetected at node recommender_net_1_1/item_bias_1/GatherV2 defined at (most recent call last):\n  File \"c:\\Users\\Vishal\\anaconda3\\envs\\tf-with_some_pip\\lib\\runpy.py\", line 197, in _run_module_as_main\n\n  File \"c:\\Users\\Vishal\\anaconda3\\envs\\tf-with_some_pip\\lib\\runpy.py\", line 87, in _run_code\n\n  File \"c:\\Users\\Vishal\\anaconda3\\envs\\tf-with_some_pip\\lib\\site-packages\\ipykernel_launcher.py\", line 18, in <module>\n\n  File \"c:\\Users\\Vishal\\anaconda3\\envs\\tf-with_some_pip\\lib\\site-packages\\traitlets\\config\\application.py\", line 1043, in launch_instance\n\n  File \"c:\\Users\\Vishal\\anaconda3\\envs\\tf-with_some_pip\\lib\\site-packages\\ipykernel\\kernelapp.py\", line 739, in start\n\n  File \"c:\\Users\\Vishal\\anaconda3\\envs\\tf-with_some_pip\\lib\\site-packages\\tornado\\platform\\asyncio.py\", line 205, in start\n\n  File \"c:\\Users\\Vishal\\anaconda3\\envs\\tf-with_some_pip\\lib\\asyncio\\base_events.py\", line 601, in run_forever\n\n  File \"c:\\Users\\Vishal\\anaconda3\\envs\\tf-with_some_pip\\lib\\asyncio\\base_events.py\", line 1905, in _run_once\n\n  File \"c:\\Users\\Vishal\\anaconda3\\envs\\tf-with_some_pip\\lib\\asyncio\\events.py\", line 80, in _run\n\n  File \"c:\\Users\\Vishal\\anaconda3\\envs\\tf-with_some_pip\\lib\\site-packages\\ipykernel\\kernelbase.py\", line 545, in dispatch_queue\n\n  File \"c:\\Users\\Vishal\\anaconda3\\envs\\tf-with_some_pip\\lib\\site-packages\\ipykernel\\kernelbase.py\", line 534, in process_one\n\n  File \"c:\\Users\\Vishal\\anaconda3\\envs\\tf-with_some_pip\\lib\\site-packages\\ipykernel\\kernelbase.py\", line 437, in dispatch_shell\n\n  File \"c:\\Users\\Vishal\\anaconda3\\envs\\tf-with_some_pip\\lib\\site-packages\\ipykernel\\ipkernel.py\", line 362, in execute_request\n\n  File \"c:\\Users\\Vishal\\anaconda3\\envs\\tf-with_some_pip\\lib\\site-packages\\ipykernel\\kernelbase.py\", line 778, in execute_request\n\n  File \"c:\\Users\\Vishal\\anaconda3\\envs\\tf-with_some_pip\\lib\\site-packages\\ipykernel\\ipkernel.py\", line 449, in do_execute\n\n  File \"c:\\Users\\Vishal\\anaconda3\\envs\\tf-with_some_pip\\lib\\site-packages\\ipykernel\\zmqshell.py\", line 549, in run_cell\n\n  File \"c:\\Users\\Vishal\\anaconda3\\envs\\tf-with_some_pip\\lib\\site-packages\\IPython\\core\\interactiveshell.py\", line 3009, in run_cell\n\n  File \"c:\\Users\\Vishal\\anaconda3\\envs\\tf-with_some_pip\\lib\\site-packages\\IPython\\core\\interactiveshell.py\", line 3064, in _run_cell\n\n  File \"c:\\Users\\Vishal\\anaconda3\\envs\\tf-with_some_pip\\lib\\site-packages\\IPython\\core\\async_helpers.py\", line 129, in _pseudo_sync_runner\n\n  File \"c:\\Users\\Vishal\\anaconda3\\envs\\tf-with_some_pip\\lib\\site-packages\\IPython\\core\\interactiveshell.py\", line 3269, in run_cell_async\n\n  File \"c:\\Users\\Vishal\\anaconda3\\envs\\tf-with_some_pip\\lib\\site-packages\\IPython\\core\\interactiveshell.py\", line 3448, in run_ast_nodes\n\n  File \"c:\\Users\\Vishal\\anaconda3\\envs\\tf-with_some_pip\\lib\\site-packages\\IPython\\core\\interactiveshell.py\", line 3508, in run_code\n\n  File \"C:\\Users\\Vishal\\AppData\\Local\\Temp\\ipykernel_25076\\391611790.py\", line 1, in <module>\n\n  File \"c:\\Users\\Vishal\\anaconda3\\envs\\tf-with_some_pip\\lib\\site-packages\\keras\\src\\utils\\traceback_utils.py\", line 117, in error_handler\n\n  File \"c:\\Users\\Vishal\\anaconda3\\envs\\tf-with_some_pip\\lib\\site-packages\\keras\\src\\backend\\tensorflow\\trainer.py\", line 566, in predict\n\n  File \"c:\\Users\\Vishal\\anaconda3\\envs\\tf-with_some_pip\\lib\\site-packages\\keras\\src\\backend\\tensorflow\\trainer.py\", line 260, in one_step_on_data_distributed\n\n  File \"c:\\Users\\Vishal\\anaconda3\\envs\\tf-with_some_pip\\lib\\site-packages\\keras\\src\\backend\\tensorflow\\trainer.py\", line 250, in one_step_on_data\n\n  File \"c:\\Users\\Vishal\\anaconda3\\envs\\tf-with_some_pip\\lib\\site-packages\\keras\\src\\backend\\tensorflow\\trainer.py\", line 107, in predict_step\n\n  File \"c:\\Users\\Vishal\\anaconda3\\envs\\tf-with_some_pip\\lib\\site-packages\\keras\\src\\utils\\traceback_utils.py\", line 117, in error_handler\n\n  File \"c:\\Users\\Vishal\\anaconda3\\envs\\tf-with_some_pip\\lib\\site-packages\\keras\\src\\layers\\layer.py\", line 936, in __call__\n\n  File \"c:\\Users\\Vishal\\anaconda3\\envs\\tf-with_some_pip\\lib\\site-packages\\keras\\src\\utils\\traceback_utils.py\", line 117, in error_handler\n\n  File \"c:\\Users\\Vishal\\anaconda3\\envs\\tf-with_some_pip\\lib\\site-packages\\keras\\src\\ops\\operation.py\", line 58, in __call__\n\n  File \"c:\\Users\\Vishal\\anaconda3\\envs\\tf-with_some_pip\\lib\\site-packages\\keras\\src\\utils\\traceback_utils.py\", line 156, in error_handler\n\n  File \"C:\\Users\\Vishal\\AppData\\Local\\Temp\\ipykernel_25076\\719585780.py\", line 98, in call\n\n  File \"c:\\Users\\Vishal\\anaconda3\\envs\\tf-with_some_pip\\lib\\site-packages\\keras\\src\\utils\\traceback_utils.py\", line 117, in error_handler\n\n  File \"c:\\Users\\Vishal\\anaconda3\\envs\\tf-with_some_pip\\lib\\site-packages\\keras\\src\\layers\\layer.py\", line 936, in __call__\n\n  File \"c:\\Users\\Vishal\\anaconda3\\envs\\tf-with_some_pip\\lib\\site-packages\\keras\\src\\utils\\traceback_utils.py\", line 117, in error_handler\n\n  File \"c:\\Users\\Vishal\\anaconda3\\envs\\tf-with_some_pip\\lib\\site-packages\\keras\\src\\ops\\operation.py\", line 58, in __call__\n\n  File \"c:\\Users\\Vishal\\anaconda3\\envs\\tf-with_some_pip\\lib\\site-packages\\keras\\src\\utils\\traceback_utils.py\", line 156, in error_handler\n\n  File \"c:\\Users\\Vishal\\anaconda3\\envs\\tf-with_some_pip\\lib\\site-packages\\keras\\src\\layers\\core\\embedding.py\", line 150, in call\n\n  File \"c:\\Users\\Vishal\\anaconda3\\envs\\tf-with_some_pip\\lib\\site-packages\\keras\\src\\ops\\numpy.py\", line 5581, in take\n\n  File \"c:\\Users\\Vishal\\anaconda3\\envs\\tf-with_some_pip\\lib\\site-packages\\keras\\src\\backend\\tensorflow\\numpy.py\", line 2274, in take\n\nindices[0] = 138 is not in [0, 126)\n\t [[{{node recommender_net_1_1/item_bias_1/GatherV2}}]] [Op:__inference_one_step_on_data_distributed_95278]",
     "output_type": "error",
     "traceback": [
      "\u001b[1;31m---------------------------------------------------------------------------\u001b[0m",
      "\u001b[1;31mInvalidArgumentError\u001b[0m                      Traceback (most recent call last)",
      "Cell \u001b[1;32mIn[59], line 1\u001b[0m\n\u001b[1;32m----> 1\u001b[0m y_pred\u001b[38;5;241m=\u001b[39m\u001b[43mmodel\u001b[49m\u001b[38;5;241;43m.\u001b[39;49m\u001b[43mpredict\u001b[49m\u001b[43m(\u001b[49m\u001b[43mencoded_test_dataset\u001b[49m\u001b[43m[\u001b[49m\u001b[43m[\u001b[49m\u001b[38;5;124;43m'\u001b[39;49m\u001b[38;5;124;43muser\u001b[39;49m\u001b[38;5;124;43m'\u001b[39;49m\u001b[43m,\u001b[49m\u001b[38;5;124;43m'\u001b[39;49m\u001b[38;5;124;43mitem\u001b[39;49m\u001b[38;5;124;43m'\u001b[39;49m\u001b[43m]\u001b[49m\u001b[43m]\u001b[49m\u001b[38;5;241;43m.\u001b[39;49m\u001b[43mto_numpy\u001b[49m\u001b[43m(\u001b[49m\u001b[43m)\u001b[49m\u001b[43m)\u001b[49m\n",
      "File \u001b[1;32mc:\\Users\\Vishal\\anaconda3\\envs\\tf-with_some_pip\\lib\\site-packages\\keras\\src\\utils\\traceback_utils.py:122\u001b[0m, in \u001b[0;36mfilter_traceback.<locals>.error_handler\u001b[1;34m(*args, **kwargs)\u001b[0m\n\u001b[0;32m    119\u001b[0m     filtered_tb \u001b[38;5;241m=\u001b[39m _process_traceback_frames(e\u001b[38;5;241m.\u001b[39m__traceback__)\n\u001b[0;32m    120\u001b[0m     \u001b[38;5;66;03m# To get the full stack trace, call:\u001b[39;00m\n\u001b[0;32m    121\u001b[0m     \u001b[38;5;66;03m# `keras.config.disable_traceback_filtering()`\u001b[39;00m\n\u001b[1;32m--> 122\u001b[0m     \u001b[38;5;28;01mraise\u001b[39;00m e\u001b[38;5;241m.\u001b[39mwith_traceback(filtered_tb) \u001b[38;5;28;01mfrom\u001b[39;00m \u001b[38;5;28;01mNone\u001b[39;00m\n\u001b[0;32m    123\u001b[0m \u001b[38;5;28;01mfinally\u001b[39;00m:\n\u001b[0;32m    124\u001b[0m     \u001b[38;5;28;01mdel\u001b[39;00m filtered_tb\n",
      "File \u001b[1;32mc:\\Users\\Vishal\\anaconda3\\envs\\tf-with_some_pip\\lib\\site-packages\\tensorflow\\python\\eager\\execute.py:53\u001b[0m, in \u001b[0;36mquick_execute\u001b[1;34m(op_name, num_outputs, inputs, attrs, ctx, name)\u001b[0m\n\u001b[0;32m     51\u001b[0m \u001b[38;5;28;01mtry\u001b[39;00m:\n\u001b[0;32m     52\u001b[0m   ctx\u001b[38;5;241m.\u001b[39mensure_initialized()\n\u001b[1;32m---> 53\u001b[0m   tensors \u001b[38;5;241m=\u001b[39m pywrap_tfe\u001b[38;5;241m.\u001b[39mTFE_Py_Execute(ctx\u001b[38;5;241m.\u001b[39m_handle, device_name, op_name,\n\u001b[0;32m     54\u001b[0m                                       inputs, attrs, num_outputs)\n\u001b[0;32m     55\u001b[0m \u001b[38;5;28;01mexcept\u001b[39;00m core\u001b[38;5;241m.\u001b[39m_NotOkStatusException \u001b[38;5;28;01mas\u001b[39;00m e:\n\u001b[0;32m     56\u001b[0m   \u001b[38;5;28;01mif\u001b[39;00m name \u001b[38;5;129;01mis\u001b[39;00m \u001b[38;5;129;01mnot\u001b[39;00m \u001b[38;5;28;01mNone\u001b[39;00m:\n",
      "\u001b[1;31mInvalidArgumentError\u001b[0m: Graph execution error:\n\nDetected at node recommender_net_1_1/item_bias_1/GatherV2 defined at (most recent call last):\n  File \"c:\\Users\\Vishal\\anaconda3\\envs\\tf-with_some_pip\\lib\\runpy.py\", line 197, in _run_module_as_main\n\n  File \"c:\\Users\\Vishal\\anaconda3\\envs\\tf-with_some_pip\\lib\\runpy.py\", line 87, in _run_code\n\n  File \"c:\\Users\\Vishal\\anaconda3\\envs\\tf-with_some_pip\\lib\\site-packages\\ipykernel_launcher.py\", line 18, in <module>\n\n  File \"c:\\Users\\Vishal\\anaconda3\\envs\\tf-with_some_pip\\lib\\site-packages\\traitlets\\config\\application.py\", line 1043, in launch_instance\n\n  File \"c:\\Users\\Vishal\\anaconda3\\envs\\tf-with_some_pip\\lib\\site-packages\\ipykernel\\kernelapp.py\", line 739, in start\n\n  File \"c:\\Users\\Vishal\\anaconda3\\envs\\tf-with_some_pip\\lib\\site-packages\\tornado\\platform\\asyncio.py\", line 205, in start\n\n  File \"c:\\Users\\Vishal\\anaconda3\\envs\\tf-with_some_pip\\lib\\asyncio\\base_events.py\", line 601, in run_forever\n\n  File \"c:\\Users\\Vishal\\anaconda3\\envs\\tf-with_some_pip\\lib\\asyncio\\base_events.py\", line 1905, in _run_once\n\n  File \"c:\\Users\\Vishal\\anaconda3\\envs\\tf-with_some_pip\\lib\\asyncio\\events.py\", line 80, in _run\n\n  File \"c:\\Users\\Vishal\\anaconda3\\envs\\tf-with_some_pip\\lib\\site-packages\\ipykernel\\kernelbase.py\", line 545, in dispatch_queue\n\n  File \"c:\\Users\\Vishal\\anaconda3\\envs\\tf-with_some_pip\\lib\\site-packages\\ipykernel\\kernelbase.py\", line 534, in process_one\n\n  File \"c:\\Users\\Vishal\\anaconda3\\envs\\tf-with_some_pip\\lib\\site-packages\\ipykernel\\kernelbase.py\", line 437, in dispatch_shell\n\n  File \"c:\\Users\\Vishal\\anaconda3\\envs\\tf-with_some_pip\\lib\\site-packages\\ipykernel\\ipkernel.py\", line 362, in execute_request\n\n  File \"c:\\Users\\Vishal\\anaconda3\\envs\\tf-with_some_pip\\lib\\site-packages\\ipykernel\\kernelbase.py\", line 778, in execute_request\n\n  File \"c:\\Users\\Vishal\\anaconda3\\envs\\tf-with_some_pip\\lib\\site-packages\\ipykernel\\ipkernel.py\", line 449, in do_execute\n\n  File \"c:\\Users\\Vishal\\anaconda3\\envs\\tf-with_some_pip\\lib\\site-packages\\ipykernel\\zmqshell.py\", line 549, in run_cell\n\n  File \"c:\\Users\\Vishal\\anaconda3\\envs\\tf-with_some_pip\\lib\\site-packages\\IPython\\core\\interactiveshell.py\", line 3009, in run_cell\n\n  File \"c:\\Users\\Vishal\\anaconda3\\envs\\tf-with_some_pip\\lib\\site-packages\\IPython\\core\\interactiveshell.py\", line 3064, in _run_cell\n\n  File \"c:\\Users\\Vishal\\anaconda3\\envs\\tf-with_some_pip\\lib\\site-packages\\IPython\\core\\async_helpers.py\", line 129, in _pseudo_sync_runner\n\n  File \"c:\\Users\\Vishal\\anaconda3\\envs\\tf-with_some_pip\\lib\\site-packages\\IPython\\core\\interactiveshell.py\", line 3269, in run_cell_async\n\n  File \"c:\\Users\\Vishal\\anaconda3\\envs\\tf-with_some_pip\\lib\\site-packages\\IPython\\core\\interactiveshell.py\", line 3448, in run_ast_nodes\n\n  File \"c:\\Users\\Vishal\\anaconda3\\envs\\tf-with_some_pip\\lib\\site-packages\\IPython\\core\\interactiveshell.py\", line 3508, in run_code\n\n  File \"C:\\Users\\Vishal\\AppData\\Local\\Temp\\ipykernel_25076\\391611790.py\", line 1, in <module>\n\n  File \"c:\\Users\\Vishal\\anaconda3\\envs\\tf-with_some_pip\\lib\\site-packages\\keras\\src\\utils\\traceback_utils.py\", line 117, in error_handler\n\n  File \"c:\\Users\\Vishal\\anaconda3\\envs\\tf-with_some_pip\\lib\\site-packages\\keras\\src\\backend\\tensorflow\\trainer.py\", line 566, in predict\n\n  File \"c:\\Users\\Vishal\\anaconda3\\envs\\tf-with_some_pip\\lib\\site-packages\\keras\\src\\backend\\tensorflow\\trainer.py\", line 260, in one_step_on_data_distributed\n\n  File \"c:\\Users\\Vishal\\anaconda3\\envs\\tf-with_some_pip\\lib\\site-packages\\keras\\src\\backend\\tensorflow\\trainer.py\", line 250, in one_step_on_data\n\n  File \"c:\\Users\\Vishal\\anaconda3\\envs\\tf-with_some_pip\\lib\\site-packages\\keras\\src\\backend\\tensorflow\\trainer.py\", line 107, in predict_step\n\n  File \"c:\\Users\\Vishal\\anaconda3\\envs\\tf-with_some_pip\\lib\\site-packages\\keras\\src\\utils\\traceback_utils.py\", line 117, in error_handler\n\n  File \"c:\\Users\\Vishal\\anaconda3\\envs\\tf-with_some_pip\\lib\\site-packages\\keras\\src\\layers\\layer.py\", line 936, in __call__\n\n  File \"c:\\Users\\Vishal\\anaconda3\\envs\\tf-with_some_pip\\lib\\site-packages\\keras\\src\\utils\\traceback_utils.py\", line 117, in error_handler\n\n  File \"c:\\Users\\Vishal\\anaconda3\\envs\\tf-with_some_pip\\lib\\site-packages\\keras\\src\\ops\\operation.py\", line 58, in __call__\n\n  File \"c:\\Users\\Vishal\\anaconda3\\envs\\tf-with_some_pip\\lib\\site-packages\\keras\\src\\utils\\traceback_utils.py\", line 156, in error_handler\n\n  File \"C:\\Users\\Vishal\\AppData\\Local\\Temp\\ipykernel_25076\\719585780.py\", line 98, in call\n\n  File \"c:\\Users\\Vishal\\anaconda3\\envs\\tf-with_some_pip\\lib\\site-packages\\keras\\src\\utils\\traceback_utils.py\", line 117, in error_handler\n\n  File \"c:\\Users\\Vishal\\anaconda3\\envs\\tf-with_some_pip\\lib\\site-packages\\keras\\src\\layers\\layer.py\", line 936, in __call__\n\n  File \"c:\\Users\\Vishal\\anaconda3\\envs\\tf-with_some_pip\\lib\\site-packages\\keras\\src\\utils\\traceback_utils.py\", line 117, in error_handler\n\n  File \"c:\\Users\\Vishal\\anaconda3\\envs\\tf-with_some_pip\\lib\\site-packages\\keras\\src\\ops\\operation.py\", line 58, in __call__\n\n  File \"c:\\Users\\Vishal\\anaconda3\\envs\\tf-with_some_pip\\lib\\site-packages\\keras\\src\\utils\\traceback_utils.py\", line 156, in error_handler\n\n  File \"c:\\Users\\Vishal\\anaconda3\\envs\\tf-with_some_pip\\lib\\site-packages\\keras\\src\\layers\\core\\embedding.py\", line 150, in call\n\n  File \"c:\\Users\\Vishal\\anaconda3\\envs\\tf-with_some_pip\\lib\\site-packages\\keras\\src\\ops\\numpy.py\", line 5581, in take\n\n  File \"c:\\Users\\Vishal\\anaconda3\\envs\\tf-with_some_pip\\lib\\site-packages\\keras\\src\\backend\\tensorflow\\numpy.py\", line 2274, in take\n\nindices[0] = 138 is not in [0, 126)\n\t [[{{node recommender_net_1_1/item_bias_1/GatherV2}}]] [Op:__inference_one_step_on_data_distributed_95278]"
     ]
    }
   ],
   "source": [
    "y_pred=model.predict(encoded_test_dataset[['user','item']].to_numpy())"
   ]
  },
  {
   "cell_type": "code",
   "execution_count": 52,
   "metadata": {},
   "outputs": [
    {
     "data": {
      "text/plain": [
       "(35, 2)"
      ]
     },
     "execution_count": 52,
     "metadata": {},
     "output_type": "execute_result"
    }
   ],
   "source": [
    "np.shape(encoded_data[encoded_data['user']==2][['user','item']].to_numpy())"
   ]
  },
  {
   "cell_type": "code",
   "execution_count": 53,
   "metadata": {},
   "outputs": [
    {
     "data": {
      "text/plain": [
       "(186644, 2)"
      ]
     },
     "execution_count": 53,
     "metadata": {},
     "output_type": "execute_result"
    }
   ],
   "source": [
    "np.shape(x_train)"
   ]
  },
  {
   "cell_type": "code",
   "execution_count": 25,
   "metadata": {},
   "outputs": [
    {
     "data": {
      "text/plain": [
       "array([[4.129721 ],\n",
       "       [4.1394806],\n",
       "       [4.117153 ],\n",
       "       [4.1138372],\n",
       "       [4.1268735],\n",
       "       [4.1601696],\n",
       "       [4.130589 ],\n",
       "       [4.0948315],\n",
       "       [4.129633 ],\n",
       "       [4.1021376],\n",
       "       [4.1142044],\n",
       "       [4.11471  ],\n",
       "       [4.09359  ],\n",
       "       [4.129404 ],\n",
       "       [4.1473503],\n",
       "       [4.136633 ],\n",
       "       [4.1234684],\n",
       "       [4.1242385],\n",
       "       [4.1378217],\n",
       "       [4.1453505],\n",
       "       [4.10397  ],\n",
       "       [4.1161284],\n",
       "       [4.1273904],\n",
       "       [4.117607 ],\n",
       "       [4.109945 ],\n",
       "       [4.1307654],\n",
       "       [4.100795 ],\n",
       "       [4.1266975],\n",
       "       [4.168638 ],\n",
       "       [4.1250787],\n",
       "       [4.126605 ],\n",
       "       [4.1167984],\n",
       "       [4.1348476],\n",
       "       [4.157608 ],\n",
       "       [4.1694584]], dtype=float32)"
      ]
     },
     "execution_count": 25,
     "metadata": {},
     "output_type": "execute_result"
    }
   ],
   "source": [
    "(y_pred*2)+3"
   ]
  },
  {
   "cell_type": "code",
   "execution_count": 45,
   "metadata": {},
   "outputs": [
    {
     "data": {
      "text/html": [
       "<div>\n",
       "<style scoped>\n",
       "    .dataframe tbody tr th:only-of-type {\n",
       "        vertical-align: middle;\n",
       "    }\n",
       "\n",
       "    .dataframe tbody tr th {\n",
       "        vertical-align: top;\n",
       "    }\n",
       "\n",
       "    .dataframe thead th {\n",
       "        text-align: right;\n",
       "    }\n",
       "</style>\n",
       "<table border=\"1\" class=\"dataframe\">\n",
       "  <thead>\n",
       "    <tr style=\"text-align: right;\">\n",
       "      <th></th>\n",
       "      <th>user</th>\n",
       "      <th>item</th>\n",
       "      <th>rating</th>\n",
       "    </tr>\n",
       "  </thead>\n",
       "  <tbody>\n",
       "    <tr>\n",
       "      <th>0</th>\n",
       "      <td>0</td>\n",
       "      <td>0</td>\n",
       "      <td>5</td>\n",
       "    </tr>\n",
       "    <tr>\n",
       "      <th>1</th>\n",
       "      <td>1</td>\n",
       "      <td>1</td>\n",
       "      <td>3</td>\n",
       "    </tr>\n",
       "    <tr>\n",
       "      <th>2</th>\n",
       "      <td>2</td>\n",
       "      <td>2</td>\n",
       "      <td>5</td>\n",
       "    </tr>\n",
       "    <tr>\n",
       "      <th>3</th>\n",
       "      <td>3</td>\n",
       "      <td>3</td>\n",
       "      <td>5</td>\n",
       "    </tr>\n",
       "    <tr>\n",
       "      <th>4</th>\n",
       "      <td>4</td>\n",
       "      <td>4</td>\n",
       "      <td>3</td>\n",
       "    </tr>\n",
       "    <tr>\n",
       "      <th>...</th>\n",
       "      <td>...</td>\n",
       "      <td>...</td>\n",
       "      <td>...</td>\n",
       "    </tr>\n",
       "    <tr>\n",
       "      <th>233301</th>\n",
       "      <td>9938</td>\n",
       "      <td>4</td>\n",
       "      <td>5</td>\n",
       "    </tr>\n",
       "    <tr>\n",
       "      <th>233302</th>\n",
       "      <td>6421</td>\n",
       "      <td>23</td>\n",
       "      <td>5</td>\n",
       "    </tr>\n",
       "    <tr>\n",
       "      <th>233303</th>\n",
       "      <td>9138</td>\n",
       "      <td>60</td>\n",
       "      <td>3</td>\n",
       "    </tr>\n",
       "    <tr>\n",
       "      <th>233304</th>\n",
       "      <td>8410</td>\n",
       "      <td>8</td>\n",
       "      <td>4</td>\n",
       "    </tr>\n",
       "    <tr>\n",
       "      <th>233305</th>\n",
       "      <td>14843</td>\n",
       "      <td>6</td>\n",
       "      <td>4</td>\n",
       "    </tr>\n",
       "  </tbody>\n",
       "</table>\n",
       "<p>233306 rows × 3 columns</p>\n",
       "</div>"
      ],
      "text/plain": [
       "         user  item  rating\n",
       "0           0     0       5\n",
       "1           1     1       3\n",
       "2           2     2       5\n",
       "3           3     3       5\n",
       "4           4     4       3\n",
       "...       ...   ...     ...\n",
       "233301   9938     4       5\n",
       "233302   6421    23       5\n",
       "233303   9138    60       3\n",
       "233304   8410     8       4\n",
       "233305  14843     6       4\n",
       "\n",
       "[233306 rows x 3 columns]"
      ]
     },
     "execution_count": 45,
     "metadata": {},
     "output_type": "execute_result"
    }
   ],
   "source": [
    "encoded_data"
   ]
  },
  {
   "cell_type": "code",
   "execution_count": null,
   "metadata": {},
   "outputs": [],
   "source": [
    "encoded_data, user_idx2id_dict, course_idx2id_dict"
   ]
  },
  {
   "cell_type": "code",
   "execution_count": null,
   "metadata": {},
   "outputs": [
    {
     "data": {
      "text/plain": [
       "126"
      ]
     },
     "execution_count": 50,
     "metadata": {},
     "output_type": "execute_result"
    }
   ],
   "source": [
    "list(course_idx2id_dict.keys())[-1]"
   ]
  },
  {
   "cell_type": "code",
   "execution_count": null,
   "metadata": {},
   "outputs": [],
   "source": []
  },
  {
   "cell_type": "code",
   "execution_count": 46,
   "metadata": {},
   "outputs": [
    {
     "data": {
      "text/plain": [
       "{0: 'CC0101EN',\n",
       " 1: 'CL0101EN',\n",
       " 2: 'ML0120ENv3',\n",
       " 3: 'BD0211EN',\n",
       " 4: 'DS0101EN',\n",
       " 5: 'ST0101EN',\n",
       " 6: 'DS0301EN',\n",
       " 7: 'DS0105EN',\n",
       " 8: 'BD0141EN',\n",
       " 9: 'CO0201EN',\n",
       " 10: 'CB0103EN',\n",
       " 11: 'DV0101EN',\n",
       " 12: 'DS0103EN',\n",
       " 13: 'BD0123EN',\n",
       " 14: 'BC0101EN',\n",
       " 15: 'TA0105EN',\n",
       " 16: 'ML0151EN',\n",
       " 17: 'BD0101EN',\n",
       " 18: 'BD0111EN',\n",
       " 19: 'BC0201EN',\n",
       " 20: 'ML0122ENv1',\n",
       " 21: 'BD0131EN',\n",
       " 22: 'BD0121EN',\n",
       " 23: 'PY0101EN',\n",
       " 24: 'BD0145EN',\n",
       " 25: 'ML0101EN',\n",
       " 26: 'CO0301EN',\n",
       " 27: 'ML0101ENv3',\n",
       " 28: 'DB0151EN',\n",
       " 29: 'CO0101EN',\n",
       " 30: 'RP0101EN',\n",
       " 31: 'SC0101EN',\n",
       " 32: 'PA0101EN',\n",
       " 33: 'LB0101ENv1',\n",
       " 34: 'ML0103EN',\n",
       " 35: 'CC0150EN',\n",
       " 36: 'DS0110EN',\n",
       " 37: 'DA0101EN',\n",
       " 38: 'ML0122EN',\n",
       " 39: 'ML0115EN',\n",
       " 40: 'ML0111EN',\n",
       " 41: 'ML0109EN',\n",
       " 42: 'BD0223EN',\n",
       " 43: 'BC0202EN',\n",
       " 44: 'CC0103EN',\n",
       " 45: 'COM001EN',\n",
       " 46: 'DB0101EN',\n",
       " 47: 'CNSC02EN',\n",
       " 48: 'DV0151EN',\n",
       " 49: 'RP0105EN',\n",
       " 50: 'LB0109ENv1',\n",
       " 51: 'SC0105EN',\n",
       " 52: 'RP0103',\n",
       " 53: 'WA0101EN',\n",
       " 54: 'RAVSCTEST1',\n",
       " 55: 'RP0151EN',\n",
       " 56: 'CO0401EN',\n",
       " 57: 'SC0103EN',\n",
       " 58: 'LB0111EN',\n",
       " 59: 'DS0132EN',\n",
       " 60: 'CB0105ENv1',\n",
       " 61: 'CC0201EN',\n",
       " 62: 'ML0120ENv2',\n",
       " 63: 'BD0143EN',\n",
       " 64: 'LB0105ENv1',\n",
       " 65: 'ML0201EN',\n",
       " 66: 'BD0115EN',\n",
       " 67: 'BD0221EN',\n",
       " 68: 'ML0120EN',\n",
       " 69: 'BD0137EN',\n",
       " 70: 'DAI101EN',\n",
       " 71: 'RP0103EN',\n",
       " 72: 'BD0212EN',\n",
       " 73: 'BD0135EN',\n",
       " 74: 'CC0250EN',\n",
       " 75: 'TA0105',\n",
       " 76: 'DS0321EN',\n",
       " 77: 'BD0133EN',\n",
       " 78: 'LB0107ENv1',\n",
       " 79: 'ML0122ENv3',\n",
       " 80: 'SECM03EN',\n",
       " 81: 'TMP0105EN',\n",
       " 82: 'BD0151EN',\n",
       " 83: 'PA0109EN',\n",
       " 84: 'DJ0101EN',\n",
       " 85: 'CP0101EN',\n",
       " 86: 'CB0101EN',\n",
       " 87: 'EE0101EN',\n",
       " 88: 'CC0210EN',\n",
       " 89: 'AI0111EN',\n",
       " 90: 'DW0101EN',\n",
       " 91: 'HCC105EN',\n",
       " 92: 'LB0103ENv1',\n",
       " 93: 'SW0101EN',\n",
       " 94: 'DS0201EN',\n",
       " 95: 'HCC104EN',\n",
       " 96: 'SW0201EN',\n",
       " 97: 'TA0106EN',\n",
       " 98: 'DE0205EN',\n",
       " 99: 'IT0101EN',\n",
       " 100: 'OS0101EN',\n",
       " 101: 'BD0153EN',\n",
       " 102: 'WA0103EN',\n",
       " 103: 'DP0101EN',\n",
       " 104: 'TMP0106',\n",
       " 105: 'CB0201EN',\n",
       " 106: 'GPXX0T0FEN',\n",
       " 107: 'DB0111EN',\n",
       " 108: 'PHPM002EN',\n",
       " 109: 'TMP107',\n",
       " 110: 'DA0201EN',\n",
       " 111: 'ST0201EN',\n",
       " 112: 'DX0106EN',\n",
       " 113: 'CC0271EN',\n",
       " 114: 'DX0107EN',\n",
       " 115: 'BENTEST4',\n",
       " 116: 'PA0107EN',\n",
       " 117: 'PA0103EN',\n",
       " 118: 'DA0151EN',\n",
       " 119: 'ST0301EN',\n",
       " 120: 'TMP0101EN',\n",
       " 121: 'DB0113EN',\n",
       " 122: 'DX0108EN',\n",
       " 123: 'DS0107',\n",
       " 124: 'DB0115EN',\n",
       " 125: 'GPXX0QR3EN'}"
      ]
     },
     "execution_count": 46,
     "metadata": {},
     "output_type": "execute_result"
    }
   ],
   "source": [
    "course_idx2id_dict"
   ]
  },
  {
   "cell_type": "code",
   "execution_count": 26,
   "metadata": {},
   "outputs": [
    {
     "data": {
      "text/plain": [
       "0         1889878\n",
       "1         1342067\n",
       "2         1990814\n",
       "3          380098\n",
       "4          779563\n",
       "           ...   \n",
       "233301    1540125\n",
       "233302    1250651\n",
       "233303    1003832\n",
       "233304     922065\n",
       "233305    1596120\n",
       "Name: user, Length: 233306, dtype: int64"
      ]
     },
     "execution_count": 26,
     "metadata": {},
     "output_type": "execute_result"
    }
   ],
   "source": [
    "encoded_data.user.map(user_idx2id_dict)"
   ]
  },
  {
   "cell_type": "code",
   "execution_count": 44,
   "metadata": {},
   "outputs": [
    {
     "data": {
      "text/plain": [
       "4818"
      ]
     },
     "execution_count": 44,
     "metadata": {},
     "output_type": "execute_result"
    }
   ],
   "source": [
    "list(user_idx2id_dict.keys())[list(user_idx2id_dict.values()).index(2)]"
   ]
  },
  {
   "cell_type": "code",
   "execution_count": 42,
   "metadata": {},
   "outputs": [
    {
     "data": {
      "text/plain": [
       "{0: 1889878,\n",
       " 1: 1342067,\n",
       " 2: 1990814,\n",
       " 3: 380098,\n",
       " 4: 779563,\n",
       " 5: 1390655,\n",
       " 6: 367075,\n",
       " 7: 1858700,\n",
       " 8: 600100,\n",
       " 9: 623377,\n",
       " 10: 766893,\n",
       " 11: 1248617,\n",
       " 12: 1633385,\n",
       " 13: 1706535,\n",
       " 14: 1804498,\n",
       " 15: 1474302,\n",
       " 16: 1602482,\n",
       " 17: 301887,\n",
       " 18: 633216,\n",
       " 19: 1794016,\n",
       " 20: 2098743,\n",
       " 21: 1143622,\n",
       " 22: 1007849,\n",
       " 23: 1555457,\n",
       " 24: 946915,\n",
       " 25: 892274,\n",
       " 26: 551690,\n",
       " 27: 750076,\n",
       " 28: 789341,\n",
       " 29: 773165,\n",
       " 30: 794886,\n",
       " 31: 1342117,\n",
       " 32: 640330,\n",
       " 33: 1034313,\n",
       " 34: 961488,\n",
       " 35: 1246308,\n",
       " 36: 979308,\n",
       " 37: 634975,\n",
       " 38: 1383971,\n",
       " 39: 685972,\n",
       " 40: 630451,\n",
       " 41: 1516838,\n",
       " 42: 1132926,\n",
       " 43: 1281219,\n",
       " 44: 1741605,\n",
       " 45: 526671,\n",
       " 46: 1319023,\n",
       " 47: 1208933,\n",
       " 48: 784113,\n",
       " 49: 1470621,\n",
       " 50: 1261677,\n",
       " 51: 687207,\n",
       " 52: 990745,\n",
       " 53: 1624397,\n",
       " 54: 735157,\n",
       " 55: 972170,\n",
       " 56: 876477,\n",
       " 57: 1448499,\n",
       " 58: 674478,\n",
       " 59: 1543855,\n",
       " 60: 975617,\n",
       " 61: 1205605,\n",
       " 62: 1033776,\n",
       " 63: 640160,\n",
       " 64: 266643,\n",
       " 65: 1360597,\n",
       " 66: 1148660,\n",
       " 67: 557100,\n",
       " 68: 604450,\n",
       " 69: 300554,\n",
       " 70: 943707,\n",
       " 71: 83447,\n",
       " 72: 763941,\n",
       " 73: 1802609,\n",
       " 74: 922120,\n",
       " 75: 1053038,\n",
       " 76: 1215831,\n",
       " 77: 1412110,\n",
       " 78: 1558812,\n",
       " 79: 293749,\n",
       " 80: 1616417,\n",
       " 81: 1522695,\n",
       " 82: 1059923,\n",
       " 83: 675198,\n",
       " 84: 517703,\n",
       " 85: 1921898,\n",
       " 86: 1290142,\n",
       " 87: 1464285,\n",
       " 88: 773287,\n",
       " 89: 1258482,\n",
       " 90: 1681228,\n",
       " 91: 899040,\n",
       " 92: 512050,\n",
       " 93: 1133659,\n",
       " 94: 1822535,\n",
       " 95: 1211012,\n",
       " 96: 224714,\n",
       " 97: 962651,\n",
       " 98: 504516,\n",
       " 99: 276458,\n",
       " 100: 494864,\n",
       " 101: 1484697,\n",
       " 102: 1383,\n",
       " 103: 1515789,\n",
       " 104: 1430270,\n",
       " 105: 1377261,\n",
       " 106: 1061066,\n",
       " 107: 1543302,\n",
       " 108: 876408,\n",
       " 109: 440679,\n",
       " 110: 1181004,\n",
       " 111: 2099010,\n",
       " 112: 970043,\n",
       " 113: 1021897,\n",
       " 114: 1761070,\n",
       " 115: 1667690,\n",
       " 116: 433021,\n",
       " 117: 1385634,\n",
       " 118: 595318,\n",
       " 119: 1337529,\n",
       " 120: 1538193,\n",
       " 121: 1303201,\n",
       " 122: 1259402,\n",
       " 123: 894128,\n",
       " 124: 1185713,\n",
       " 125: 508372,\n",
       " 126: 1283615,\n",
       " 127: 1136890,\n",
       " 128: 977400,\n",
       " 129: 1484095,\n",
       " 130: 1212987,\n",
       " 131: 1838676,\n",
       " 132: 1756579,\n",
       " 133: 1797865,\n",
       " 134: 1072520,\n",
       " 135: 313895,\n",
       " 136: 28,\n",
       " 137: 1897257,\n",
       " 138: 962254,\n",
       " 139: 1309446,\n",
       " 140: 1193731,\n",
       " 141: 1364084,\n",
       " 142: 1284324,\n",
       " 143: 484982,\n",
       " 144: 761785,\n",
       " 145: 1850652,\n",
       " 146: 879134,\n",
       " 147: 768512,\n",
       " 148: 476389,\n",
       " 149: 947325,\n",
       " 150: 1069545,\n",
       " 151: 828900,\n",
       " 152: 1510102,\n",
       " 153: 146229,\n",
       " 154: 1209989,\n",
       " 155: 1805227,\n",
       " 156: 756273,\n",
       " 157: 774745,\n",
       " 158: 1237528,\n",
       " 159: 1978202,\n",
       " 160: 1621503,\n",
       " 161: 499228,\n",
       " 162: 1439422,\n",
       " 163: 622630,\n",
       " 164: 887813,\n",
       " 165: 928820,\n",
       " 166: 1276733,\n",
       " 167: 1802998,\n",
       " 168: 928569,\n",
       " 169: 1081939,\n",
       " 170: 644270,\n",
       " 171: 1186034,\n",
       " 172: 1403006,\n",
       " 173: 1746036,\n",
       " 174: 777778,\n",
       " 175: 1813704,\n",
       " 176: 941056,\n",
       " 177: 1571024,\n",
       " 178: 742989,\n",
       " 179: 1385786,\n",
       " 180: 666750,\n",
       " 181: 1473220,\n",
       " 182: 940733,\n",
       " 183: 1158837,\n",
       " 184: 488395,\n",
       " 185: 320581,\n",
       " 186: 512904,\n",
       " 187: 759038,\n",
       " 188: 562272,\n",
       " 189: 1740936,\n",
       " 190: 1942118,\n",
       " 191: 328980,\n",
       " 192: 1017364,\n",
       " 193: 1442369,\n",
       " 194: 271066,\n",
       " 195: 1314933,\n",
       " 196: 393930,\n",
       " 197: 1355457,\n",
       " 198: 161857,\n",
       " 199: 1084648,\n",
       " 200: 1795635,\n",
       " 201: 1097869,\n",
       " 202: 696934,\n",
       " 203: 1548162,\n",
       " 204: 1979095,\n",
       " 205: 924125,\n",
       " 206: 1726681,\n",
       " 207: 485303,\n",
       " 208: 600992,\n",
       " 209: 1292757,\n",
       " 210: 2084652,\n",
       " 211: 775904,\n",
       " 212: 1969671,\n",
       " 213: 1063960,\n",
       " 214: 693475,\n",
       " 215: 735471,\n",
       " 216: 1355132,\n",
       " 217: 1751502,\n",
       " 218: 769670,\n",
       " 219: 1527550,\n",
       " 220: 1646234,\n",
       " 221: 57,\n",
       " 222: 1187764,\n",
       " 223: 559369,\n",
       " 224: 689730,\n",
       " 225: 945038,\n",
       " 226: 547302,\n",
       " 227: 145369,\n",
       " 228: 1369350,\n",
       " 229: 692602,\n",
       " 230: 1630024,\n",
       " 231: 663151,\n",
       " 232: 1697931,\n",
       " 233: 504945,\n",
       " 234: 791058,\n",
       " 235: 1562256,\n",
       " 236: 1402010,\n",
       " 237: 288541,\n",
       " 238: 794434,\n",
       " 239: 1231600,\n",
       " 240: 1132380,\n",
       " 241: 470972,\n",
       " 242: 1459922,\n",
       " 243: 1251843,\n",
       " 244: 724898,\n",
       " 245: 487155,\n",
       " 246: 624248,\n",
       " 247: 743896,\n",
       " 248: 1872291,\n",
       " 249: 2076616,\n",
       " 250: 615653,\n",
       " 251: 1535513,\n",
       " 252: 1290676,\n",
       " 253: 1583374,\n",
       " 254: 1427485,\n",
       " 255: 448535,\n",
       " 256: 1207401,\n",
       " 257: 1483175,\n",
       " 258: 2064387,\n",
       " 259: 916174,\n",
       " 260: 1746885,\n",
       " 261: 1082257,\n",
       " 262: 1017156,\n",
       " 263: 1137644,\n",
       " 264: 1696727,\n",
       " 265: 1006134,\n",
       " 266: 1010922,\n",
       " 267: 1157155,\n",
       " 268: 949588,\n",
       " 269: 1144896,\n",
       " 270: 1208537,\n",
       " 271: 1461298,\n",
       " 272: 1979217,\n",
       " 273: 1464410,\n",
       " 274: 1755569,\n",
       " 275: 1664634,\n",
       " 276: 85625,\n",
       " 277: 1889420,\n",
       " 278: 1289595,\n",
       " 279: 943591,\n",
       " 280: 761646,\n",
       " 281: 936632,\n",
       " 282: 1353472,\n",
       " 283: 1158272,\n",
       " 284: 984344,\n",
       " 285: 937163,\n",
       " 286: 1949115,\n",
       " 287: 1475474,\n",
       " 288: 1675271,\n",
       " 289: 630371,\n",
       " 290: 728512,\n",
       " 291: 1017517,\n",
       " 292: 435195,\n",
       " 293: 1992337,\n",
       " 294: 486106,\n",
       " 295: 784519,\n",
       " 296: 1789708,\n",
       " 297: 1362723,\n",
       " 298: 1094891,\n",
       " 299: 1577487,\n",
       " 300: 828895,\n",
       " 301: 1292069,\n",
       " 302: 2054643,\n",
       " 303: 1209248,\n",
       " 304: 560637,\n",
       " 305: 1082516,\n",
       " 306: 1172748,\n",
       " 307: 58646,\n",
       " 308: 1309293,\n",
       " 309: 1749361,\n",
       " 310: 1302803,\n",
       " 311: 913736,\n",
       " 312: 615578,\n",
       " 313: 275479,\n",
       " 314: 977723,\n",
       " 315: 666803,\n",
       " 316: 1697452,\n",
       " 317: 1087786,\n",
       " 318: 598867,\n",
       " 319: 1021600,\n",
       " 320: 883153,\n",
       " 321: 1449686,\n",
       " 322: 918733,\n",
       " 323: 660404,\n",
       " 324: 915464,\n",
       " 325: 1472827,\n",
       " 326: 634462,\n",
       " 327: 1117849,\n",
       " 328: 1832901,\n",
       " 329: 1186051,\n",
       " 330: 1478632,\n",
       " 331: 568429,\n",
       " 332: 1651380,\n",
       " 333: 569275,\n",
       " 334: 920462,\n",
       " 335: 1608122,\n",
       " 336: 483590,\n",
       " 337: 1220938,\n",
       " 338: 2003698,\n",
       " 339: 1548074,\n",
       " 340: 647181,\n",
       " 341: 943157,\n",
       " 342: 2064484,\n",
       " 343: 172084,\n",
       " 344: 970117,\n",
       " 345: 708096,\n",
       " 346: 2061526,\n",
       " 347: 984380,\n",
       " 348: 179755,\n",
       " 349: 889234,\n",
       " 350: 1009666,\n",
       " 351: 1645284,\n",
       " 352: 762884,\n",
       " 353: 1062656,\n",
       " 354: 1803463,\n",
       " 355: 1411082,\n",
       " 356: 946488,\n",
       " 357: 1751919,\n",
       " 358: 359194,\n",
       " 359: 1132064,\n",
       " 360: 296975,\n",
       " 361: 367731,\n",
       " 362: 1080859,\n",
       " 363: 1267807,\n",
       " 364: 1244216,\n",
       " 365: 1871925,\n",
       " 366: 1208288,\n",
       " 367: 1988293,\n",
       " 368: 1094366,\n",
       " 369: 590871,\n",
       " 370: 1008900,\n",
       " 371: 1585570,\n",
       " 372: 1941449,\n",
       " 373: 1456409,\n",
       " 374: 621411,\n",
       " 375: 1087212,\n",
       " 376: 430753,\n",
       " 377: 1852388,\n",
       " 378: 1001055,\n",
       " 379: 979805,\n",
       " 380: 1136802,\n",
       " 381: 926421,\n",
       " 382: 1088477,\n",
       " 383: 700212,\n",
       " 384: 720210,\n",
       " 385: 689617,\n",
       " 386: 1525822,\n",
       " 387: 1486913,\n",
       " 388: 1258580,\n",
       " 389: 1008783,\n",
       " 390: 1028494,\n",
       " 391: 2016630,\n",
       " 392: 980576,\n",
       " 393: 706000,\n",
       " 394: 604217,\n",
       " 395: 687821,\n",
       " 396: 1892946,\n",
       " 397: 993614,\n",
       " 398: 1749744,\n",
       " 399: 1847478,\n",
       " 400: 1075319,\n",
       " 401: 1137099,\n",
       " 402: 499467,\n",
       " 403: 905301,\n",
       " 404: 631042,\n",
       " 405: 942637,\n",
       " 406: 937006,\n",
       " 407: 1472260,\n",
       " 408: 593620,\n",
       " 409: 1936836,\n",
       " 410: 1291244,\n",
       " 411: 1224073,\n",
       " 412: 1688159,\n",
       " 413: 1984336,\n",
       " 414: 1443131,\n",
       " 415: 990730,\n",
       " 416: 933685,\n",
       " 417: 718595,\n",
       " 418: 900634,\n",
       " 419: 480755,\n",
       " 420: 211995,\n",
       " 421: 1826107,\n",
       " 422: 1386687,\n",
       " 423: 1340255,\n",
       " 424: 976879,\n",
       " 425: 931547,\n",
       " 426: 504938,\n",
       " 427: 1363713,\n",
       " 428: 1367411,\n",
       " 429: 754371,\n",
       " 430: 1105733,\n",
       " 431: 1101246,\n",
       " 432: 1069908,\n",
       " 433: 1341813,\n",
       " 434: 591350,\n",
       " 435: 543504,\n",
       " 436: 907244,\n",
       " 437: 1121900,\n",
       " 438: 510819,\n",
       " 439: 547256,\n",
       " 440: 956571,\n",
       " 441: 531408,\n",
       " 442: 349457,\n",
       " 443: 1314451,\n",
       " 444: 1076145,\n",
       " 445: 582868,\n",
       " 446: 506618,\n",
       " 447: 877033,\n",
       " 448: 1431458,\n",
       " 449: 955190,\n",
       " 450: 1684173,\n",
       " 451: 666695,\n",
       " 452: 1324992,\n",
       " 453: 484949,\n",
       " 454: 1503531,\n",
       " 455: 1030970,\n",
       " 456: 1235787,\n",
       " 457: 1375746,\n",
       " 458: 1665562,\n",
       " 459: 1475296,\n",
       " 460: 721081,\n",
       " 461: 1051721,\n",
       " 462: 1487828,\n",
       " 463: 1057873,\n",
       " 464: 1056170,\n",
       " 465: 1411444,\n",
       " 466: 1643528,\n",
       " 467: 1676221,\n",
       " 468: 1019607,\n",
       " 469: 1641619,\n",
       " 470: 1781808,\n",
       " 471: 1556802,\n",
       " 472: 303421,\n",
       " 473: 1949331,\n",
       " 474: 982528,\n",
       " 475: 1273518,\n",
       " 476: 1016704,\n",
       " 477: 1302048,\n",
       " 478: 605897,\n",
       " 479: 1801743,\n",
       " 480: 500414,\n",
       " 481: 53345,\n",
       " 482: 1735360,\n",
       " 483: 2070750,\n",
       " 484: 1568372,\n",
       " 485: 1303737,\n",
       " 486: 876276,\n",
       " 487: 1215797,\n",
       " 488: 1992360,\n",
       " 489: 492673,\n",
       " 490: 1299238,\n",
       " 491: 1105895,\n",
       " 492: 1301688,\n",
       " 493: 1070911,\n",
       " 494: 781564,\n",
       " 495: 345793,\n",
       " 496: 1405280,\n",
       " 497: 1006776,\n",
       " 498: 677581,\n",
       " 499: 1048308,\n",
       " 500: 1692866,\n",
       " 501: 472924,\n",
       " 502: 507087,\n",
       " 503: 1230226,\n",
       " 504: 1730263,\n",
       " 505: 46326,\n",
       " 506: 1944372,\n",
       " 507: 1368692,\n",
       " 508: 1637009,\n",
       " 509: 525898,\n",
       " 510: 892870,\n",
       " 511: 295079,\n",
       " 512: 1518500,\n",
       " 513: 398547,\n",
       " 514: 782697,\n",
       " 515: 1007060,\n",
       " 516: 1102901,\n",
       " 517: 726971,\n",
       " 518: 695117,\n",
       " 519: 733774,\n",
       " 520: 705184,\n",
       " 521: 1340807,\n",
       " 522: 121749,\n",
       " 523: 1228928,\n",
       " 524: 1563088,\n",
       " 525: 1905699,\n",
       " 526: 453742,\n",
       " 527: 2046749,\n",
       " 528: 1135006,\n",
       " 529: 1188362,\n",
       " 530: 1314655,\n",
       " 531: 893118,\n",
       " 532: 1492665,\n",
       " 533: 1570443,\n",
       " 534: 572721,\n",
       " 535: 1351784,\n",
       " 536: 877164,\n",
       " 537: 958421,\n",
       " 538: 888547,\n",
       " 539: 1544414,\n",
       " 540: 756846,\n",
       " 541: 704248,\n",
       " 542: 973511,\n",
       " 543: 903097,\n",
       " 544: 564680,\n",
       " 545: 1402749,\n",
       " 546: 1835318,\n",
       " 547: 1902951,\n",
       " 548: 703594,\n",
       " 549: 1706757,\n",
       " 550: 1447128,\n",
       " 551: 1008287,\n",
       " 552: 1545249,\n",
       " 553: 1631232,\n",
       " 554: 604696,\n",
       " 555: 626962,\n",
       " 556: 546646,\n",
       " 557: 1291658,\n",
       " 558: 754055,\n",
       " 559: 709775,\n",
       " 560: 1203345,\n",
       " 561: 601884,\n",
       " 562: 1282234,\n",
       " 563: 731467,\n",
       " 564: 778897,\n",
       " 565: 38,\n",
       " 566: 1766224,\n",
       " 567: 1593601,\n",
       " 568: 912961,\n",
       " 569: 756638,\n",
       " 570: 1036260,\n",
       " 571: 593903,\n",
       " 572: 552908,\n",
       " 573: 1897785,\n",
       " 574: 1060990,\n",
       " 575: 1386221,\n",
       " 576: 1811207,\n",
       " 577: 1404643,\n",
       " 578: 1216771,\n",
       " 579: 1743595,\n",
       " 580: 1116773,\n",
       " 581: 659860,\n",
       " 582: 1436893,\n",
       " 583: 1735336,\n",
       " 584: 786302,\n",
       " 585: 960784,\n",
       " 586: 210423,\n",
       " 587: 597274,\n",
       " 588: 1069819,\n",
       " 589: 921873,\n",
       " 590: 514336,\n",
       " 591: 1310600,\n",
       " 592: 1684405,\n",
       " 593: 1616648,\n",
       " 594: 522441,\n",
       " 595: 1474726,\n",
       " 596: 1922100,\n",
       " 597: 583496,\n",
       " 598: 882570,\n",
       " 599: 1742592,\n",
       " 600: 999419,\n",
       " 601: 1402581,\n",
       " 602: 1819993,\n",
       " 603: 1431763,\n",
       " 604: 529092,\n",
       " 605: 322402,\n",
       " 606: 599959,\n",
       " 607: 696950,\n",
       " 608: 1804045,\n",
       " 609: 1025798,\n",
       " 610: 1226982,\n",
       " 611: 88085,\n",
       " 612: 1110191,\n",
       " 613: 1763540,\n",
       " 614: 1195257,\n",
       " 615: 676838,\n",
       " 616: 527701,\n",
       " 617: 1138335,\n",
       " 618: 145641,\n",
       " 619: 629886,\n",
       " 620: 1042230,\n",
       " 621: 999784,\n",
       " 622: 1691900,\n",
       " 623: 485663,\n",
       " 624: 1114990,\n",
       " 625: 1245413,\n",
       " 626: 1935750,\n",
       " 627: 896923,\n",
       " 628: 156730,\n",
       " 629: 569411,\n",
       " 630: 1018643,\n",
       " 631: 1093749,\n",
       " 632: 1293685,\n",
       " 633: 1264894,\n",
       " 634: 543011,\n",
       " 635: 364413,\n",
       " 636: 465893,\n",
       " 637: 1526161,\n",
       " 638: 238009,\n",
       " 639: 559298,\n",
       " 640: 139818,\n",
       " 641: 765905,\n",
       " 642: 1022453,\n",
       " 643: 1062874,\n",
       " 644: 1841583,\n",
       " 645: 941225,\n",
       " 646: 61,\n",
       " 647: 758255,\n",
       " 648: 568269,\n",
       " 649: 939674,\n",
       " 650: 1394499,\n",
       " 651: 903693,\n",
       " 652: 925277,\n",
       " 653: 662862,\n",
       " 654: 732082,\n",
       " 655: 1803894,\n",
       " 656: 1509411,\n",
       " 657: 1162026,\n",
       " 658: 889699,\n",
       " 659: 925888,\n",
       " 660: 1694884,\n",
       " 661: 1542763,\n",
       " 662: 1208551,\n",
       " 663: 781773,\n",
       " 664: 1245007,\n",
       " 665: 1606527,\n",
       " 666: 943039,\n",
       " 667: 1008961,\n",
       " 668: 753976,\n",
       " 669: 314044,\n",
       " 670: 627300,\n",
       " 671: 1172025,\n",
       " 672: 1168855,\n",
       " 673: 1441856,\n",
       " 674: 665266,\n",
       " 675: 920402,\n",
       " 676: 737436,\n",
       " 677: 1607765,\n",
       " 678: 1292976,\n",
       " 679: 519686,\n",
       " 680: 1024162,\n",
       " 681: 1283315,\n",
       " 682: 699471,\n",
       " 683: 1667403,\n",
       " 684: 1396830,\n",
       " 685: 566145,\n",
       " 686: 317975,\n",
       " 687: 1313360,\n",
       " 688: 2089981,\n",
       " 689: 1334227,\n",
       " 690: 733668,\n",
       " 691: 883552,\n",
       " 692: 338995,\n",
       " 693: 1330267,\n",
       " 694: 1699250,\n",
       " 695: 455722,\n",
       " 696: 1178337,\n",
       " 697: 719273,\n",
       " 698: 241333,\n",
       " 699: 1787785,\n",
       " 700: 1778327,\n",
       " 701: 1152729,\n",
       " 702: 533244,\n",
       " 703: 1187818,\n",
       " 704: 306633,\n",
       " 705: 1914581,\n",
       " 706: 1159682,\n",
       " 707: 1476624,\n",
       " 708: 674438,\n",
       " 709: 1606951,\n",
       " 710: 1471510,\n",
       " 711: 1228159,\n",
       " 712: 902836,\n",
       " 713: 661658,\n",
       " 714: 1497885,\n",
       " 715: 986568,\n",
       " 716: 1705711,\n",
       " 717: 1584750,\n",
       " 718: 1190928,\n",
       " 719: 1402802,\n",
       " 720: 477480,\n",
       " 721: 1916404,\n",
       " 722: 660570,\n",
       " 723: 985094,\n",
       " 724: 1127793,\n",
       " 725: 1779935,\n",
       " 726: 614211,\n",
       " 727: 1469374,\n",
       " 728: 405643,\n",
       " 729: 773860,\n",
       " 730: 1013963,\n",
       " 731: 1011695,\n",
       " 732: 1301874,\n",
       " 733: 943144,\n",
       " 734: 1250706,\n",
       " 735: 1467634,\n",
       " 736: 1265819,\n",
       " 737: 1203319,\n",
       " 738: 877056,\n",
       " 739: 1126160,\n",
       " 740: 967755,\n",
       " 741: 1201856,\n",
       " 742: 1407518,\n",
       " 743: 369381,\n",
       " 744: 1334842,\n",
       " 745: 1618276,\n",
       " 746: 957960,\n",
       " 747: 978897,\n",
       " 748: 783110,\n",
       " 749: 1803310,\n",
       " 750: 991318,\n",
       " 751: 1072921,\n",
       " 752: 1841517,\n",
       " 753: 1518203,\n",
       " 754: 1231181,\n",
       " 755: 1552567,\n",
       " 756: 731244,\n",
       " 757: 480923,\n",
       " 758: 556032,\n",
       " 759: 1717724,\n",
       " 760: 1331981,\n",
       " 761: 596762,\n",
       " 762: 601745,\n",
       " 763: 1027761,\n",
       " 764: 1473235,\n",
       " 765: 737506,\n",
       " 766: 2046064,\n",
       " 767: 1436040,\n",
       " 768: 1417437,\n",
       " 769: 498336,\n",
       " 770: 1586085,\n",
       " 771: 1431566,\n",
       " 772: 422068,\n",
       " 773: 995582,\n",
       " 774: 557519,\n",
       " 775: 1209440,\n",
       " 776: 1353249,\n",
       " 777: 1848960,\n",
       " 778: 882886,\n",
       " 779: 1568529,\n",
       " 780: 735794,\n",
       " 781: 1047169,\n",
       " 782: 1141000,\n",
       " 783: 1081667,\n",
       " 784: 784825,\n",
       " 785: 1109560,\n",
       " 786: 1809916,\n",
       " 787: 1880535,\n",
       " 788: 679023,\n",
       " 789: 985908,\n",
       " 790: 1164366,\n",
       " 791: 738198,\n",
       " 792: 796123,\n",
       " 793: 560850,\n",
       " 794: 1072096,\n",
       " 795: 605988,\n",
       " 796: 1135501,\n",
       " 797: 573834,\n",
       " 798: 551423,\n",
       " 799: 970278,\n",
       " 800: 1272075,\n",
       " 801: 1529779,\n",
       " 802: 777367,\n",
       " 803: 299085,\n",
       " 804: 1105864,\n",
       " 805: 723973,\n",
       " 806: 537025,\n",
       " 807: 480478,\n",
       " 808: 1911931,\n",
       " 809: 957933,\n",
       " 810: 1657811,\n",
       " 811: 687064,\n",
       " 812: 1022873,\n",
       " 813: 675995,\n",
       " 814: 1113209,\n",
       " 815: 1247118,\n",
       " 816: 732598,\n",
       " 817: 1209995,\n",
       " 818: 946494,\n",
       " 819: 1263650,\n",
       " 820: 604637,\n",
       " 821: 523307,\n",
       " 822: 705757,\n",
       " 823: 388201,\n",
       " 824: 1669108,\n",
       " 825: 1369842,\n",
       " 826: 619779,\n",
       " 827: 319771,\n",
       " 828: 1056377,\n",
       " 829: 497128,\n",
       " 830: 1447278,\n",
       " 831: 358096,\n",
       " 832: 1904587,\n",
       " 833: 1655965,\n",
       " 834: 1261725,\n",
       " 835: 1351888,\n",
       " 836: 554301,\n",
       " 837: 1217338,\n",
       " 838: 741225,\n",
       " 839: 1400377,\n",
       " 840: 709659,\n",
       " 841: 954813,\n",
       " 842: 964649,\n",
       " 843: 573764,\n",
       " 844: 774325,\n",
       " 845: 257247,\n",
       " 846: 916637,\n",
       " 847: 1086976,\n",
       " 848: 508131,\n",
       " 849: 948509,\n",
       " 850: 1143929,\n",
       " 851: 1589789,\n",
       " 852: 1182713,\n",
       " 853: 1513425,\n",
       " 854: 580934,\n",
       " 855: 1332032,\n",
       " 856: 1493602,\n",
       " 857: 2081222,\n",
       " 858: 587225,\n",
       " 859: 1163366,\n",
       " 860: 966248,\n",
       " 861: 945917,\n",
       " 862: 756724,\n",
       " 863: 1124413,\n",
       " 864: 1140892,\n",
       " 865: 1661107,\n",
       " 866: 516332,\n",
       " 867: 1331100,\n",
       " 868: 1348316,\n",
       " 869: 1548434,\n",
       " 870: 1483615,\n",
       " 871: 1465806,\n",
       " 872: 1321789,\n",
       " 873: 1718046,\n",
       " 874: 627273,\n",
       " 875: 538583,\n",
       " 876: 1474724,\n",
       " 877: 1170779,\n",
       " 878: 1790521,\n",
       " 879: 1153587,\n",
       " 880: 1667623,\n",
       " 881: 715182,\n",
       " 882: 1671665,\n",
       " 883: 1997608,\n",
       " 884: 736998,\n",
       " 885: 1739049,\n",
       " 886: 80360,\n",
       " 887: 2061542,\n",
       " 888: 1752138,\n",
       " 889: 512866,\n",
       " 890: 1762326,\n",
       " 891: 790008,\n",
       " 892: 749815,\n",
       " 893: 1044059,\n",
       " 894: 294465,\n",
       " 895: 1273256,\n",
       " 896: 1107008,\n",
       " 897: 1730287,\n",
       " 898: 2018560,\n",
       " 899: 1399566,\n",
       " 900: 938967,\n",
       " 901: 1797430,\n",
       " 902: 1287242,\n",
       " 903: 1342428,\n",
       " 904: 1950381,\n",
       " 905: 977677,\n",
       " 906: 1220197,\n",
       " 907: 361501,\n",
       " 908: 1022038,\n",
       " 909: 783536,\n",
       " 910: 967226,\n",
       " 911: 882207,\n",
       " 912: 1467046,\n",
       " 913: 1349697,\n",
       " 914: 1347049,\n",
       " 915: 1352438,\n",
       " 916: 1356035,\n",
       " 917: 1261572,\n",
       " 918: 1251991,\n",
       " 919: 1875181,\n",
       " 920: 771665,\n",
       " 921: 944039,\n",
       " 922: 1053156,\n",
       " 923: 779847,\n",
       " 924: 565214,\n",
       " 925: 1219105,\n",
       " 926: 1134788,\n",
       " 927: 1368107,\n",
       " 928: 1368973,\n",
       " 929: 551461,\n",
       " 930: 1614911,\n",
       " 931: 513267,\n",
       " 932: 1902517,\n",
       " 933: 719604,\n",
       " 934: 786271,\n",
       " 935: 1008738,\n",
       " 936: 1693288,\n",
       " 937: 1911995,\n",
       " 938: 2082806,\n",
       " 939: 667969,\n",
       " 940: 252311,\n",
       " 941: 1274590,\n",
       " 942: 1093819,\n",
       " 943: 552642,\n",
       " 944: 892948,\n",
       " 945: 356113,\n",
       " 946: 385174,\n",
       " 947: 1159571,\n",
       " 948: 1105023,\n",
       " 949: 1814932,\n",
       " 950: 993699,\n",
       " 951: 515710,\n",
       " 952: 784385,\n",
       " 953: 1202989,\n",
       " 954: 1123378,\n",
       " 955: 590788,\n",
       " 956: 1132118,\n",
       " 957: 687235,\n",
       " 958: 1243724,\n",
       " 959: 757158,\n",
       " 960: 771855,\n",
       " 961: 969644,\n",
       " 962: 1854958,\n",
       " 963: 1636665,\n",
       " 964: 1577052,\n",
       " 965: 641037,\n",
       " 966: 1279772,\n",
       " 967: 1477525,\n",
       " 968: 968675,\n",
       " 969: 1022586,\n",
       " 970: 1006918,\n",
       " 971: 220065,\n",
       " 972: 441127,\n",
       " 973: 528266,\n",
       " 974: 1116362,\n",
       " 975: 1973213,\n",
       " 976: 276235,\n",
       " 977: 1801820,\n",
       " 978: 595589,\n",
       " 979: 1020974,\n",
       " 980: 625458,\n",
       " 981: 649858,\n",
       " 982: 1224039,\n",
       " 983: 943168,\n",
       " 984: 1140955,\n",
       " 985: 681216,\n",
       " 986: 910630,\n",
       " 987: 912433,\n",
       " 988: 602640,\n",
       " 989: 494082,\n",
       " 990: 1106892,\n",
       " 991: 1190867,\n",
       " 992: 1005422,\n",
       " 993: 777750,\n",
       " 994: 1646690,\n",
       " 995: 917372,\n",
       " 996: 1122391,\n",
       " 997: 1982131,\n",
       " 998: 1128248,\n",
       " 999: 1237093,\n",
       " ...}"
      ]
     },
     "execution_count": 42,
     "metadata": {},
     "output_type": "execute_result"
    }
   ],
   "source": [
    "user_idx2id_dict"
   ]
  },
  {
   "cell_type": "code",
   "execution_count": 62,
   "metadata": {},
   "outputs": [
    {
     "name": "stdout",
     "output_type": "stream",
     "text": [
      "\u001b[1m730/730\u001b[0m \u001b[32m━━━━━━━━━━━━━━━━━━━━\u001b[0m\u001b[37m\u001b[0m \u001b[1m1s\u001b[0m 933us/step - loss: 0.1698 - root_mean_squared_error: 0.4105\n",
      "\u001b[1m730/730\u001b[0m \u001b[32m━━━━━━━━━━━━━━━━━━━━\u001b[0m\u001b[37m\u001b[0m \u001b[1m0s\u001b[0m 590us/step\n",
      "0.8134462126672308\n"
     ]
    }
   ],
   "source": [
    "### WRITE YOUR CODE HERE\n",
    "\n",
    "### - call model.evaluate() to evaluate the model\n",
    "model.evaluate(x=x_test,y=y_test)\n",
    "\n",
    "y_pred=model.predict(x_test)\n",
    "from sklearn.metrics import root_mean_squared_error\n",
    "print(root_mean_squared_error(y_true=(y_test*2)+3,y_pred=np.round((y_pred*2)+3)))"
   ]
  },
  {
   "cell_type": "code",
   "execution_count": null,
   "metadata": {},
   "outputs": [],
   "source": []
  },
  {
   "cell_type": "code",
   "execution_count": 63,
   "metadata": {},
   "outputs": [
    {
     "name": "stdout",
     "output_type": "stream",
     "text": [
      "0.8134462126672308\n"
     ]
    }
   ],
   "source": [
    "\n",
    "print(root_mean_squared_error(y_true=(y_test*2)+3,y_pred=np.full(len(y_test),4)))"
   ]
  },
  {
   "cell_type": "code",
   "execution_count": 127,
   "metadata": {},
   "outputs": [
    {
     "name": "stdout",
     "output_type": "stream",
     "text": [
      "1.1500512928053785\n"
     ]
    }
   ],
   "source": [
    "y_rand=np.random.randint(3,6,size=len(y_test))\n",
    "print(root_mean_squared_error(y_true=(y_test*2)+3,y_pred=y_rand))"
   ]
  },
  {
   "cell_type": "code",
   "execution_count": 64,
   "metadata": {},
   "outputs": [
    {
     "data": {
      "text/plain": [
       "<matplotlib.collections.PathCollection at 0x295d4efb0a0>"
      ]
     },
     "execution_count": 64,
     "metadata": {},
     "output_type": "execute_result"
    },
    {
     "data": {
      "image/png": "[encoded data removed]",
      "text/plain": [
       "<Figure size 640x480 with 1 Axes>"
      ]
     },
     "metadata": {},
     "output_type": "display_data"
    }
   ],
   "source": [
    "plt.scatter(range(len(y_pred)),np.round((y_pred*2)+3))"
   ]
  },
  {
   "cell_type": "code",
   "execution_count": 65,
   "metadata": {},
   "outputs": [
    {
     "data": {
      "text/plain": [
       "23331"
      ]
     },
     "execution_count": 65,
     "metadata": {},
     "output_type": "execute_result"
    }
   ],
   "source": [
    "len(y_pred)"
   ]
  },
  {
   "cell_type": "code",
   "execution_count": 66,
   "metadata": {},
   "outputs": [
    {
     "data": {
      "text/plain": [
       "23331"
      ]
     },
     "execution_count": 66,
     "metadata": {},
     "output_type": "execute_result"
    }
   ],
   "source": [
    "len(y_test)"
   ]
  },
  {
   "cell_type": "code",
   "execution_count": 67,
   "metadata": {},
   "outputs": [
    {
     "data": {
      "text/plain": [
       "array([4.], dtype=float32)"
      ]
     },
     "execution_count": 67,
     "metadata": {},
     "output_type": "execute_result"
    }
   ],
   "source": [
    "np.unique(np.round((y_pred*2)+3))"
   ]
  },
  {
   "cell_type": "code",
   "execution_count": 68,
   "metadata": {},
   "outputs": [
    {
     "data": {
      "text/plain": [
       "<sklearn.metrics._plot.confusion_matrix.ConfusionMatrixDisplay at 0x295d4dd9a90>"
      ]
     },
     "execution_count": 68,
     "metadata": {},
     "output_type": "execute_result"
    },
    {
     "data": {
      "image/png": "[encoded data removed]",
      "text/plain": [
       "<Figure size 640x480 with 2 Axes>"
      ]
     },
     "metadata": {},
     "output_type": "display_data"
    }
   ],
   "source": [
    "ConfusionMatrixDisplay.from_predictions(y_true=(y_test*2)+3,y_pred=np.round((y_pred*2)+3),labels=[3,4,5])"
   ]
  },
  {
   "cell_type": "code",
   "execution_count": null,
   "metadata": {},
   "outputs": [],
   "source": [
    "import keras_tuner as kt\n"
   ]
  },
  {
   "cell_type": "code",
   "execution_count": null,
   "metadata": {},
   "outputs": [],
   "source": [
    "from sklearn.preprocessing import OneHotEncoder"
   ]
  },
  {
   "cell_type": "code",
   "execution_count": null,
   "metadata": {},
   "outputs": [],
   "source": [
    "ohe=OneHotEncoder()\n",
    "OHE=ohe.fit_transform(x_train[:,0].reshape(-1, 1))"
   ]
  },
  {
   "cell_type": "code",
   "execution_count": null,
   "metadata": {},
   "outputs": [],
   "source": [
    "x_train_users=pd.get_dummies(x_train[:,0])\n",
    "x_train_items=pd.get_dummies(x_train[:,1])\n",
    "\n",
    "x_val_users=pd.get_dummies(x_val[:,0])\n",
    "x_val_items=pd.get_dummies(x_val[:,1])\n",
    "\n",
    "x_test_users=pd.get_dummies(x_test[:,0])\n",
    "x_test_items=pd.get_dummies(x_test[:,1])"
   ]
  },
  {
   "cell_type": "code",
   "execution_count": null,
   "metadata": {},
   "outputs": [
    {
     "data": {
      "text/html": [
       "<div>\n",
       "<style scoped>\n",
       "    .dataframe tbody tr th:only-of-type {\n",
       "        vertical-align: middle;\n",
       "    }\n",
       "\n",
       "    .dataframe tbody tr th {\n",
       "        vertical-align: top;\n",
       "    }\n",
       "\n",
       "    .dataframe thead th {\n",
       "        text-align: right;\n",
       "    }\n",
       "</style>\n",
       "<table border=\"1\" class=\"dataframe\">\n",
       "  <thead>\n",
       "    <tr style=\"text-align: right;\">\n",
       "      <th></th>\n",
       "      <th>user</th>\n",
       "      <th>item</th>\n",
       "      <th>rating</th>\n",
       "    </tr>\n",
       "  </thead>\n",
       "  <tbody>\n",
       "    <tr>\n",
       "      <th>0</th>\n",
       "      <td>0</td>\n",
       "      <td>0</td>\n",
       "      <td>5</td>\n",
       "    </tr>\n",
       "    <tr>\n",
       "      <th>1</th>\n",
       "      <td>1</td>\n",
       "      <td>1</td>\n",
       "      <td>3</td>\n",
       "    </tr>\n",
       "    <tr>\n",
       "      <th>2</th>\n",
       "      <td>2</td>\n",
       "      <td>2</td>\n",
       "      <td>5</td>\n",
       "    </tr>\n",
       "    <tr>\n",
       "      <th>3</th>\n",
       "      <td>3</td>\n",
       "      <td>3</td>\n",
       "      <td>5</td>\n",
       "    </tr>\n",
       "    <tr>\n",
       "      <th>4</th>\n",
       "      <td>4</td>\n",
       "      <td>4</td>\n",
       "      <td>3</td>\n",
       "    </tr>\n",
       "    <tr>\n",
       "      <th>...</th>\n",
       "      <td>...</td>\n",
       "      <td>...</td>\n",
       "      <td>...</td>\n",
       "    </tr>\n",
       "    <tr>\n",
       "      <th>233301</th>\n",
       "      <td>9938</td>\n",
       "      <td>4</td>\n",
       "      <td>5</td>\n",
       "    </tr>\n",
       "    <tr>\n",
       "      <th>233302</th>\n",
       "      <td>6421</td>\n",
       "      <td>23</td>\n",
       "      <td>5</td>\n",
       "    </tr>\n",
       "    <tr>\n",
       "      <th>233303</th>\n",
       "      <td>9138</td>\n",
       "      <td>60</td>\n",
       "      <td>3</td>\n",
       "    </tr>\n",
       "    <tr>\n",
       "      <th>233304</th>\n",
       "      <td>8410</td>\n",
       "      <td>8</td>\n",
       "      <td>4</td>\n",
       "    </tr>\n",
       "    <tr>\n",
       "      <th>233305</th>\n",
       "      <td>14843</td>\n",
       "      <td>6</td>\n",
       "      <td>4</td>\n",
       "    </tr>\n",
       "  </tbody>\n",
       "</table>\n",
       "<p>233306 rows × 3 columns</p>\n",
       "</div>"
      ],
      "text/plain": [
       "         user  item  rating\n",
       "0           0     0       5\n",
       "1           1     1       3\n",
       "2           2     2       5\n",
       "3           3     3       5\n",
       "4           4     4       3\n",
       "...       ...   ...     ...\n",
       "233301   9938     4       5\n",
       "233302   6421    23       5\n",
       "233303   9138    60       3\n",
       "233304   8410     8       4\n",
       "233305  14843     6       4\n",
       "\n",
       "[233306 rows x 3 columns]"
      ]
     },
     "execution_count": 83,
     "metadata": {},
     "output_type": "execute_result"
    }
   ],
   "source": [
    "encoded_data"
   ]
  },
  {
   "cell_type": "code",
   "execution_count": null,
   "metadata": {},
   "outputs": [],
   "source": [
    "#dummy_users=pd.get_dummies(encoded_data.loc[:,'user'].values)\n",
    "#dummy_items=pd.get_dummies(encoded_data.loc[:,'item'].values)\n",
    "dummy_users=encoded_data.loc[:,'user'].values\n",
    "dummy_items=encoded_data.loc[:,'item'].values\n",
    "ratings=encoded_data.loc[:,'rating'].values\n",
    "\n",
    "train_indices = int(0.8 * encoded_data.shape[0])\n",
    "test_indices = int(0.9 * encoded_data.shape[0])\n",
    "# Assigning subsets of features and labels for each set\n",
    "x_train_users, x_val_users, x_test_users,x_train_items, x_val_items, x_test_items=(#,y_train, y_val, y_test = (\n",
    "    dummy_users[:train_indices], # Training features\n",
    "    dummy_users[train_indices:test_indices], # Validation features\n",
    "    dummy_users[test_indices:], # Testing features\n",
    "    \n",
    "    dummy_items[:train_indices], # Training features\n",
    "    dummy_items[train_indices:test_indices], # Validation features\n",
    "    dummy_items[test_indices:], # Testing features\n",
    "    \n",
    "    #ratings[:train_indices], # Training labels\n",
    "   # ratings[train_indices:test_indices], # Validation labels\n",
    "    #ratings[test_indices:], # Testing labels\n",
    ")"
   ]
  },
  {
   "cell_type": "code",
   "execution_count": null,
   "metadata": {},
   "outputs": [],
   "source": [
    "def DNN_model_builder(hp):\n",
    "\n",
    "    hp_units = hp.Int('units', min_value=8, max_value=32, step=8)\n",
    "    hp_l2 = hp.Choice('ridge', values=[1e-1,1e-2, 1e-3,1e-4])\n",
    "    hp_drop = hp.Float('dropout',min_value=0.05,max_value=0.9,step=0.05)\n",
    "    \n",
    "\n",
    "    inputs_users = tf.keras.Input(shape=(1,))\n",
    "    inputs_items = tf.keras.Input(shape=(1,))\n",
    "    \n",
    "    embedding_user = tf.keras.layers.Embedding(1,embedding_size)(inputs_users)\n",
    "    embedding_item = tf.keras.layers.Embedding(1,embedding_size)(inputs_items)\n",
    "    \n",
    "    x = tf.keras.layers.Flatten()(embedding_user)\n",
    "    x = tf.keras.layers.Dense(units=hp_units,kernel_regularizer=tf.keras.regularizers.L2(l2=hp_l2))(x)\n",
    "    x = tf.keras.layers.Dropout(hp_drop)(x)\n",
    "    \n",
    "    y = tf.keras.layers.Flatten()(embedding_item)\n",
    "    y = tf.keras.layers.Dense(units=hp_units,kernel_regularizer=tf.keras.regularizers.L2(l2=hp_l2))(y)\n",
    "    y = tf.keras.layers.Dropout(hp_drop)(y)\n",
    "    \n",
    "    outputs = tf.keras.layers.Dot(axes=1)([x, y])\n",
    "    outputs = tf.keras.layers.Dense(1,activation='relu')(outputs)\n",
    "\n",
    "    model = tf.keras.Model(inputs=(inputs_users,inputs_items),outputs=outputs)\n",
    "    \n",
    "    hp_learning_rate = hp.Choice('learning_rate', values=[1e0,1e-1,1e-2, 1e-3,1e-4,1e-5])\n",
    "\n",
    "    model.compile(optimizer=tf.keras.optimizers.Adam(learning_rate=hp_learning_rate),\n",
    "                    loss=tf.keras.losses.MeanSquaredError(),\n",
    "                    metrics=[tf.keras.metrics.RootMeanSquaredError()])\n",
    "\n",
    "    return model"
   ]
  },
  {
   "cell_type": "code",
   "execution_count": null,
   "metadata": {},
   "outputs": [
    {
     "name": "stdout",
     "output_type": "stream",
     "text": [
      "Reloading Tuner from my_ann\\ANN\\tuner0.json\n",
      "\n",
      "Search: Running Trial #3\n",
      "\n",
      "Value             |Best Value So Far |Hyperparameter\n",
      "16                |32                |units\n",
      "0.1               |0.001             |ridge\n",
      "0.4               |0.4               |dropout\n",
      "0.01              |0.1               |learning_rate\n",
      "3                 |3                 |tuner/epochs\n",
      "0                 |0                 |tuner/initial_epoch\n",
      "2                 |2                 |tuner/bracket\n",
      "0                 |0                 |tuner/round\n",
      "\n",
      "Epoch 1/3\n"
     ]
    },
    {
     "name": "stderr",
     "output_type": "stream",
     "text": [
      "Traceback (most recent call last):\n",
      "  File \"c:\\Users\\Vishal\\anaconda3\\envs\\tf-with_some_pip\\lib\\site-packages\\keras_tuner\\src\\engine\\base_tuner.py\", line 274, in _try_run_and_update_trial\n",
      "    self._run_and_update_trial(trial, *fit_args, **fit_kwargs)\n",
      "  File \"c:\\Users\\Vishal\\anaconda3\\envs\\tf-with_some_pip\\lib\\site-packages\\keras_tuner\\src\\engine\\base_tuner.py\", line 239, in _run_and_update_trial\n",
      "    results = self.run_trial(trial, *fit_args, **fit_kwargs)\n",
      "  File \"c:\\Users\\Vishal\\anaconda3\\envs\\tf-with_some_pip\\lib\\site-packages\\keras_tuner\\src\\tuners\\hyperband.py\", line 427, in run_trial\n",
      "    return super().run_trial(trial, *fit_args, **fit_kwargs)\n",
      "  File \"c:\\Users\\Vishal\\anaconda3\\envs\\tf-with_some_pip\\lib\\site-packages\\keras_tuner\\src\\engine\\tuner.py\", line 314, in run_trial\n",
      "    obj_value = self._build_and_fit_model(trial, *args, **copied_kwargs)\n",
      "  File \"c:\\Users\\Vishal\\anaconda3\\envs\\tf-with_some_pip\\lib\\site-packages\\keras_tuner\\src\\engine\\tuner.py\", line 233, in _build_and_fit_model\n",
      "    results = self.hypermodel.fit(hp, model, *args, **kwargs)\n",
      "  File \"c:\\Users\\Vishal\\anaconda3\\envs\\tf-with_some_pip\\lib\\site-packages\\keras_tuner\\src\\engine\\hypermodel.py\", line 149, in fit\n",
      "    return model.fit(*args, **kwargs)\n",
      "  File \"c:\\Users\\Vishal\\anaconda3\\envs\\tf-with_some_pip\\lib\\site-packages\\keras\\src\\utils\\traceback_utils.py\", line 122, in error_handler\n",
      "    raise e.with_traceback(filtered_tb) from None\n",
      "  File \"c:\\Users\\Vishal\\anaconda3\\envs\\tf-with_some_pip\\lib\\site-packages\\tensorflow\\python\\eager\\execute.py\", line 53, in quick_execute\n",
      "    tensors = pywrap_tfe.TFE_Py_Execute(ctx._handle, device_name, op_name,\n",
      "tensorflow.python.framework.errors_impl.InvalidArgumentError: Graph execution error:\n",
      "\n",
      "Detected at node functional_1/embedding_2/GatherV2 defined at (most recent call last):\n",
      "  File \"c:\\Users\\Vishal\\anaconda3\\envs\\tf-with_some_pip\\lib\\runpy.py\", line 197, in _run_module_as_main\n",
      "\n",
      "  File \"c:\\Users\\Vishal\\anaconda3\\envs\\tf-with_some_pip\\lib\\runpy.py\", line 87, in _run_code\n",
      "\n",
      "  File \"c:\\Users\\Vishal\\anaconda3\\envs\\tf-with_some_pip\\lib\\site-packages\\ipykernel_launcher.py\", line 18, in <module>\n",
      "\n",
      "  File \"c:\\Users\\Vishal\\anaconda3\\envs\\tf-with_some_pip\\lib\\site-packages\\traitlets\\config\\application.py\", line 1043, in launch_instance\n",
      "\n",
      "  File \"c:\\Users\\Vishal\\anaconda3\\envs\\tf-with_some_pip\\lib\\site-packages\\ipykernel\\kernelapp.py\", line 739, in start\n",
      "\n",
      "  File \"c:\\Users\\Vishal\\anaconda3\\envs\\tf-with_some_pip\\lib\\site-packages\\tornado\\platform\\asyncio.py\", line 205, in start\n",
      "\n",
      "  File \"c:\\Users\\Vishal\\anaconda3\\envs\\tf-with_some_pip\\lib\\asyncio\\base_events.py\", line 601, in run_forever\n",
      "\n",
      "  File \"c:\\Users\\Vishal\\anaconda3\\envs\\tf-with_some_pip\\lib\\asyncio\\base_events.py\", line 1905, in _run_once\n",
      "\n",
      "  File \"c:\\Users\\Vishal\\anaconda3\\envs\\tf-with_some_pip\\lib\\asyncio\\events.py\", line 80, in _run\n",
      "\n",
      "  File \"c:\\Users\\Vishal\\anaconda3\\envs\\tf-with_some_pip\\lib\\site-packages\\ipykernel\\kernelbase.py\", line 545, in dispatch_queue\n",
      "\n",
      "  File \"c:\\Users\\Vishal\\anaconda3\\envs\\tf-with_some_pip\\lib\\site-packages\\ipykernel\\kernelbase.py\", line 534, in process_one\n",
      "\n",
      "  File \"c:\\Users\\Vishal\\anaconda3\\envs\\tf-with_some_pip\\lib\\site-packages\\ipykernel\\kernelbase.py\", line 437, in dispatch_shell\n",
      "\n",
      "  File \"c:\\Users\\Vishal\\anaconda3\\envs\\tf-with_some_pip\\lib\\site-packages\\ipykernel\\ipkernel.py\", line 362, in execute_request\n",
      "\n",
      "  File \"c:\\Users\\Vishal\\anaconda3\\envs\\tf-with_some_pip\\lib\\site-packages\\ipykernel\\kernelbase.py\", line 778, in execute_request\n",
      "\n",
      "  File \"c:\\Users\\Vishal\\anaconda3\\envs\\tf-with_some_pip\\lib\\site-packages\\ipykernel\\ipkernel.py\", line 449, in do_execute\n",
      "\n",
      "  File \"c:\\Users\\Vishal\\anaconda3\\envs\\tf-with_some_pip\\lib\\site-packages\\ipykernel\\zmqshell.py\", line 549, in run_cell\n",
      "\n",
      "  File \"c:\\Users\\Vishal\\anaconda3\\envs\\tf-with_some_pip\\lib\\site-packages\\IPython\\core\\interactiveshell.py\", line 3009, in run_cell\n",
      "\n",
      "  File \"c:\\Users\\Vishal\\anaconda3\\envs\\tf-with_some_pip\\lib\\site-packages\\IPython\\core\\interactiveshell.py\", line 3064, in _run_cell\n",
      "\n",
      "  File \"c:\\Users\\Vishal\\anaconda3\\envs\\tf-with_some_pip\\lib\\site-packages\\IPython\\core\\async_helpers.py\", line 129, in _pseudo_sync_runner\n",
      "\n",
      "  File \"c:\\Users\\Vishal\\anaconda3\\envs\\tf-with_some_pip\\lib\\site-packages\\IPython\\core\\interactiveshell.py\", line 3269, in run_cell_async\n",
      "\n",
      "  File \"c:\\Users\\Vishal\\anaconda3\\envs\\tf-with_some_pip\\lib\\site-packages\\IPython\\core\\interactiveshell.py\", line 3448, in run_ast_nodes\n",
      "\n",
      "  File \"c:\\Users\\Vishal\\anaconda3\\envs\\tf-with_some_pip\\lib\\site-packages\\IPython\\core\\interactiveshell.py\", line 3508, in run_code\n",
      "\n",
      "  File \"C:\\Users\\Vishal\\AppData\\Local\\Temp\\ipykernel_21628\\3137367848.py\", line 14, in <module>\n",
      "\n",
      "  File \"c:\\Users\\Vishal\\anaconda3\\envs\\tf-with_some_pip\\lib\\site-packages\\keras_tuner\\src\\engine\\base_tuner.py\", line 234, in search\n",
      "\n",
      "  File \"c:\\Users\\Vishal\\anaconda3\\envs\\tf-with_some_pip\\lib\\site-packages\\keras_tuner\\src\\engine\\base_tuner.py\", line 274, in _try_run_and_update_trial\n",
      "\n",
      "  File \"c:\\Users\\Vishal\\anaconda3\\envs\\tf-with_some_pip\\lib\\site-packages\\keras_tuner\\src\\engine\\base_tuner.py\", line 239, in _run_and_update_trial\n",
      "\n",
      "  File \"c:\\Users\\Vishal\\anaconda3\\envs\\tf-with_some_pip\\lib\\site-packages\\keras_tuner\\src\\tuners\\hyperband.py\", line 427, in run_trial\n",
      "\n",
      "  File \"c:\\Users\\Vishal\\anaconda3\\envs\\tf-with_some_pip\\lib\\site-packages\\keras_tuner\\src\\engine\\tuner.py\", line 314, in run_trial\n",
      "\n",
      "  File \"c:\\Users\\Vishal\\anaconda3\\envs\\tf-with_some_pip\\lib\\site-packages\\keras_tuner\\src\\engine\\tuner.py\", line 233, in _build_and_fit_model\n",
      "\n",
      "  File \"c:\\Users\\Vishal\\anaconda3\\envs\\tf-with_some_pip\\lib\\site-packages\\keras_tuner\\src\\engine\\hypermodel.py\", line 149, in fit\n",
      "\n",
      "  File \"c:\\Users\\Vishal\\anaconda3\\envs\\tf-with_some_pip\\lib\\site-packages\\keras\\src\\utils\\traceback_utils.py\", line 117, in error_handler\n",
      "\n",
      "  File \"c:\\Users\\Vishal\\anaconda3\\envs\\tf-with_some_pip\\lib\\site-packages\\keras\\src\\backend\\tensorflow\\trainer.py\", line 377, in fit\n",
      "\n",
      "  File \"c:\\Users\\Vishal\\anaconda3\\envs\\tf-with_some_pip\\lib\\site-packages\\keras\\src\\backend\\tensorflow\\trainer.py\", line 220, in function\n",
      "\n",
      "  File \"c:\\Users\\Vishal\\anaconda3\\envs\\tf-with_some_pip\\lib\\site-packages\\keras\\src\\backend\\tensorflow\\trainer.py\", line 133, in multi_step_on_iterator\n",
      "\n",
      "  File \"c:\\Users\\Vishal\\anaconda3\\envs\\tf-with_some_pip\\lib\\site-packages\\keras\\src\\backend\\tensorflow\\trainer.py\", line 114, in one_step_on_data\n",
      "\n",
      "  File \"c:\\Users\\Vishal\\anaconda3\\envs\\tf-with_some_pip\\lib\\site-packages\\keras\\src\\backend\\tensorflow\\trainer.py\", line 58, in train_step\n",
      "\n",
      "  File \"c:\\Users\\Vishal\\anaconda3\\envs\\tf-with_some_pip\\lib\\site-packages\\keras\\src\\utils\\traceback_utils.py\", line 117, in error_handler\n",
      "\n",
      "  File \"c:\\Users\\Vishal\\anaconda3\\envs\\tf-with_some_pip\\lib\\site-packages\\keras\\src\\layers\\layer.py\", line 936, in __call__\n",
      "\n",
      "  File \"c:\\Users\\Vishal\\anaconda3\\envs\\tf-with_some_pip\\lib\\site-packages\\keras\\src\\utils\\traceback_utils.py\", line 117, in error_handler\n",
      "\n",
      "  File \"c:\\Users\\Vishal\\anaconda3\\envs\\tf-with_some_pip\\lib\\site-packages\\keras\\src\\ops\\operation.py\", line 58, in __call__\n",
      "\n",
      "  File \"c:\\Users\\Vishal\\anaconda3\\envs\\tf-with_some_pip\\lib\\site-packages\\keras\\src\\utils\\traceback_utils.py\", line 156, in error_handler\n",
      "\n",
      "  File \"c:\\Users\\Vishal\\anaconda3\\envs\\tf-with_some_pip\\lib\\site-packages\\keras\\src\\models\\functional.py\", line 183, in call\n",
      "\n",
      "  File \"c:\\Users\\Vishal\\anaconda3\\envs\\tf-with_some_pip\\lib\\site-packages\\keras\\src\\ops\\function.py\", line 177, in _run_through_graph\n",
      "\n",
      "  File \"c:\\Users\\Vishal\\anaconda3\\envs\\tf-with_some_pip\\lib\\site-packages\\keras\\src\\models\\functional.py\", line 648, in call\n",
      "\n",
      "  File \"c:\\Users\\Vishal\\anaconda3\\envs\\tf-with_some_pip\\lib\\site-packages\\keras\\src\\utils\\traceback_utils.py\", line 117, in error_handler\n",
      "\n",
      "  File \"c:\\Users\\Vishal\\anaconda3\\envs\\tf-with_some_pip\\lib\\site-packages\\keras\\src\\layers\\layer.py\", line 936, in __call__\n",
      "\n",
      "  File \"c:\\Users\\Vishal\\anaconda3\\envs\\tf-with_some_pip\\lib\\site-packages\\keras\\src\\utils\\traceback_utils.py\", line 117, in error_handler\n",
      "\n",
      "  File \"c:\\Users\\Vishal\\anaconda3\\envs\\tf-with_some_pip\\lib\\site-packages\\keras\\src\\ops\\operation.py\", line 58, in __call__\n",
      "\n",
      "  File \"c:\\Users\\Vishal\\anaconda3\\envs\\tf-with_some_pip\\lib\\site-packages\\keras\\src\\utils\\traceback_utils.py\", line 156, in error_handler\n",
      "\n",
      "  File \"c:\\Users\\Vishal\\anaconda3\\envs\\tf-with_some_pip\\lib\\site-packages\\keras\\src\\layers\\core\\embedding.py\", line 150, in call\n",
      "\n",
      "  File \"c:\\Users\\Vishal\\anaconda3\\envs\\tf-with_some_pip\\lib\\site-packages\\keras\\src\\ops\\numpy.py\", line 5581, in take\n",
      "\n",
      "  File \"c:\\Users\\Vishal\\anaconda3\\envs\\tf-with_some_pip\\lib\\site-packages\\keras\\src\\backend\\tensorflow\\numpy.py\", line 2274, in take\n",
      "\n",
      "indices[0,0] = 28549 is not in [0, 1)\n",
      "\t [[{{node functional_1/embedding_2/GatherV2}}]] [Op:__inference_multi_step_on_iterator_1369275]\n"
     ]
    },
    {
     "ename": "RuntimeError",
     "evalue": "Number of consecutive failures exceeded the limit of 3.\nTraceback (most recent call last):\n  File \"c:\\Users\\Vishal\\anaconda3\\envs\\tf-with_some_pip\\lib\\site-packages\\keras_tuner\\src\\engine\\base_tuner.py\", line 274, in _try_run_and_update_trial\n    self._run_and_update_trial(trial, *fit_args, **fit_kwargs)\n  File \"c:\\Users\\Vishal\\anaconda3\\envs\\tf-with_some_pip\\lib\\site-packages\\keras_tuner\\src\\engine\\base_tuner.py\", line 239, in _run_and_update_trial\n    results = self.run_trial(trial, *fit_args, **fit_kwargs)\n  File \"c:\\Users\\Vishal\\anaconda3\\envs\\tf-with_some_pip\\lib\\site-packages\\keras_tuner\\src\\tuners\\hyperband.py\", line 427, in run_trial\n    return super().run_trial(trial, *fit_args, **fit_kwargs)\n  File \"c:\\Users\\Vishal\\anaconda3\\envs\\tf-with_some_pip\\lib\\site-packages\\keras_tuner\\src\\engine\\tuner.py\", line 314, in run_trial\n    obj_value = self._build_and_fit_model(trial, *args, **copied_kwargs)\n  File \"c:\\Users\\Vishal\\anaconda3\\envs\\tf-with_some_pip\\lib\\site-packages\\keras_tuner\\src\\engine\\tuner.py\", line 233, in _build_and_fit_model\n    results = self.hypermodel.fit(hp, model, *args, **kwargs)\n  File \"c:\\Users\\Vishal\\anaconda3\\envs\\tf-with_some_pip\\lib\\site-packages\\keras_tuner\\src\\engine\\hypermodel.py\", line 149, in fit\n    return model.fit(*args, **kwargs)\n  File \"c:\\Users\\Vishal\\anaconda3\\envs\\tf-with_some_pip\\lib\\site-packages\\keras\\src\\utils\\traceback_utils.py\", line 122, in error_handler\n    raise e.with_traceback(filtered_tb) from None\n  File \"c:\\Users\\Vishal\\anaconda3\\envs\\tf-with_some_pip\\lib\\site-packages\\tensorflow\\python\\eager\\execute.py\", line 53, in quick_execute\n    tensors = pywrap_tfe.TFE_Py_Execute(ctx._handle, device_name, op_name,\ntensorflow.python.framework.errors_impl.InvalidArgumentError: Graph execution error:\n\nDetected at node functional_1/embedding_2/GatherV2 defined at (most recent call last):\n  File \"c:\\Users\\Vishal\\anaconda3\\envs\\tf-with_some_pip\\lib\\runpy.py\", line 197, in _run_module_as_main\n\n  File \"c:\\Users\\Vishal\\anaconda3\\envs\\tf-with_some_pip\\lib\\runpy.py\", line 87, in _run_code\n\n  File \"c:\\Users\\Vishal\\anaconda3\\envs\\tf-with_some_pip\\lib\\site-packages\\ipykernel_launcher.py\", line 18, in <module>\n\n  File \"c:\\Users\\Vishal\\anaconda3\\envs\\tf-with_some_pip\\lib\\site-packages\\traitlets\\config\\application.py\", line 1043, in launch_instance\n\n  File \"c:\\Users\\Vishal\\anaconda3\\envs\\tf-with_some_pip\\lib\\site-packages\\ipykernel\\kernelapp.py\", line 739, in start\n\n  File \"c:\\Users\\Vishal\\anaconda3\\envs\\tf-with_some_pip\\lib\\site-packages\\tornado\\platform\\asyncio.py\", line 205, in start\n\n  File \"c:\\Users\\Vishal\\anaconda3\\envs\\tf-with_some_pip\\lib\\asyncio\\base_events.py\", line 601, in run_forever\n\n  File \"c:\\Users\\Vishal\\anaconda3\\envs\\tf-with_some_pip\\lib\\asyncio\\base_events.py\", line 1905, in _run_once\n\n  File \"c:\\Users\\Vishal\\anaconda3\\envs\\tf-with_some_pip\\lib\\asyncio\\events.py\", line 80, in _run\n\n  File \"c:\\Users\\Vishal\\anaconda3\\envs\\tf-with_some_pip\\lib\\site-packages\\ipykernel\\kernelbase.py\", line 545, in dispatch_queue\n\n  File \"c:\\Users\\Vishal\\anaconda3\\envs\\tf-with_some_pip\\lib\\site-packages\\ipykernel\\kernelbase.py\", line 534, in process_one\n\n  File \"c:\\Users\\Vishal\\anaconda3\\envs\\tf-with_some_pip\\lib\\site-packages\\ipykernel\\kernelbase.py\", line 437, in dispatch_shell\n\n  File \"c:\\Users\\Vishal\\anaconda3\\envs\\tf-with_some_pip\\lib\\site-packages\\ipykernel\\ipkernel.py\", line 362, in execute_request\n\n  File \"c:\\Users\\Vishal\\anaconda3\\envs\\tf-with_some_pip\\lib\\site-packages\\ipykernel\\kernelbase.py\", line 778, in execute_request\n\n  File \"c:\\Users\\Vishal\\anaconda3\\envs\\tf-with_some_pip\\lib\\site-packages\\ipykernel\\ipkernel.py\", line 449, in do_execute\n\n  File \"c:\\Users\\Vishal\\anaconda3\\envs\\tf-with_some_pip\\lib\\site-packages\\ipykernel\\zmqshell.py\", line 549, in run_cell\n\n  File \"c:\\Users\\Vishal\\anaconda3\\envs\\tf-with_some_pip\\lib\\site-packages\\IPython\\core\\interactiveshell.py\", line 3009, in run_cell\n\n  File \"c:\\Users\\Vishal\\anaconda3\\envs\\tf-with_some_pip\\lib\\site-packages\\IPython\\core\\interactiveshell.py\", line 3064, in _run_cell\n\n  File \"c:\\Users\\Vishal\\anaconda3\\envs\\tf-with_some_pip\\lib\\site-packages\\IPython\\core\\async_helpers.py\", line 129, in _pseudo_sync_runner\n\n  File \"c:\\Users\\Vishal\\anaconda3\\envs\\tf-with_some_pip\\lib\\site-packages\\IPython\\core\\interactiveshell.py\", line 3269, in run_cell_async\n\n  File \"c:\\Users\\Vishal\\anaconda3\\envs\\tf-with_some_pip\\lib\\site-packages\\IPython\\core\\interactiveshell.py\", line 3448, in run_ast_nodes\n\n  File \"c:\\Users\\Vishal\\anaconda3\\envs\\tf-with_some_pip\\lib\\site-packages\\IPython\\core\\interactiveshell.py\", line 3508, in run_code\n\n  File \"C:\\Users\\Vishal\\AppData\\Local\\Temp\\ipykernel_21628\\3137367848.py\", line 14, in <module>\n\n  File \"c:\\Users\\Vishal\\anaconda3\\envs\\tf-with_some_pip\\lib\\site-packages\\keras_tuner\\src\\engine\\base_tuner.py\", line 234, in search\n\n  File \"c:\\Users\\Vishal\\anaconda3\\envs\\tf-with_some_pip\\lib\\site-packages\\keras_tuner\\src\\engine\\base_tuner.py\", line 274, in _try_run_and_update_trial\n\n  File \"c:\\Users\\Vishal\\anaconda3\\envs\\tf-with_some_pip\\lib\\site-packages\\keras_tuner\\src\\engine\\base_tuner.py\", line 239, in _run_and_update_trial\n\n  File \"c:\\Users\\Vishal\\anaconda3\\envs\\tf-with_some_pip\\lib\\site-packages\\keras_tuner\\src\\tuners\\hyperband.py\", line 427, in run_trial\n\n  File \"c:\\Users\\Vishal\\anaconda3\\envs\\tf-with_some_pip\\lib\\site-packages\\keras_tuner\\src\\engine\\tuner.py\", line 314, in run_trial\n\n  File \"c:\\Users\\Vishal\\anaconda3\\envs\\tf-with_some_pip\\lib\\site-packages\\keras_tuner\\src\\engine\\tuner.py\", line 233, in _build_and_fit_model\n\n  File \"c:\\Users\\Vishal\\anaconda3\\envs\\tf-with_some_pip\\lib\\site-packages\\keras_tuner\\src\\engine\\hypermodel.py\", line 149, in fit\n\n  File \"c:\\Users\\Vishal\\anaconda3\\envs\\tf-with_some_pip\\lib\\site-packages\\keras\\src\\utils\\traceback_utils.py\", line 117, in error_handler\n\n  File \"c:\\Users\\Vishal\\anaconda3\\envs\\tf-with_some_pip\\lib\\site-packages\\keras\\src\\backend\\tensorflow\\trainer.py\", line 377, in fit\n\n  File \"c:\\Users\\Vishal\\anaconda3\\envs\\tf-with_some_pip\\lib\\site-packages\\keras\\src\\backend\\tensorflow\\trainer.py\", line 220, in function\n\n  File \"c:\\Users\\Vishal\\anaconda3\\envs\\tf-with_some_pip\\lib\\site-packages\\keras\\src\\backend\\tensorflow\\trainer.py\", line 133, in multi_step_on_iterator\n\n  File \"c:\\Users\\Vishal\\anaconda3\\envs\\tf-with_some_pip\\lib\\site-packages\\keras\\src\\backend\\tensorflow\\trainer.py\", line 114, in one_step_on_data\n\n  File \"c:\\Users\\Vishal\\anaconda3\\envs\\tf-with_some_pip\\lib\\site-packages\\keras\\src\\backend\\tensorflow\\trainer.py\", line 58, in train_step\n\n  File \"c:\\Users\\Vishal\\anaconda3\\envs\\tf-with_some_pip\\lib\\site-packages\\keras\\src\\utils\\traceback_utils.py\", line 117, in error_handler\n\n  File \"c:\\Users\\Vishal\\anaconda3\\envs\\tf-with_some_pip\\lib\\site-packages\\keras\\src\\layers\\layer.py\", line 936, in __call__\n\n  File \"c:\\Users\\Vishal\\anaconda3\\envs\\tf-with_some_pip\\lib\\site-packages\\keras\\src\\utils\\traceback_utils.py\", line 117, in error_handler\n\n  File \"c:\\Users\\Vishal\\anaconda3\\envs\\tf-with_some_pip\\lib\\site-packages\\keras\\src\\ops\\operation.py\", line 58, in __call__\n\n  File \"c:\\Users\\Vishal\\anaconda3\\envs\\tf-with_some_pip\\lib\\site-packages\\keras\\src\\utils\\traceback_utils.py\", line 156, in error_handler\n\n  File \"c:\\Users\\Vishal\\anaconda3\\envs\\tf-with_some_pip\\lib\\site-packages\\keras\\src\\models\\functional.py\", line 183, in call\n\n  File \"c:\\Users\\Vishal\\anaconda3\\envs\\tf-with_some_pip\\lib\\site-packages\\keras\\src\\ops\\function.py\", line 177, in _run_through_graph\n\n  File \"c:\\Users\\Vishal\\anaconda3\\envs\\tf-with_some_pip\\lib\\site-packages\\keras\\src\\models\\functional.py\", line 648, in call\n\n  File \"c:\\Users\\Vishal\\anaconda3\\envs\\tf-with_some_pip\\lib\\site-packages\\keras\\src\\utils\\traceback_utils.py\", line 117, in error_handler\n\n  File \"c:\\Users\\Vishal\\anaconda3\\envs\\tf-with_some_pip\\lib\\site-packages\\keras\\src\\layers\\layer.py\", line 936, in __call__\n\n  File \"c:\\Users\\Vishal\\anaconda3\\envs\\tf-with_some_pip\\lib\\site-packages\\keras\\src\\utils\\traceback_utils.py\", line 117, in error_handler\n\n  File \"c:\\Users\\Vishal\\anaconda3\\envs\\tf-with_some_pip\\lib\\site-packages\\keras\\src\\ops\\operation.py\", line 58, in __call__\n\n  File \"c:\\Users\\Vishal\\anaconda3\\envs\\tf-with_some_pip\\lib\\site-packages\\keras\\src\\utils\\traceback_utils.py\", line 156, in error_handler\n\n  File \"c:\\Users\\Vishal\\anaconda3\\envs\\tf-with_some_pip\\lib\\site-packages\\keras\\src\\layers\\core\\embedding.py\", line 150, in call\n\n  File \"c:\\Users\\Vishal\\anaconda3\\envs\\tf-with_some_pip\\lib\\site-packages\\keras\\src\\ops\\numpy.py\", line 5581, in take\n\n  File \"c:\\Users\\Vishal\\anaconda3\\envs\\tf-with_some_pip\\lib\\site-packages\\keras\\src\\backend\\tensorflow\\numpy.py\", line 2274, in take\n\nindices[0,0] = 28549 is not in [0, 1)\n\t [[{{node functional_1/embedding_2/GatherV2}}]] [Op:__inference_multi_step_on_iterator_1369275]\n",
     "output_type": "error",
     "traceback": [
      "\u001b[1;31m---------------------------------------------------------------------------\u001b[0m",
      "\u001b[1;31mRuntimeError\u001b[0m                              Traceback (most recent call last)",
      "Cell \u001b[1;32mIn[131], line 14\u001b[0m\n\u001b[0;32m     11\u001b[0m stop_early \u001b[38;5;241m=\u001b[39m tf\u001b[38;5;241m.\u001b[39mkeras\u001b[38;5;241m.\u001b[39mcallbacks\u001b[38;5;241m.\u001b[39mEarlyStopping(monitor\u001b[38;5;241m=\u001b[39m\u001b[38;5;124m'\u001b[39m\u001b[38;5;124mval_loss\u001b[39m\u001b[38;5;124m'\u001b[39m, patience\u001b[38;5;241m=\u001b[39m\u001b[38;5;241m5\u001b[39m)\n\u001b[0;32m     13\u001b[0m \u001b[38;5;66;03m# Tune\u001b[39;00m\n\u001b[1;32m---> 14\u001b[0m \u001b[43mtuner\u001b[49m\u001b[38;5;241;43m.\u001b[39;49m\u001b[43msearch\u001b[49m\u001b[43m(\u001b[49m\u001b[43m(\u001b[49m\u001b[43mx_train_users\u001b[49m\u001b[43m,\u001b[49m\u001b[43mx_train_items\u001b[49m\u001b[43m)\u001b[49m\u001b[43m,\u001b[49m\u001b[43my_train\u001b[49m\u001b[43m,\u001b[49m\u001b[43mvalidation_data\u001b[49m\u001b[38;5;241;43m=\u001b[39;49m\u001b[43m(\u001b[49m\u001b[43m(\u001b[49m\u001b[43mx_val_users\u001b[49m\u001b[43m,\u001b[49m\u001b[43mx_val_items\u001b[49m\u001b[43m)\u001b[49m\u001b[43m,\u001b[49m\u001b[43my_val\u001b[49m\u001b[43m)\u001b[49m\u001b[43m,\u001b[49m\u001b[43m \u001b[49m\u001b[43mepochs\u001b[49m\u001b[38;5;241;43m=\u001b[39;49m\u001b[38;5;241;43m100\u001b[39;49m\u001b[43m,\u001b[49m\u001b[43m \u001b[49m\u001b[43mcallbacks\u001b[49m\u001b[38;5;241;43m=\u001b[39;49m\u001b[43m[\u001b[49m\u001b[43mstop_early\u001b[49m\u001b[43m]\u001b[49m\u001b[43m)\u001b[49m\n\u001b[0;32m     16\u001b[0m \u001b[38;5;66;03m#===================Get best hyperparams and rebuild=====================#\u001b[39;00m\n\u001b[0;32m     17\u001b[0m \n\u001b[0;32m     18\u001b[0m \u001b[38;5;66;03m# Get the optimal hyperparameters\u001b[39;00m\n\u001b[0;32m     19\u001b[0m best_hps\u001b[38;5;241m=\u001b[39mtuner\u001b[38;5;241m.\u001b[39mget_best_hyperparameters(num_trials\u001b[38;5;241m=\u001b[39m\u001b[38;5;241m1\u001b[39m)[\u001b[38;5;241m0\u001b[39m]\n",
      "File \u001b[1;32mc:\\Users\\Vishal\\anaconda3\\envs\\tf-with_some_pip\\lib\\site-packages\\keras_tuner\\src\\engine\\base_tuner.py:235\u001b[0m, in \u001b[0;36mBaseTuner.search\u001b[1;34m(self, *fit_args, **fit_kwargs)\u001b[0m\n\u001b[0;32m    233\u001b[0m     \u001b[38;5;28mself\u001b[39m\u001b[38;5;241m.\u001b[39mon_trial_begin(trial)\n\u001b[0;32m    234\u001b[0m     \u001b[38;5;28mself\u001b[39m\u001b[38;5;241m.\u001b[39m_try_run_and_update_trial(trial, \u001b[38;5;241m*\u001b[39mfit_args, \u001b[38;5;241m*\u001b[39m\u001b[38;5;241m*\u001b[39mfit_kwargs)\n\u001b[1;32m--> 235\u001b[0m     \u001b[38;5;28;43mself\u001b[39;49m\u001b[38;5;241;43m.\u001b[39;49m\u001b[43mon_trial_end\u001b[49m\u001b[43m(\u001b[49m\u001b[43mtrial\u001b[49m\u001b[43m)\u001b[49m\n\u001b[0;32m    236\u001b[0m \u001b[38;5;28mself\u001b[39m\u001b[38;5;241m.\u001b[39mon_search_end()\n",
      "File \u001b[1;32mc:\\Users\\Vishal\\anaconda3\\envs\\tf-with_some_pip\\lib\\site-packages\\keras_tuner\\src\\engine\\base_tuner.py:339\u001b[0m, in \u001b[0;36mBaseTuner.on_trial_end\u001b[1;34m(self, trial)\u001b[0m\n\u001b[0;32m    333\u001b[0m \u001b[38;5;28;01mdef\u001b[39;00m \u001b[38;5;21mon_trial_end\u001b[39m(\u001b[38;5;28mself\u001b[39m, trial):\n\u001b[0;32m    334\u001b[0m \u001b[38;5;250m    \u001b[39m\u001b[38;5;124;03m\"\"\"Called at the end of a trial.\u001b[39;00m\n\u001b[0;32m    335\u001b[0m \n\u001b[0;32m    336\u001b[0m \u001b[38;5;124;03m    Args:\u001b[39;00m\n\u001b[0;32m    337\u001b[0m \u001b[38;5;124;03m        trial: A `Trial` instance.\u001b[39;00m\n\u001b[0;32m    338\u001b[0m \u001b[38;5;124;03m    \"\"\"\u001b[39;00m\n\u001b[1;32m--> 339\u001b[0m     \u001b[38;5;28;43mself\u001b[39;49m\u001b[38;5;241;43m.\u001b[39;49m\u001b[43moracle\u001b[49m\u001b[38;5;241;43m.\u001b[39;49m\u001b[43mend_trial\u001b[49m\u001b[43m(\u001b[49m\u001b[43mtrial\u001b[49m\u001b[43m)\u001b[49m\n\u001b[0;32m    340\u001b[0m     \u001b[38;5;28mself\u001b[39m\u001b[38;5;241m.\u001b[39msave()\n",
      "File \u001b[1;32mc:\\Users\\Vishal\\anaconda3\\envs\\tf-with_some_pip\\lib\\site-packages\\keras_tuner\\src\\engine\\oracle.py:108\u001b[0m, in \u001b[0;36msynchronized.<locals>.wrapped_func\u001b[1;34m(*args, **kwargs)\u001b[0m\n\u001b[0;32m    106\u001b[0m     LOCKS[oracle]\u001b[38;5;241m.\u001b[39macquire()\n\u001b[0;32m    107\u001b[0m     THREADS[oracle] \u001b[38;5;241m=\u001b[39m thread_name\n\u001b[1;32m--> 108\u001b[0m ret_val \u001b[38;5;241m=\u001b[39m func(\u001b[38;5;241m*\u001b[39margs, \u001b[38;5;241m*\u001b[39m\u001b[38;5;241m*\u001b[39mkwargs)\n\u001b[0;32m    109\u001b[0m \u001b[38;5;28;01mif\u001b[39;00m need_acquire:\n\u001b[0;32m    110\u001b[0m     THREADS[oracle] \u001b[38;5;241m=\u001b[39m \u001b[38;5;28;01mNone\u001b[39;00m\n",
      "File \u001b[1;32mc:\\Users\\Vishal\\anaconda3\\envs\\tf-with_some_pip\\lib\\site-packages\\keras_tuner\\src\\engine\\oracle.py:588\u001b[0m, in \u001b[0;36mOracle.end_trial\u001b[1;34m(self, trial)\u001b[0m\n\u001b[0;32m    586\u001b[0m \u001b[38;5;28;01mif\u001b[39;00m \u001b[38;5;129;01mnot\u001b[39;00m \u001b[38;5;28mself\u001b[39m\u001b[38;5;241m.\u001b[39m_retry(trial):\n\u001b[0;32m    587\u001b[0m     \u001b[38;5;28mself\u001b[39m\u001b[38;5;241m.\u001b[39mend_order\u001b[38;5;241m.\u001b[39mappend(trial\u001b[38;5;241m.\u001b[39mtrial_id)\n\u001b[1;32m--> 588\u001b[0m     \u001b[38;5;28;43mself\u001b[39;49m\u001b[38;5;241;43m.\u001b[39;49m\u001b[43m_check_consecutive_failures\u001b[49m\u001b[43m(\u001b[49m\u001b[43m)\u001b[49m\n\u001b[0;32m    590\u001b[0m \u001b[38;5;28mself\u001b[39m\u001b[38;5;241m.\u001b[39m_save_trial(trial)\n\u001b[0;32m    591\u001b[0m \u001b[38;5;28mself\u001b[39m\u001b[38;5;241m.\u001b[39msave()\n",
      "File \u001b[1;32mc:\\Users\\Vishal\\anaconda3\\envs\\tf-with_some_pip\\lib\\site-packages\\keras_tuner\\src\\engine\\oracle.py:545\u001b[0m, in \u001b[0;36mOracle._check_consecutive_failures\u001b[1;34m(self)\u001b[0m\n\u001b[0;32m    543\u001b[0m     consecutive_failures \u001b[38;5;241m=\u001b[39m \u001b[38;5;241m0\u001b[39m\n\u001b[0;32m    544\u001b[0m \u001b[38;5;28;01mif\u001b[39;00m consecutive_failures \u001b[38;5;241m==\u001b[39m \u001b[38;5;28mself\u001b[39m\u001b[38;5;241m.\u001b[39mmax_consecutive_failed_trials:\n\u001b[1;32m--> 545\u001b[0m     \u001b[38;5;28;01mraise\u001b[39;00m \u001b[38;5;167;01mRuntimeError\u001b[39;00m(\n\u001b[0;32m    546\u001b[0m         \u001b[38;5;124m\"\u001b[39m\u001b[38;5;124mNumber of consecutive failures exceeded the limit \u001b[39m\u001b[38;5;124m\"\u001b[39m\n\u001b[0;32m    547\u001b[0m         \u001b[38;5;124mf\u001b[39m\u001b[38;5;124m\"\u001b[39m\u001b[38;5;124mof \u001b[39m\u001b[38;5;132;01m{\u001b[39;00m\u001b[38;5;28mself\u001b[39m\u001b[38;5;241m.\u001b[39mmax_consecutive_failed_trials\u001b[38;5;132;01m}\u001b[39;00m\u001b[38;5;124m.\u001b[39m\u001b[38;5;130;01m\\n\u001b[39;00m\u001b[38;5;124m\"\u001b[39m\n\u001b[0;32m    548\u001b[0m         \u001b[38;5;241m+\u001b[39m (trial\u001b[38;5;241m.\u001b[39mmessage \u001b[38;5;129;01mor\u001b[39;00m \u001b[38;5;124m\"\u001b[39m\u001b[38;5;124m\"\u001b[39m)\n\u001b[0;32m    549\u001b[0m     )\n",
      "\u001b[1;31mRuntimeError\u001b[0m: Number of consecutive failures exceeded the limit of 3.\nTraceback (most recent call last):\n  File \"c:\\Users\\Vishal\\anaconda3\\envs\\tf-with_some_pip\\lib\\site-packages\\keras_tuner\\src\\engine\\base_tuner.py\", line 274, in _try_run_and_update_trial\n    self._run_and_update_trial(trial, *fit_args, **fit_kwargs)\n  File \"c:\\Users\\Vishal\\anaconda3\\envs\\tf-with_some_pip\\lib\\site-packages\\keras_tuner\\src\\engine\\base_tuner.py\", line 239, in _run_and_update_trial\n    results = self.run_trial(trial, *fit_args, **fit_kwargs)\n  File \"c:\\Users\\Vishal\\anaconda3\\envs\\tf-with_some_pip\\lib\\site-packages\\keras_tuner\\src\\tuners\\hyperband.py\", line 427, in run_trial\n    return super().run_trial(trial, *fit_args, **fit_kwargs)\n  File \"c:\\Users\\Vishal\\anaconda3\\envs\\tf-with_some_pip\\lib\\site-packages\\keras_tuner\\src\\engine\\tuner.py\", line 314, in run_trial\n    obj_value = self._build_and_fit_model(trial, *args, **copied_kwargs)\n  File \"c:\\Users\\Vishal\\anaconda3\\envs\\tf-with_some_pip\\lib\\site-packages\\keras_tuner\\src\\engine\\tuner.py\", line 233, in _build_and_fit_model\n    results = self.hypermodel.fit(hp, model, *args, **kwargs)\n  File \"c:\\Users\\Vishal\\anaconda3\\envs\\tf-with_some_pip\\lib\\site-packages\\keras_tuner\\src\\engine\\hypermodel.py\", line 149, in fit\n    return model.fit(*args, **kwargs)\n  File \"c:\\Users\\Vishal\\anaconda3\\envs\\tf-with_some_pip\\lib\\site-packages\\keras\\src\\utils\\traceback_utils.py\", line 122, in error_handler\n    raise e.with_traceback(filtered_tb) from None\n  File \"c:\\Users\\Vishal\\anaconda3\\envs\\tf-with_some_pip\\lib\\site-packages\\tensorflow\\python\\eager\\execute.py\", line 53, in quick_execute\n    tensors = pywrap_tfe.TFE_Py_Execute(ctx._handle, device_name, op_name,\ntensorflow.python.framework.errors_impl.InvalidArgumentError: Graph execution error:\n\nDetected at node functional_1/embedding_2/GatherV2 defined at (most recent call last):\n  File \"c:\\Users\\Vishal\\anaconda3\\envs\\tf-with_some_pip\\lib\\runpy.py\", line 197, in _run_module_as_main\n\n  File \"c:\\Users\\Vishal\\anaconda3\\envs\\tf-with_some_pip\\lib\\runpy.py\", line 87, in _run_code\n\n  File \"c:\\Users\\Vishal\\anaconda3\\envs\\tf-with_some_pip\\lib\\site-packages\\ipykernel_launcher.py\", line 18, in <module>\n\n  File \"c:\\Users\\Vishal\\anaconda3\\envs\\tf-with_some_pip\\lib\\site-packages\\traitlets\\config\\application.py\", line 1043, in launch_instance\n\n  File \"c:\\Users\\Vishal\\anaconda3\\envs\\tf-with_some_pip\\lib\\site-packages\\ipykernel\\kernelapp.py\", line 739, in start\n\n  File \"c:\\Users\\Vishal\\anaconda3\\envs\\tf-with_some_pip\\lib\\site-packages\\tornado\\platform\\asyncio.py\", line 205, in start\n\n  File \"c:\\Users\\Vishal\\anaconda3\\envs\\tf-with_some_pip\\lib\\asyncio\\base_events.py\", line 601, in run_forever\n\n  File \"c:\\Users\\Vishal\\anaconda3\\envs\\tf-with_some_pip\\lib\\asyncio\\base_events.py\", line 1905, in _run_once\n\n  File \"c:\\Users\\Vishal\\anaconda3\\envs\\tf-with_some_pip\\lib\\asyncio\\events.py\", line 80, in _run\n\n  File \"c:\\Users\\Vishal\\anaconda3\\envs\\tf-with_some_pip\\lib\\site-packages\\ipykernel\\kernelbase.py\", line 545, in dispatch_queue\n\n  File \"c:\\Users\\Vishal\\anaconda3\\envs\\tf-with_some_pip\\lib\\site-packages\\ipykernel\\kernelbase.py\", line 534, in process_one\n\n  File \"c:\\Users\\Vishal\\anaconda3\\envs\\tf-with_some_pip\\lib\\site-packages\\ipykernel\\kernelbase.py\", line 437, in dispatch_shell\n\n  File \"c:\\Users\\Vishal\\anaconda3\\envs\\tf-with_some_pip\\lib\\site-packages\\ipykernel\\ipkernel.py\", line 362, in execute_request\n\n  File \"c:\\Users\\Vishal\\anaconda3\\envs\\tf-with_some_pip\\lib\\site-packages\\ipykernel\\kernelbase.py\", line 778, in execute_request\n\n  File \"c:\\Users\\Vishal\\anaconda3\\envs\\tf-with_some_pip\\lib\\site-packages\\ipykernel\\ipkernel.py\", line 449, in do_execute\n\n  File \"c:\\Users\\Vishal\\anaconda3\\envs\\tf-with_some_pip\\lib\\site-packages\\ipykernel\\zmqshell.py\", line 549, in run_cell\n\n  File \"c:\\Users\\Vishal\\anaconda3\\envs\\tf-with_some_pip\\lib\\site-packages\\IPython\\core\\interactiveshell.py\", line 3009, in run_cell\n\n  File \"c:\\Users\\Vishal\\anaconda3\\envs\\tf-with_some_pip\\lib\\site-packages\\IPython\\core\\interactiveshell.py\", line 3064, in _run_cell\n\n  File \"c:\\Users\\Vishal\\anaconda3\\envs\\tf-with_some_pip\\lib\\site-packages\\IPython\\core\\async_helpers.py\", line 129, in _pseudo_sync_runner\n\n  File \"c:\\Users\\Vishal\\anaconda3\\envs\\tf-with_some_pip\\lib\\site-packages\\IPython\\core\\interactiveshell.py\", line 3269, in run_cell_async\n\n  File \"c:\\Users\\Vishal\\anaconda3\\envs\\tf-with_some_pip\\lib\\site-packages\\IPython\\core\\interactiveshell.py\", line 3448, in run_ast_nodes\n\n  File \"c:\\Users\\Vishal\\anaconda3\\envs\\tf-with_some_pip\\lib\\site-packages\\IPython\\core\\interactiveshell.py\", line 3508, in run_code\n\n  File \"C:\\Users\\Vishal\\AppData\\Local\\Temp\\ipykernel_21628\\3137367848.py\", line 14, in <module>\n\n  File \"c:\\Users\\Vishal\\anaconda3\\envs\\tf-with_some_pip\\lib\\site-packages\\keras_tuner\\src\\engine\\base_tuner.py\", line 234, in search\n\n  File \"c:\\Users\\Vishal\\anaconda3\\envs\\tf-with_some_pip\\lib\\site-packages\\keras_tuner\\src\\engine\\base_tuner.py\", line 274, in _try_run_and_update_trial\n\n  File \"c:\\Users\\Vishal\\anaconda3\\envs\\tf-with_some_pip\\lib\\site-packages\\keras_tuner\\src\\engine\\base_tuner.py\", line 239, in _run_and_update_trial\n\n  File \"c:\\Users\\Vishal\\anaconda3\\envs\\tf-with_some_pip\\lib\\site-packages\\keras_tuner\\src\\tuners\\hyperband.py\", line 427, in run_trial\n\n  File \"c:\\Users\\Vishal\\anaconda3\\envs\\tf-with_some_pip\\lib\\site-packages\\keras_tuner\\src\\engine\\tuner.py\", line 314, in run_trial\n\n  File \"c:\\Users\\Vishal\\anaconda3\\envs\\tf-with_some_pip\\lib\\site-packages\\keras_tuner\\src\\engine\\tuner.py\", line 233, in _build_and_fit_model\n\n  File \"c:\\Users\\Vishal\\anaconda3\\envs\\tf-with_some_pip\\lib\\site-packages\\keras_tuner\\src\\engine\\hypermodel.py\", line 149, in fit\n\n  File \"c:\\Users\\Vishal\\anaconda3\\envs\\tf-with_some_pip\\lib\\site-packages\\keras\\src\\utils\\traceback_utils.py\", line 117, in error_handler\n\n  File \"c:\\Users\\Vishal\\anaconda3\\envs\\tf-with_some_pip\\lib\\site-packages\\keras\\src\\backend\\tensorflow\\trainer.py\", line 377, in fit\n\n  File \"c:\\Users\\Vishal\\anaconda3\\envs\\tf-with_some_pip\\lib\\site-packages\\keras\\src\\backend\\tensorflow\\trainer.py\", line 220, in function\n\n  File \"c:\\Users\\Vishal\\anaconda3\\envs\\tf-with_some_pip\\lib\\site-packages\\keras\\src\\backend\\tensorflow\\trainer.py\", line 133, in multi_step_on_iterator\n\n  File \"c:\\Users\\Vishal\\anaconda3\\envs\\tf-with_some_pip\\lib\\site-packages\\keras\\src\\backend\\tensorflow\\trainer.py\", line 114, in one_step_on_data\n\n  File \"c:\\Users\\Vishal\\anaconda3\\envs\\tf-with_some_pip\\lib\\site-packages\\keras\\src\\backend\\tensorflow\\trainer.py\", line 58, in train_step\n\n  File \"c:\\Users\\Vishal\\anaconda3\\envs\\tf-with_some_pip\\lib\\site-packages\\keras\\src\\utils\\traceback_utils.py\", line 117, in error_handler\n\n  File \"c:\\Users\\Vishal\\anaconda3\\envs\\tf-with_some_pip\\lib\\site-packages\\keras\\src\\layers\\layer.py\", line 936, in __call__\n\n  File \"c:\\Users\\Vishal\\anaconda3\\envs\\tf-with_some_pip\\lib\\site-packages\\keras\\src\\utils\\traceback_utils.py\", line 117, in error_handler\n\n  File \"c:\\Users\\Vishal\\anaconda3\\envs\\tf-with_some_pip\\lib\\site-packages\\keras\\src\\ops\\operation.py\", line 58, in __call__\n\n  File \"c:\\Users\\Vishal\\anaconda3\\envs\\tf-with_some_pip\\lib\\site-packages\\keras\\src\\utils\\traceback_utils.py\", line 156, in error_handler\n\n  File \"c:\\Users\\Vishal\\anaconda3\\envs\\tf-with_some_pip\\lib\\site-packages\\keras\\src\\models\\functional.py\", line 183, in call\n\n  File \"c:\\Users\\Vishal\\anaconda3\\envs\\tf-with_some_pip\\lib\\site-packages\\keras\\src\\ops\\function.py\", line 177, in _run_through_graph\n\n  File \"c:\\Users\\Vishal\\anaconda3\\envs\\tf-with_some_pip\\lib\\site-packages\\keras\\src\\models\\functional.py\", line 648, in call\n\n  File \"c:\\Users\\Vishal\\anaconda3\\envs\\tf-with_some_pip\\lib\\site-packages\\keras\\src\\utils\\traceback_utils.py\", line 117, in error_handler\n\n  File \"c:\\Users\\Vishal\\anaconda3\\envs\\tf-with_some_pip\\lib\\site-packages\\keras\\src\\layers\\layer.py\", line 936, in __call__\n\n  File \"c:\\Users\\Vishal\\anaconda3\\envs\\tf-with_some_pip\\lib\\site-packages\\keras\\src\\utils\\traceback_utils.py\", line 117, in error_handler\n\n  File \"c:\\Users\\Vishal\\anaconda3\\envs\\tf-with_some_pip\\lib\\site-packages\\keras\\src\\ops\\operation.py\", line 58, in __call__\n\n  File \"c:\\Users\\Vishal\\anaconda3\\envs\\tf-with_some_pip\\lib\\site-packages\\keras\\src\\utils\\traceback_utils.py\", line 156, in error_handler\n\n  File \"c:\\Users\\Vishal\\anaconda3\\envs\\tf-with_some_pip\\lib\\site-packages\\keras\\src\\layers\\core\\embedding.py\", line 150, in call\n\n  File \"c:\\Users\\Vishal\\anaconda3\\envs\\tf-with_some_pip\\lib\\site-packages\\keras\\src\\ops\\numpy.py\", line 5581, in take\n\n  File \"c:\\Users\\Vishal\\anaconda3\\envs\\tf-with_some_pip\\lib\\site-packages\\keras\\src\\backend\\tensorflow\\numpy.py\", line 2274, in take\n\nindices[0,0] = 28549 is not in [0, 1)\n\t [[{{node functional_1/embedding_2/GatherV2}}]] [Op:__inference_multi_step_on_iterator_1369275]\n"
     ]
    }
   ],
   "source": [
    "#=============================Setup================================#\n",
    "# Create Tuner \n",
    "tuner = kt.Hyperband(DNN_model_builder,\n",
    "                     objective=kt.Objective(\"val_rmse\", direction=\"min\"),\n",
    "                     max_epochs=20,\n",
    "                     factor=3,\n",
    "                     directory='my_ann',\n",
    "                     project_name='ANN'\n",
    "                    )\n",
    "\n",
    "stop_early = tf.keras.callbacks.EarlyStopping(monitor='val_loss', patience=5)\n",
    "\n",
    "# Tune\n",
    "tuner.search((x_train_users,x_train_items),y_train,validation_data=((x_val_users,x_val_items),y_val), epochs=100, callbacks=[stop_early])\n",
    "\n",
    "#===================Get best hyperparams and rebuild=====================#\n",
    "\n",
    "# Get the optimal hyperparameters\n",
    "best_hps=tuner.get_best_hyperparameters(num_trials=1)[0]\n",
    "\n",
    "print(f\"\"\"\n",
    "The hyperparameter search is complete. The optimal number of units in the first densely-connected\n",
    "layer is {best_hps.get('units')} and the optimal learning rate for the optimizer\n",
    "is {best_hps.get('learning_rate')}\n",
    "\"\"\")\n",
    "\n",
    "# Build the model with the optimal hyperparameters and train it on the data for 50 epochs\n",
    "model = tuner.hypermodel.build(best_hps)\n",
    "history = model.fit((x_train_users,x_train_items),y_train, epochs=100,validation_data=((x_val_users,x_val_items),y_val))\n",
    "\n",
    "val_acc_per_epoch = history.history['val_rmse']\n",
    "best_epoch = val_acc_per_epoch.index(max(val_acc_per_epoch)) + 1\n",
    "print('Best epoch: %d' % (best_epoch,))\n",
    "\n",
    "#===================Get best epoch and rebuild=====================#\n",
    "\n",
    "#Rebuild with best params\n",
    "hypermodel = tuner.hypermodel.build(best_hps)\n",
    "# Retrain the model\n",
    "hypermodel.fit((x_train_users,x_train_items),y_train, epochs=best_epoch,validation_data=((x_val_users,x_val_items),y_val))\n",
    "# Print results\n",
    "eval_result_train = hypermodel.evaluate((x_train_users,x_train_items),y_train)\n",
    "print(\"[test loss, test mae]:\", eval_result_train)\n",
    "eval_result_val = hypermodel.evaluate((x_val_users,x_val_items),y_val)\n",
    "print(\"[test loss, test mae]:\", eval_result_val)\n",
    "eval_result_test = hypermodel.evaluate((x_test_users,x_test_items),y_test)\n",
    "print(\"[test loss, test mae]:\", eval_result_test)"
   ]
  },
  {
   "cell_type": "markdown",
   "metadata": {},
   "source": [
    "<details>\n",
    "    <summary>Click here for Hints</summary>\n",
    "    \n",
    "Use `x_test, y_test` as parameters for `model.evaluate()`\n"
   ]
  },
  {
   "cell_type": "markdown",
   "metadata": {},
   "source": [
    "### Extract the user and item embedding vectors as latent feature vectors\n"
   ]
  },
  {
   "cell_type": "markdown",
   "metadata": {},
   "source": [
    "Now, we have trained the `RecommenderNet()` model and it can predict the ratings with relatively small RMSE. \n",
    "\n",
    "If we print the trained model then we can see its layers and their parameters/weights.\n"
   ]
  },
  {
   "cell_type": "code",
   "execution_count": null,
   "metadata": {},
   "outputs": [
    {
     "data": {
      "text/html": [
       "<pre style=\"white-space:pre;overflow-x:auto;line-height:normal;font-family:Menlo,'DejaVu Sans Mono',consolas,'Courier New',monospace\"><span style=\"font-weight: bold\">Model: \"recommender_net\"</span>\n",
       "</pre>\n"
      ],
      "text/plain": [
       "\u001b[1mModel: \"recommender_net\"\u001b[0m\n"
      ]
     },
     "metadata": {},
     "output_type": "display_data"
    },
    {
     "data": {
      "text/html": [
       "<pre style=\"white-space:pre;overflow-x:auto;line-height:normal;font-family:Menlo,'DejaVu Sans Mono',consolas,'Courier New',monospace\">┏━━━━━━━━━━━━━━━━━━━━━━━━━━━━━━━━━┳━━━━━━━━━━━━━━━━━━━━━━━━┳━━━━━━━━━━━━━━━┓\n",
       "┃<span style=\"font-weight: bold\"> Layer (type)                    </span>┃<span style=\"font-weight: bold\"> Output Shape           </span>┃<span style=\"font-weight: bold\">       Param # </span>┃\n",
       "┡━━━━━━━━━━━━━━━━━━━━━━━━━━━━━━━━━╇━━━━━━━━━━━━━━━━━━━━━━━━╇━━━━━━━━━━━━━━━┩\n",
       "│ user_embedding_layer            │ (<span style=\"color: #00d7ff; text-decoration-color: #00d7ff\">None</span>, <span style=\"color: #00af00; text-decoration-color: #00af00\">16</span>)             │       <span style=\"color: #00af00; text-decoration-color: #00af00\">542,416</span> │\n",
       "│ (<span style=\"color: #0087ff; text-decoration-color: #0087ff\">Embedding</span>)                     │                        │               │\n",
       "├─────────────────────────────────┼────────────────────────┼───────────────┤\n",
       "│ user_bias (<span style=\"color: #0087ff; text-decoration-color: #0087ff\">Embedding</span>)           │ (<span style=\"color: #00d7ff; text-decoration-color: #00d7ff\">None</span>, <span style=\"color: #00af00; text-decoration-color: #00af00\">1</span>)              │        <span style=\"color: #00af00; text-decoration-color: #00af00\">33,901</span> │\n",
       "├─────────────────────────────────┼────────────────────────┼───────────────┤\n",
       "│ item_embedding_layer            │ (<span style=\"color: #00d7ff; text-decoration-color: #00d7ff\">None</span>, <span style=\"color: #00af00; text-decoration-color: #00af00\">16</span>)             │         <span style=\"color: #00af00; text-decoration-color: #00af00\">2,016</span> │\n",
       "│ (<span style=\"color: #0087ff; text-decoration-color: #0087ff\">Embedding</span>)                     │                        │               │\n",
       "├─────────────────────────────────┼────────────────────────┼───────────────┤\n",
       "│ item_bias (<span style=\"color: #0087ff; text-decoration-color: #0087ff\">Embedding</span>)           │ (<span style=\"color: #00d7ff; text-decoration-color: #00d7ff\">None</span>, <span style=\"color: #00af00; text-decoration-color: #00af00\">1</span>)              │           <span style=\"color: #00af00; text-decoration-color: #00af00\">126</span> │\n",
       "└─────────────────────────────────┴────────────────────────┴───────────────┘\n",
       "</pre>\n"
      ],
      "text/plain": [
       "┏━━━━━━━━━━━━━━━━━━━━━━━━━━━━━━━━━┳━━━━━━━━━━━━━━━━━━━━━━━━┳━━━━━━━━━━━━━━━┓\n",
       "┃\u001b[1m \u001b[0m\u001b[1mLayer (type)                   \u001b[0m\u001b[1m \u001b[0m┃\u001b[1m \u001b[0m\u001b[1mOutput Shape          \u001b[0m\u001b[1m \u001b[0m┃\u001b[1m \u001b[0m\u001b[1m      Param #\u001b[0m\u001b[1m \u001b[0m┃\n",
       "┡━━━━━━━━━━━━━━━━━━━━━━━━━━━━━━━━━╇━━━━━━━━━━━━━━━━━━━━━━━━╇━━━━━━━━━━━━━━━┩\n",
       "│ user_embedding_layer            │ (\u001b[38;5;45mNone\u001b[0m, \u001b[38;5;34m16\u001b[0m)             │       \u001b[38;5;34m542,416\u001b[0m │\n",
       "│ (\u001b[38;5;33mEmbedding\u001b[0m)                     │                        │               │\n",
       "├─────────────────────────────────┼────────────────────────┼───────────────┤\n",
       "│ user_bias (\u001b[38;5;33mEmbedding\u001b[0m)           │ (\u001b[38;5;45mNone\u001b[0m, \u001b[38;5;34m1\u001b[0m)              │        \u001b[38;5;34m33,901\u001b[0m │\n",
       "├─────────────────────────────────┼────────────────────────┼───────────────┤\n",
       "│ item_embedding_layer            │ (\u001b[38;5;45mNone\u001b[0m, \u001b[38;5;34m16\u001b[0m)             │         \u001b[38;5;34m2,016\u001b[0m │\n",
       "│ (\u001b[38;5;33mEmbedding\u001b[0m)                     │                        │               │\n",
       "├─────────────────────────────────┼────────────────────────┼───────────────┤\n",
       "│ item_bias (\u001b[38;5;33mEmbedding\u001b[0m)           │ (\u001b[38;5;45mNone\u001b[0m, \u001b[38;5;34m1\u001b[0m)              │           \u001b[38;5;34m126\u001b[0m │\n",
       "└─────────────────────────────────┴────────────────────────┴───────────────┘\n"
      ]
     },
     "metadata": {},
     "output_type": "display_data"
    },
    {
     "data": {
      "text/html": [
       "<pre style=\"white-space:pre;overflow-x:auto;line-height:normal;font-family:Menlo,'DejaVu Sans Mono',consolas,'Courier New',monospace\"><span style=\"font-weight: bold\"> Total params: </span><span style=\"color: #00af00; text-decoration-color: #00af00\">1,735,379</span> (6.62 MB)\n",
       "</pre>\n"
      ],
      "text/plain": [
       "\u001b[1m Total params: \u001b[0m\u001b[38;5;34m1,735,379\u001b[0m (6.62 MB)\n"
      ]
     },
     "metadata": {},
     "output_type": "display_data"
    },
    {
     "data": {
      "text/html": [
       "<pre style=\"white-space:pre;overflow-x:auto;line-height:normal;font-family:Menlo,'DejaVu Sans Mono',consolas,'Courier New',monospace\"><span style=\"font-weight: bold\"> Trainable params: </span><span style=\"color: #00af00; text-decoration-color: #00af00\">578,459</span> (2.21 MB)\n",
       "</pre>\n"
      ],
      "text/plain": [
       "\u001b[1m Trainable params: \u001b[0m\u001b[38;5;34m578,459\u001b[0m (2.21 MB)\n"
      ]
     },
     "metadata": {},
     "output_type": "display_data"
    },
    {
     "data": {
      "text/html": [
       "<pre style=\"white-space:pre;overflow-x:auto;line-height:normal;font-family:Menlo,'DejaVu Sans Mono',consolas,'Courier New',monospace\"><span style=\"font-weight: bold\"> Non-trainable params: </span><span style=\"color: #00af00; text-decoration-color: #00af00\">0</span> (0.00 B)\n",
       "</pre>\n"
      ],
      "text/plain": [
       "\u001b[1m Non-trainable params: \u001b[0m\u001b[38;5;34m0\u001b[0m (0.00 B)\n"
      ]
     },
     "metadata": {},
     "output_type": "display_data"
    },
    {
     "data": {
      "text/html": [
       "<pre style=\"white-space:pre;overflow-x:auto;line-height:normal;font-family:Menlo,'DejaVu Sans Mono',consolas,'Courier New',monospace\"><span style=\"font-weight: bold\"> Optimizer params: </span><span style=\"color: #00af00; text-decoration-color: #00af00\">1,156,920</span> (4.41 MB)\n",
       "</pre>\n"
      ],
      "text/plain": [
       "\u001b[1m Optimizer params: \u001b[0m\u001b[38;5;34m1,156,920\u001b[0m (4.41 MB)\n"
      ]
     },
     "metadata": {},
     "output_type": "display_data"
    }
   ],
   "source": [
    "model.summary()"
   ]
  },
  {
   "cell_type": "markdown",
   "metadata": {},
   "source": [
    "In the `RecommenderNet`, the `user_embedding_layer` and `item_embedding_layer` layers contain the trained weights. Essentially, they are the latent user and item features learned by `RecommenderNet` and will be used to predict the interaction. As such, while training the neural network to predict rating, the embedding layers are simultaneously trained to extract the embedding user and item features.\n"
   ]
  },
  {
   "cell_type": "markdown",
   "metadata": {},
   "source": [
    "We can easily get the actual weights using `model.get_layer().get_weights()` methods\n"
   ]
  },
  {
   "cell_type": "code",
   "execution_count": 21,
   "metadata": {},
   "outputs": [
    {
     "name": "stdout",
     "output_type": "stream",
     "text": [
      "User features shape: (33901, 32)\n"
     ]
    }
   ],
   "source": [
    "# User features\n",
    "user_latent_features = model.get_layer('user_embedding_layer').get_weights()[0]\n",
    "print(f\"User features shape: {user_latent_features.shape}\")"
   ]
  },
  {
   "cell_type": "code",
   "execution_count": 22,
   "metadata": {},
   "outputs": [
    {
     "data": {
      "text/plain": [
       "array([ 0.10066096, -0.00595355, -0.02704426, -0.00933237, -0.03083269,\n",
       "       -0.03164659,  0.05474936,  0.05192786,  0.03752008, -0.01831072,\n",
       "       -0.00743131,  0.0151819 ,  0.00061353, -0.07436116, -0.00729055,\n",
       "        0.00308659,  0.12156511, -0.05803119,  0.00279145, -0.04083279,\n",
       "        0.10231543,  0.03934538,  0.07929967,  0.05557961, -0.02325429,\n",
       "       -0.0732898 ,  0.0067431 , -0.05032746, -0.01022252,  0.06096746,\n",
       "        0.01722313,  0.07192267], dtype=float32)"
      ]
     },
     "execution_count": 22,
     "metadata": {},
     "output_type": "execute_result"
    }
   ],
   "source": [
    "user_latent_features[0]"
   ]
  },
  {
   "cell_type": "code",
   "execution_count": 23,
   "metadata": {},
   "outputs": [
    {
     "name": "stdout",
     "output_type": "stream",
     "text": [
      "Item features shape: (126, 32)\n"
     ]
    }
   ],
   "source": [
    "item_latent_features = model.get_layer('item_embedding_layer').get_weights()[0]\n",
    "print(f\"Item features shape: {item_latent_features.shape}\")"
   ]
  },
  {
   "cell_type": "code",
   "execution_count": 24,
   "metadata": {},
   "outputs": [
    {
     "data": {
      "text/plain": [
       "array([-0.05435259, -0.09313135, -0.07966703, -0.03121574,  0.0113577 ,\n",
       "        0.02922287, -0.02080836,  0.06998389, -0.00499691,  0.01197218,\n",
       "        0.06038477, -0.01362123, -0.07999691,  0.12566994, -0.05642088,\n",
       "       -0.09255175, -0.05324035,  0.10041624,  0.07492191,  0.01089256,\n",
       "        0.01789915, -0.12086885,  0.20311747, -0.02889192, -0.1313925 ,\n",
       "       -0.05599772,  0.09936925,  0.04567591,  0.00488509, -0.07850805,\n",
       "       -0.02619259, -0.0273379 ], dtype=float32)"
      ]
     },
     "execution_count": 24,
     "metadata": {},
     "output_type": "execute_result"
    }
   ],
   "source": [
    "item_latent_features[0]"
   ]
  },
  {
   "cell_type": "code",
   "execution_count": 28,
   "metadata": {},
   "outputs": [
    {
     "data": {
      "text/plain": [
       "4339328"
      ]
     },
     "execution_count": 28,
     "metadata": {},
     "output_type": "execute_result"
    }
   ],
   "source": [
    "user_latent_features.nbytes"
   ]
  },
  {
   "cell_type": "markdown",
   "metadata": {},
   "source": [
    "Now, each user of the total 33901 users has been transformed into a 16 x 1 latent feature vector and each item of the total 126 has been transformed into a 16 x 1 latent feature vector.\n"
   ]
  },
  {
   "cell_type": "markdown",
   "metadata": {},
   "source": [
    "### TASK (Optional): Customize the RecommenderNet to potentially improve the model performance\n"
   ]
  },
  {
   "cell_type": "markdown",
   "metadata": {},
   "source": [
    "The pre-defined `RecommenderNet()` is a actually very basic neural network, you are encouraged to customize it to see if model prediction performance will be improved. Here are some directions:\n",
    "- Hyperparameter tuning, such as the embedding layer dimensions\n",
    "- Add more hidden layers\n",
    "- Try different activation functions such as `ReLu`\n"
   ]
  },
  {
   "cell_type": "code",
   "execution_count": null,
   "metadata": {},
   "outputs": [],
   "source": [
    "## WRITE YOUR CODE HERE\n",
    "\n",
    "## Update RecommenderNet() class\n",
    "\n",
    "## compile and fit the updated model\n",
    "\n",
    "## evaluate the updated model\n"
   ]
  },
  {
   "cell_type": "code",
   "execution_count": 134,
   "metadata": {},
   "outputs": [],
   "source": [
    "Res=pd.DataFrame({\n",
    "    'All_Pred_4':[0.8134462126672308],\n",
    "    'All_random':[1.1500512928053785],\n",
    "    'neural network':[0.8134462126672308],\n",
    "    'KNN':[0.8193526197106108],\n",
    "    'NMF':[0.9128657876966813],\n",
    "    'logistic':[1.191178],\n",
    "    'random_forest':[1.152355],\n",
    "    'svm':[1.153508],\n",
    "    'xgboost':[1.151121]\n",
    " }).T\n",
    "Res.reset_index(inplace=True)\n",
    "Res.rename(columns={'index':'Algorithm',0:'RMSE'},inplace=True)\n",
    "Res.sort_values(by='RMSE',inplace=True)"
   ]
  },
  {
   "cell_type": "code",
   "execution_count": 135,
   "metadata": {},
   "outputs": [
    {
     "data": {
      "image/png": "[encoded data removed]",
      "text/plain": [
       "<Figure size 2000x1000 with 1 Axes>"
      ]
     },
     "metadata": {},
     "output_type": "display_data"
    }
   ],
   "source": [
    "import seaborn as sns\n",
    "plt.figure(figsize=[20,10])\n",
    "ax=sns.barplot(data =Res,x='Algorithm', y='RMSE', hue='RMSE',palette='Spectral')\n",
    "for i in range(8):\n",
    "    ax.bar_label(ax.containers[i], fontsize=10)\n",
    "ax.set_title('RMSE results of different algorithms')\n",
    "ax.get_legend().remove()"
   ]
  },
  {
   "cell_type": "code",
   "execution_count": null,
   "metadata": {},
   "outputs": [],
   "source": []
  },
  {
   "cell_type": "code",
   "execution_count": null,
   "metadata": {},
   "outputs": [],
   "source": []
  },
  {
   "cell_type": "code",
   "execution_count": null,
   "metadata": {},
   "outputs": [],
   "source": []
  },
  {
   "cell_type": "code",
   "execution_count": 65,
   "metadata": {},
   "outputs": [
    {
     "data": {
      "text/plain": [
       "array([[-9.3937526e-03, -2.1910816e-02,  8.2886264e-02, ...,\n",
       "        -5.6402724e-02,  8.9289900e-03, -2.8311359e-02],\n",
       "       [-2.0426404e-04, -5.5834945e-02, -4.0131267e-02, ...,\n",
       "         3.2828018e-02, -3.6412794e-02, -1.6237745e-02],\n",
       "       [ 5.7718545e-02, -5.4035122e-03,  8.2113944e-02, ...,\n",
       "        -9.5057432e-03,  3.9272633e-04,  5.9878077e-02],\n",
       "       ...,\n",
       "       [ 4.6054353e-30, -4.5063439e-30, -4.5515792e-30, ...,\n",
       "        -4.5635433e-30,  4.5876832e-30, -4.5006350e-30],\n",
       "       [ 5.9442795e-03, -5.6608906e-03, -3.0131892e-03, ...,\n",
       "         1.2194063e-02, -6.0504288e-03, -4.6807886e-03],\n",
       "       [-2.0296425e-02, -7.7170139e-04,  9.8617924e-03, ...,\n",
       "        -2.6284226e-03,  2.0107225e-02,  7.2049927e-03]], dtype=float32)"
      ]
     },
     "execution_count": 65,
     "metadata": {},
     "output_type": "execute_result"
    }
   ],
   "source": [
    "user_latent_features[0]"
   ]
  },
  {
   "cell_type": "code",
   "execution_count": 162,
   "metadata": {},
   "outputs": [],
   "source": [
    "ratings_df = pd.read_csv(\"ratings.csv\")\n",
    "course_genres_df = pd.read_csv(\"course_genres.csv\")\n",
    "user_ratings = ratings_df[ratings_df['user'] == 2]\n",
    "enrolled_course_ids = user_ratings['item'].to_list()\n",
    "all_courses = set(course_genres_df['COURSE_ID'].values)\n",
    "unknown_courses = list(all_courses.difference(enrolled_course_ids))\n",
    "test_dataset= pd.DataFrame({'user':[2]*len(unknown_courses),'item':unknown_courses,'rating':[4]*len(unknown_courses)})\n",
    "encoded_data, user_idx2id_dict, course_idx2id_dict = process_dataset(ratings_df)\n",
    "encoded_user_id=list(user_idx2id_dict.keys())[list(user_idx2id_dict.values()).index(2)]\n",
    "num_users = len(user_idx2id_dict)\n",
    "num_items = len(course_idx2id_dict)"
   ]
  },
  {
   "cell_type": "code",
   "execution_count": 151,
   "metadata": {},
   "outputs": [
    {
     "data": {
      "text/plain": [
       "33925"
      ]
     },
     "execution_count": 151,
     "metadata": {},
     "output_type": "execute_result"
    }
   ],
   "source": [
    "len(ratings_df['user'].unique())"
   ]
  },
  {
   "cell_type": "code",
   "execution_count": 152,
   "metadata": {},
   "outputs": [
    {
     "data": {
      "text/plain": [
       "33925"
      ]
     },
     "execution_count": 152,
     "metadata": {},
     "output_type": "execute_result"
    }
   ],
   "source": [
    "len(list(user_idx2id_dict))"
   ]
  },
  {
   "cell_type": "code",
   "execution_count": 153,
   "metadata": {},
   "outputs": [
    {
     "data": {
      "text/plain": [
       "(33925, 33)"
      ]
     },
     "execution_count": 153,
     "metadata": {},
     "output_type": "execute_result"
    }
   ],
   "source": [
    "user_latent_features.shape"
   ]
  },
  {
   "cell_type": "code",
   "execution_count": 154,
   "metadata": {},
   "outputs": [
    {
     "data": {
      "text/plain": [
       "array([    0,     1,     2, ..., 33922, 33923, 33924], dtype=int64)"
      ]
     },
     "execution_count": 154,
     "metadata": {},
     "output_type": "execute_result"
    }
   ],
   "source": [
    "np.unique(x_train[:, 0])"
   ]
  },
  {
   "cell_type": "code",
   "execution_count": 155,
   "metadata": {},
   "outputs": [
    {
     "data": {
      "text/plain": [
       "array([    0,     1,     2, ..., 33922, 33923, 33924], dtype=int64)"
      ]
     },
     "execution_count": 155,
     "metadata": {},
     "output_type": "execute_result"
    }
   ],
   "source": [
    "encoded_data['user'].unique()"
   ]
  },
  {
   "cell_type": "code",
   "execution_count": 156,
   "metadata": {},
   "outputs": [
    {
     "data": {
      "text/plain": [
       "(33925, 33)"
      ]
     },
     "execution_count": 156,
     "metadata": {},
     "output_type": "execute_result"
    }
   ],
   "source": [
    "user_latent_features.shape"
   ]
  },
  {
   "cell_type": "code",
   "execution_count": 157,
   "metadata": {},
   "outputs": [
    {
     "data": {
      "text/plain": [
       "(33925, 16)"
      ]
     },
     "execution_count": 157,
     "metadata": {},
     "output_type": "execute_result"
    }
   ],
   "source": [
    "model.get_layer('user_embedding_layer').get_weights()[0].shape"
   ]
  },
  {
   "cell_type": "code",
   "execution_count": 174,
   "metadata": {},
   "outputs": [],
   "source": [
    "user_latent_features = model.get_layer('user_embedding_layer').get_weights()[0]\n",
    "user_latent_features = pd.DataFrame(user_latent_features,columns=[\"User_Feature_\"+str(i) for i in range(user_latent_features.shape[1])])\n",
    "user_latent_features['user']=[user_idx2id_dict[i] for i in encoded_data['user'].unique()]\n",
    "\n",
    "item_latent_features = model.get_layer('item_embedding_layer').get_weights()[0]\n",
    "item_latent_features = pd.DataFrame(item_latent_features,columns=[\"Item_Feature_\"+str(i) for i in range(item_latent_features.shape[1])])\n",
    "item_latent_features['item']=[course_idx2id_dict[i] for i in encoded_data['item'].unique()]"
   ]
  },
  {
   "cell_type": "code",
   "execution_count": 175,
   "metadata": {},
   "outputs": [
    {
     "data": {
      "text/plain": [
       "138"
      ]
     },
     "execution_count": 175,
     "metadata": {},
     "output_type": "execute_result"
    }
   ],
   "source": [
    "len(course_idx2id_dict)"
   ]
  },
  {
   "cell_type": "code",
   "execution_count": 176,
   "metadata": {},
   "outputs": [
    {
     "data": {
      "text/plain": [
       "138"
      ]
     },
     "execution_count": 176,
     "metadata": {},
     "output_type": "execute_result"
    }
   ],
   "source": [
    "len(encoded_data['item'].unique())"
   ]
  },
  {
   "cell_type": "code",
   "execution_count": 177,
   "metadata": {},
   "outputs": [
    {
     "data": {
      "text/plain": [
       "33925"
      ]
     },
     "execution_count": 177,
     "metadata": {},
     "output_type": "execute_result"
    }
   ],
   "source": [
    "len(user_idx2id_dict)"
   ]
  },
  {
   "cell_type": "code",
   "execution_count": 178,
   "metadata": {},
   "outputs": [
    {
     "data": {
      "text/plain": [
       "33925"
      ]
     },
     "execution_count": 178,
     "metadata": {},
     "output_type": "execute_result"
    }
   ],
   "source": [
    "len(encoded_data['user'].unique())"
   ]
  },
  {
   "cell_type": "code",
   "execution_count": 183,
   "metadata": {},
   "outputs": [
    {
     "data": {
      "text/html": [
       "<div>\n",
       "<style scoped>\n",
       "    .dataframe tbody tr th:only-of-type {\n",
       "        vertical-align: middle;\n",
       "    }\n",
       "\n",
       "    .dataframe tbody tr th {\n",
       "        vertical-align: top;\n",
       "    }\n",
       "\n",
       "    .dataframe thead th {\n",
       "        text-align: right;\n",
       "    }\n",
       "</style>\n",
       "<table border=\"1\" class=\"dataframe\">\n",
       "  <thead>\n",
       "    <tr style=\"text-align: right;\">\n",
       "      <th></th>\n",
       "      <th>User_Feature_0</th>\n",
       "      <th>User_Feature_1</th>\n",
       "      <th>User_Feature_2</th>\n",
       "      <th>User_Feature_3</th>\n",
       "      <th>User_Feature_4</th>\n",
       "      <th>User_Feature_5</th>\n",
       "      <th>User_Feature_6</th>\n",
       "      <th>User_Feature_7</th>\n",
       "      <th>User_Feature_8</th>\n",
       "      <th>User_Feature_9</th>\n",
       "      <th>User_Feature_10</th>\n",
       "      <th>User_Feature_11</th>\n",
       "      <th>User_Feature_12</th>\n",
       "      <th>User_Feature_13</th>\n",
       "      <th>User_Feature_14</th>\n",
       "      <th>User_Feature_15</th>\n",
       "      <th>user</th>\n",
       "    </tr>\n",
       "  </thead>\n",
       "  <tbody>\n",
       "    <tr>\n",
       "      <th>0</th>\n",
       "      <td>0.056236</td>\n",
       "      <td>0.027736</td>\n",
       "      <td>-0.052936</td>\n",
       "      <td>-0.036263</td>\n",
       "      <td>-2.051796e-02</td>\n",
       "      <td>0.037419</td>\n",
       "      <td>-7.863346e-02</td>\n",
       "      <td>0.089279</td>\n",
       "      <td>0.088566</td>\n",
       "      <td>0.088831</td>\n",
       "      <td>-0.055072</td>\n",
       "      <td>-0.023535</td>\n",
       "      <td>-0.077473</td>\n",
       "      <td>0.005965</td>\n",
       "      <td>-0.030055</td>\n",
       "      <td>-1.946846e-02</td>\n",
       "      <td>1889878</td>\n",
       "    </tr>\n",
       "    <tr>\n",
       "      <th>1</th>\n",
       "      <td>-0.044679</td>\n",
       "      <td>0.019063</td>\n",
       "      <td>-0.007513</td>\n",
       "      <td>-0.050883</td>\n",
       "      <td>1.463776e-02</td>\n",
       "      <td>0.009764</td>\n",
       "      <td>-2.047002e-02</td>\n",
       "      <td>-0.007932</td>\n",
       "      <td>-0.011196</td>\n",
       "      <td>0.016603</td>\n",
       "      <td>-0.025961</td>\n",
       "      <td>-0.040311</td>\n",
       "      <td>0.036775</td>\n",
       "      <td>-0.008540</td>\n",
       "      <td>-0.009086</td>\n",
       "      <td>-4.876759e-02</td>\n",
       "      <td>1342067</td>\n",
       "    </tr>\n",
       "    <tr>\n",
       "      <th>2</th>\n",
       "      <td>0.000165</td>\n",
       "      <td>0.099522</td>\n",
       "      <td>-0.108958</td>\n",
       "      <td>-0.029449</td>\n",
       "      <td>-3.522857e-02</td>\n",
       "      <td>-0.027215</td>\n",
       "      <td>-8.755670e-02</td>\n",
       "      <td>-0.007196</td>\n",
       "      <td>0.077471</td>\n",
       "      <td>0.079916</td>\n",
       "      <td>-0.009290</td>\n",
       "      <td>-0.037152</td>\n",
       "      <td>-0.053655</td>\n",
       "      <td>-0.063798</td>\n",
       "      <td>-0.057530</td>\n",
       "      <td>-4.634546e-02</td>\n",
       "      <td>1990814</td>\n",
       "    </tr>\n",
       "    <tr>\n",
       "      <th>3</th>\n",
       "      <td>0.023701</td>\n",
       "      <td>0.037975</td>\n",
       "      <td>-0.009552</td>\n",
       "      <td>0.063239</td>\n",
       "      <td>3.267806e-02</td>\n",
       "      <td>0.043020</td>\n",
       "      <td>-2.070611e-02</td>\n",
       "      <td>-0.030998</td>\n",
       "      <td>0.004659</td>\n",
       "      <td>0.025726</td>\n",
       "      <td>0.019648</td>\n",
       "      <td>0.050226</td>\n",
       "      <td>-0.011261</td>\n",
       "      <td>0.027273</td>\n",
       "      <td>0.041418</td>\n",
       "      <td>4.417746e-03</td>\n",
       "      <td>380098</td>\n",
       "    </tr>\n",
       "    <tr>\n",
       "      <th>4</th>\n",
       "      <td>-0.039402</td>\n",
       "      <td>-0.056736</td>\n",
       "      <td>-0.000487</td>\n",
       "      <td>0.012200</td>\n",
       "      <td>1.526156e-02</td>\n",
       "      <td>-0.028282</td>\n",
       "      <td>-1.325555e-02</td>\n",
       "      <td>0.012093</td>\n",
       "      <td>-0.027071</td>\n",
       "      <td>0.021141</td>\n",
       "      <td>0.014463</td>\n",
       "      <td>-0.015114</td>\n",
       "      <td>0.024842</td>\n",
       "      <td>0.000399</td>\n",
       "      <td>-0.040286</td>\n",
       "      <td>3.017390e-02</td>\n",
       "      <td>779563</td>\n",
       "    </tr>\n",
       "    <tr>\n",
       "      <th>...</th>\n",
       "      <td>...</td>\n",
       "      <td>...</td>\n",
       "      <td>...</td>\n",
       "      <td>...</td>\n",
       "      <td>...</td>\n",
       "      <td>...</td>\n",
       "      <td>...</td>\n",
       "      <td>...</td>\n",
       "      <td>...</td>\n",
       "      <td>...</td>\n",
       "      <td>...</td>\n",
       "      <td>...</td>\n",
       "      <td>...</td>\n",
       "      <td>...</td>\n",
       "      <td>...</td>\n",
       "      <td>...</td>\n",
       "      <td>...</td>\n",
       "    </tr>\n",
       "    <tr>\n",
       "      <th>33920</th>\n",
       "      <td>0.014116</td>\n",
       "      <td>-0.023147</td>\n",
       "      <td>-0.027054</td>\n",
       "      <td>0.014821</td>\n",
       "      <td>-1.251894e-02</td>\n",
       "      <td>-0.018276</td>\n",
       "      <td>3.708250e-03</td>\n",
       "      <td>-0.002595</td>\n",
       "      <td>0.015152</td>\n",
       "      <td>0.012527</td>\n",
       "      <td>-0.012212</td>\n",
       "      <td>-0.010786</td>\n",
       "      <td>-0.023738</td>\n",
       "      <td>-0.013594</td>\n",
       "      <td>-0.027048</td>\n",
       "      <td>2.391412e-02</td>\n",
       "      <td>2103059</td>\n",
       "    </tr>\n",
       "    <tr>\n",
       "      <th>33921</th>\n",
       "      <td>-0.002989</td>\n",
       "      <td>-0.026488</td>\n",
       "      <td>-0.012281</td>\n",
       "      <td>0.018554</td>\n",
       "      <td>-4.133494e-03</td>\n",
       "      <td>-0.001669</td>\n",
       "      <td>2.391317e-03</td>\n",
       "      <td>-0.006093</td>\n",
       "      <td>-0.000183</td>\n",
       "      <td>0.005116</td>\n",
       "      <td>0.000441</td>\n",
       "      <td>-0.000251</td>\n",
       "      <td>-0.014352</td>\n",
       "      <td>-0.001424</td>\n",
       "      <td>-0.021451</td>\n",
       "      <td>2.069624e-02</td>\n",
       "      <td>2103060</td>\n",
       "    </tr>\n",
       "    <tr>\n",
       "      <th>33922</th>\n",
       "      <td>-0.015166</td>\n",
       "      <td>-0.014349</td>\n",
       "      <td>-0.003435</td>\n",
       "      <td>0.004138</td>\n",
       "      <td>4.380820e-04</td>\n",
       "      <td>-0.006745</td>\n",
       "      <td>-2.168986e-03</td>\n",
       "      <td>-0.004866</td>\n",
       "      <td>-0.010462</td>\n",
       "      <td>0.007221</td>\n",
       "      <td>0.003912</td>\n",
       "      <td>0.000134</td>\n",
       "      <td>0.014607</td>\n",
       "      <td>-0.001484</td>\n",
       "      <td>-0.006405</td>\n",
       "      <td>6.886605e-09</td>\n",
       "      <td>2103061</td>\n",
       "    </tr>\n",
       "    <tr>\n",
       "      <th>33923</th>\n",
       "      <td>0.002298</td>\n",
       "      <td>0.006912</td>\n",
       "      <td>0.000099</td>\n",
       "      <td>-0.002423</td>\n",
       "      <td>3.751175e-07</td>\n",
       "      <td>0.000005</td>\n",
       "      <td>-1.330800e-08</td>\n",
       "      <td>0.001563</td>\n",
       "      <td>0.001036</td>\n",
       "      <td>-0.000161</td>\n",
       "      <td>-0.000074</td>\n",
       "      <td>-0.000009</td>\n",
       "      <td>-0.000050</td>\n",
       "      <td>0.000013</td>\n",
       "      <td>0.002446</td>\n",
       "      <td>-2.431445e-03</td>\n",
       "      <td>2103062</td>\n",
       "    </tr>\n",
       "    <tr>\n",
       "      <th>33924</th>\n",
       "      <td>-0.028776</td>\n",
       "      <td>-0.020096</td>\n",
       "      <td>0.010772</td>\n",
       "      <td>0.017169</td>\n",
       "      <td>6.241897e-03</td>\n",
       "      <td>-0.016833</td>\n",
       "      <td>-5.009788e-04</td>\n",
       "      <td>-0.021795</td>\n",
       "      <td>-0.024824</td>\n",
       "      <td>0.011973</td>\n",
       "      <td>0.015976</td>\n",
       "      <td>0.010219</td>\n",
       "      <td>0.023336</td>\n",
       "      <td>-0.010492</td>\n",
       "      <td>-0.002567</td>\n",
       "      <td>-3.552666e-03</td>\n",
       "      <td>2103063</td>\n",
       "    </tr>\n",
       "  </tbody>\n",
       "</table>\n",
       "<p>33925 rows × 17 columns</p>\n",
       "</div>"
      ],
      "text/plain": [
       "       User_Feature_0  User_Feature_1  User_Feature_2  User_Feature_3  \\\n",
       "0            0.056236        0.027736       -0.052936       -0.036263   \n",
       "1           -0.044679        0.019063       -0.007513       -0.050883   \n",
       "2            0.000165        0.099522       -0.108958       -0.029449   \n",
       "3            0.023701        0.037975       -0.009552        0.063239   \n",
       "4           -0.039402       -0.056736       -0.000487        0.012200   \n",
       "...               ...             ...             ...             ...   \n",
       "33920        0.014116       -0.023147       -0.027054        0.014821   \n",
       "33921       -0.002989       -0.026488       -0.012281        0.018554   \n",
       "33922       -0.015166       -0.014349       -0.003435        0.004138   \n",
       "33923        0.002298        0.006912        0.000099       -0.002423   \n",
       "33924       -0.028776       -0.020096        0.010772        0.017169   \n",
       "\n",
       "       User_Feature_4  User_Feature_5  User_Feature_6  User_Feature_7  \\\n",
       "0       -2.051796e-02        0.037419   -7.863346e-02        0.089279   \n",
       "1        1.463776e-02        0.009764   -2.047002e-02       -0.007932   \n",
       "2       -3.522857e-02       -0.027215   -8.755670e-02       -0.007196   \n",
       "3        3.267806e-02        0.043020   -2.070611e-02       -0.030998   \n",
       "4        1.526156e-02       -0.028282   -1.325555e-02        0.012093   \n",
       "...               ...             ...             ...             ...   \n",
       "33920   -1.251894e-02       -0.018276    3.708250e-03       -0.002595   \n",
       "33921   -4.133494e-03       -0.001669    2.391317e-03       -0.006093   \n",
       "33922    4.380820e-04       -0.006745   -2.168986e-03       -0.004866   \n",
       "33923    3.751175e-07        0.000005   -1.330800e-08        0.001563   \n",
       "33924    6.241897e-03       -0.016833   -5.009788e-04       -0.021795   \n",
       "\n",
       "       User_Feature_8  User_Feature_9  User_Feature_10  User_Feature_11  \\\n",
       "0            0.088566        0.088831        -0.055072        -0.023535   \n",
       "1           -0.011196        0.016603        -0.025961        -0.040311   \n",
       "2            0.077471        0.079916        -0.009290        -0.037152   \n",
       "3            0.004659        0.025726         0.019648         0.050226   \n",
       "4           -0.027071        0.021141         0.014463        -0.015114   \n",
       "...               ...             ...              ...              ...   \n",
       "33920        0.015152        0.012527        -0.012212        -0.010786   \n",
       "33921       -0.000183        0.005116         0.000441        -0.000251   \n",
       "33922       -0.010462        0.007221         0.003912         0.000134   \n",
       "33923        0.001036       -0.000161        -0.000074        -0.000009   \n",
       "33924       -0.024824        0.011973         0.015976         0.010219   \n",
       "\n",
       "       User_Feature_12  User_Feature_13  User_Feature_14  User_Feature_15  \\\n",
       "0            -0.077473         0.005965        -0.030055    -1.946846e-02   \n",
       "1             0.036775        -0.008540        -0.009086    -4.876759e-02   \n",
       "2            -0.053655        -0.063798        -0.057530    -4.634546e-02   \n",
       "3            -0.011261         0.027273         0.041418     4.417746e-03   \n",
       "4             0.024842         0.000399        -0.040286     3.017390e-02   \n",
       "...                ...              ...              ...              ...   \n",
       "33920        -0.023738        -0.013594        -0.027048     2.391412e-02   \n",
       "33921        -0.014352        -0.001424        -0.021451     2.069624e-02   \n",
       "33922         0.014607        -0.001484        -0.006405     6.886605e-09   \n",
       "33923        -0.000050         0.000013         0.002446    -2.431445e-03   \n",
       "33924         0.023336        -0.010492        -0.002567    -3.552666e-03   \n",
       "\n",
       "          user  \n",
       "0      1889878  \n",
       "1      1342067  \n",
       "2      1990814  \n",
       "3       380098  \n",
       "4       779563  \n",
       "...        ...  \n",
       "33920  2103059  \n",
       "33921  2103060  \n",
       "33922  2103061  \n",
       "33923  2103062  \n",
       "33924  2103063  \n",
       "\n",
       "[33925 rows x 17 columns]"
      ]
     },
     "execution_count": 183,
     "metadata": {},
     "output_type": "execute_result"
    }
   ],
   "source": [
    "user_latent_features"
   ]
  },
  {
   "cell_type": "code",
   "execution_count": 210,
   "metadata": {},
   "outputs": [],
   "source": [
    "test_dataset= pd.DataFrame({'user':[2]*len(unknown_courses),'item':unknown_courses,'rating':[4]*len(unknown_courses)})\n",
    "user_emb_merged = pd.merge(test_dataset, user_latent_features, how='outer', left_on='user', right_on='user').fillna(0)\n",
    "#user_emb_merged = pd.merge(rating_df, user_latent_features, how='outer', left_on='user', right_on='user').fillna(0)\n",
    "# Merge course embedding features\n",
    "merged_df = pd.merge(user_emb_merged, item_latent_features, how='outer', left_on='item', right_on='item').fillna(0)"
   ]
  },
  {
   "cell_type": "code",
   "execution_count": 211,
   "metadata": {},
   "outputs": [],
   "source": [
    "u_features = [f\"User_Feature_{i}\" for i in range(len(user_latent_features.columns)-1)] \n",
    "c_features = [f\"Item_Feature_{i}\" for i in range(len(item_latent_features.columns)-1)]\n",
    "\n",
    "# Extract user embedding features\n",
    "user_embeddings = merged_df[u_features]\n",
    "# Extract course embedding features\n",
    "course_embeddings = merged_df[c_features]\n",
    "# Extract ratings\n",
    "ratings = merged_df['rating']\n",
    "\n",
    "# Aggregate the two feature columns using element-wise add\n",
    "regression_dataset = user_embeddings + course_embeddings.values\n",
    "# Rename the columns of the resulting DataFrame\n",
    "regression_dataset.columns = [f\"Feature{i}\" for i in range(len(item_latent_features.columns)-1)]# Assuming there are 16 features\n",
    "# Add the 'rating' column from the original DataFrame to the regression dataset\n",
    "regression_dataset['rating'] = ratings"
   ]
  },
  {
   "cell_type": "code",
   "execution_count": 212,
   "metadata": {},
   "outputs": [
    {
     "data": {
      "text/html": [
       "<div>\n",
       "<style scoped>\n",
       "    .dataframe tbody tr th:only-of-type {\n",
       "        vertical-align: middle;\n",
       "    }\n",
       "\n",
       "    .dataframe tbody tr th {\n",
       "        vertical-align: top;\n",
       "    }\n",
       "\n",
       "    .dataframe thead th {\n",
       "        text-align: right;\n",
       "    }\n",
       "</style>\n",
       "<table border=\"1\" class=\"dataframe\">\n",
       "  <thead>\n",
       "    <tr style=\"text-align: right;\">\n",
       "      <th></th>\n",
       "      <th>Feature0</th>\n",
       "      <th>Feature1</th>\n",
       "      <th>Feature2</th>\n",
       "      <th>Feature3</th>\n",
       "      <th>Feature4</th>\n",
       "      <th>Feature5</th>\n",
       "      <th>Feature6</th>\n",
       "      <th>Feature7</th>\n",
       "      <th>Feature8</th>\n",
       "      <th>Feature9</th>\n",
       "      <th>Feature10</th>\n",
       "      <th>Feature11</th>\n",
       "      <th>Feature12</th>\n",
       "      <th>Feature13</th>\n",
       "      <th>Feature14</th>\n",
       "      <th>Feature15</th>\n",
       "      <th>rating</th>\n",
       "    </tr>\n",
       "  </thead>\n",
       "  <tbody>\n",
       "    <tr>\n",
       "      <th>0</th>\n",
       "      <td>0.052291</td>\n",
       "      <td>0.114901</td>\n",
       "      <td>0.047517</td>\n",
       "      <td>0.034348</td>\n",
       "      <td>-0.182523</td>\n",
       "      <td>-0.068898</td>\n",
       "      <td>0.134075</td>\n",
       "      <td>-0.016922</td>\n",
       "      <td>0.039254</td>\n",
       "      <td>-0.146742</td>\n",
       "      <td>0.011019</td>\n",
       "      <td>-0.027047</td>\n",
       "      <td>-0.019460</td>\n",
       "      <td>-0.056794</td>\n",
       "      <td>0.125795</td>\n",
       "      <td>-0.089297</td>\n",
       "      <td>4.0</td>\n",
       "    </tr>\n",
       "    <tr>\n",
       "      <th>1</th>\n",
       "      <td>0.051561</td>\n",
       "      <td>0.122253</td>\n",
       "      <td>0.045909</td>\n",
       "      <td>0.034260</td>\n",
       "      <td>-0.173182</td>\n",
       "      <td>-0.069053</td>\n",
       "      <td>0.136365</td>\n",
       "      <td>-0.010437</td>\n",
       "      <td>0.035032</td>\n",
       "      <td>-0.144644</td>\n",
       "      <td>0.013159</td>\n",
       "      <td>-0.027133</td>\n",
       "      <td>-0.017048</td>\n",
       "      <td>-0.055346</td>\n",
       "      <td>0.128766</td>\n",
       "      <td>-0.085253</td>\n",
       "      <td>4.0</td>\n",
       "    </tr>\n",
       "    <tr>\n",
       "      <th>2</th>\n",
       "      <td>0.052291</td>\n",
       "      <td>0.114901</td>\n",
       "      <td>0.047517</td>\n",
       "      <td>0.034348</td>\n",
       "      <td>-0.182523</td>\n",
       "      <td>-0.068898</td>\n",
       "      <td>0.134075</td>\n",
       "      <td>-0.016922</td>\n",
       "      <td>0.039254</td>\n",
       "      <td>-0.146742</td>\n",
       "      <td>0.011019</td>\n",
       "      <td>-0.027047</td>\n",
       "      <td>-0.019460</td>\n",
       "      <td>-0.056794</td>\n",
       "      <td>0.125795</td>\n",
       "      <td>-0.089297</td>\n",
       "      <td>4.0</td>\n",
       "    </tr>\n",
       "    <tr>\n",
       "      <th>3</th>\n",
       "      <td>0.052291</td>\n",
       "      <td>0.114901</td>\n",
       "      <td>0.047517</td>\n",
       "      <td>0.034348</td>\n",
       "      <td>-0.182523</td>\n",
       "      <td>-0.068898</td>\n",
       "      <td>0.134075</td>\n",
       "      <td>-0.016922</td>\n",
       "      <td>0.039254</td>\n",
       "      <td>-0.146742</td>\n",
       "      <td>0.011019</td>\n",
       "      <td>-0.027047</td>\n",
       "      <td>-0.019460</td>\n",
       "      <td>-0.056794</td>\n",
       "      <td>0.125795</td>\n",
       "      <td>-0.089297</td>\n",
       "      <td>4.0</td>\n",
       "    </tr>\n",
       "    <tr>\n",
       "      <th>4</th>\n",
       "      <td>0.053486</td>\n",
       "      <td>0.114901</td>\n",
       "      <td>0.048194</td>\n",
       "      <td>0.034343</td>\n",
       "      <td>-0.180605</td>\n",
       "      <td>-0.075245</td>\n",
       "      <td>0.135084</td>\n",
       "      <td>-0.016905</td>\n",
       "      <td>0.039273</td>\n",
       "      <td>-0.146762</td>\n",
       "      <td>0.010013</td>\n",
       "      <td>-0.026118</td>\n",
       "      <td>-0.019457</td>\n",
       "      <td>-0.053591</td>\n",
       "      <td>0.125881</td>\n",
       "      <td>-0.089111</td>\n",
       "      <td>4.0</td>\n",
       "    </tr>\n",
       "    <tr>\n",
       "      <th>...</th>\n",
       "      <td>...</td>\n",
       "      <td>...</td>\n",
       "      <td>...</td>\n",
       "      <td>...</td>\n",
       "      <td>...</td>\n",
       "      <td>...</td>\n",
       "      <td>...</td>\n",
       "      <td>...</td>\n",
       "      <td>...</td>\n",
       "      <td>...</td>\n",
       "      <td>...</td>\n",
       "      <td>...</td>\n",
       "      <td>...</td>\n",
       "      <td>...</td>\n",
       "      <td>...</td>\n",
       "      <td>...</td>\n",
       "      <td>...</td>\n",
       "    </tr>\n",
       "    <tr>\n",
       "      <th>34226</th>\n",
       "      <td>0.039134</td>\n",
       "      <td>0.026331</td>\n",
       "      <td>0.021559</td>\n",
       "      <td>0.026329</td>\n",
       "      <td>-0.127802</td>\n",
       "      <td>-0.115558</td>\n",
       "      <td>0.112440</td>\n",
       "      <td>0.094212</td>\n",
       "      <td>0.031114</td>\n",
       "      <td>-0.040428</td>\n",
       "      <td>-0.153198</td>\n",
       "      <td>-0.000994</td>\n",
       "      <td>-0.028519</td>\n",
       "      <td>-0.015443</td>\n",
       "      <td>-0.038772</td>\n",
       "      <td>-0.080868</td>\n",
       "      <td>0.0</td>\n",
       "    </tr>\n",
       "    <tr>\n",
       "      <th>34227</th>\n",
       "      <td>0.089884</td>\n",
       "      <td>0.076292</td>\n",
       "      <td>0.024693</td>\n",
       "      <td>-0.068509</td>\n",
       "      <td>0.083504</td>\n",
       "      <td>-0.023105</td>\n",
       "      <td>0.063192</td>\n",
       "      <td>0.125437</td>\n",
       "      <td>0.058320</td>\n",
       "      <td>-0.119896</td>\n",
       "      <td>-0.005968</td>\n",
       "      <td>-0.005857</td>\n",
       "      <td>-0.138673</td>\n",
       "      <td>0.069097</td>\n",
       "      <td>0.055267</td>\n",
       "      <td>0.076856</td>\n",
       "      <td>0.0</td>\n",
       "    </tr>\n",
       "    <tr>\n",
       "      <th>34228</th>\n",
       "      <td>0.107263</td>\n",
       "      <td>-0.030869</td>\n",
       "      <td>0.008350</td>\n",
       "      <td>-0.147812</td>\n",
       "      <td>0.067793</td>\n",
       "      <td>-0.011148</td>\n",
       "      <td>-0.008107</td>\n",
       "      <td>0.060018</td>\n",
       "      <td>-0.075783</td>\n",
       "      <td>0.070681</td>\n",
       "      <td>0.142362</td>\n",
       "      <td>-0.012412</td>\n",
       "      <td>0.075369</td>\n",
       "      <td>-0.126904</td>\n",
       "      <td>0.049242</td>\n",
       "      <td>0.133522</td>\n",
       "      <td>0.0</td>\n",
       "    </tr>\n",
       "    <tr>\n",
       "      <th>34229</th>\n",
       "      <td>-0.011688</td>\n",
       "      <td>0.026427</td>\n",
       "      <td>0.003689</td>\n",
       "      <td>-0.026048</td>\n",
       "      <td>-0.176500</td>\n",
       "      <td>0.109893</td>\n",
       "      <td>-0.090517</td>\n",
       "      <td>-0.033649</td>\n",
       "      <td>-0.128526</td>\n",
       "      <td>-0.022405</td>\n",
       "      <td>-0.067933</td>\n",
       "      <td>-0.050485</td>\n",
       "      <td>-0.075974</td>\n",
       "      <td>0.021870</td>\n",
       "      <td>0.120764</td>\n",
       "      <td>0.005154</td>\n",
       "      <td>0.0</td>\n",
       "    </tr>\n",
       "    <tr>\n",
       "      <th>34230</th>\n",
       "      <td>-0.025992</td>\n",
       "      <td>0.009089</td>\n",
       "      <td>-0.005342</td>\n",
       "      <td>0.088124</td>\n",
       "      <td>0.137533</td>\n",
       "      <td>-0.005234</td>\n",
       "      <td>0.042883</td>\n",
       "      <td>-0.037294</td>\n",
       "      <td>0.081823</td>\n",
       "      <td>-0.004737</td>\n",
       "      <td>-0.062302</td>\n",
       "      <td>0.082577</td>\n",
       "      <td>-0.013768</td>\n",
       "      <td>0.048041</td>\n",
       "      <td>0.105470</td>\n",
       "      <td>-0.107231</td>\n",
       "      <td>0.0</td>\n",
       "    </tr>\n",
       "  </tbody>\n",
       "</table>\n",
       "<p>34231 rows × 17 columns</p>\n",
       "</div>"
      ],
      "text/plain": [
       "       Feature0  Feature1  Feature2  Feature3  Feature4  Feature5  Feature6  \\\n",
       "0      0.052291  0.114901  0.047517  0.034348 -0.182523 -0.068898  0.134075   \n",
       "1      0.051561  0.122253  0.045909  0.034260 -0.173182 -0.069053  0.136365   \n",
       "2      0.052291  0.114901  0.047517  0.034348 -0.182523 -0.068898  0.134075   \n",
       "3      0.052291  0.114901  0.047517  0.034348 -0.182523 -0.068898  0.134075   \n",
       "4      0.053486  0.114901  0.048194  0.034343 -0.180605 -0.075245  0.135084   \n",
       "...         ...       ...       ...       ...       ...       ...       ...   \n",
       "34226  0.039134  0.026331  0.021559  0.026329 -0.127802 -0.115558  0.112440   \n",
       "34227  0.089884  0.076292  0.024693 -0.068509  0.083504 -0.023105  0.063192   \n",
       "34228  0.107263 -0.030869  0.008350 -0.147812  0.067793 -0.011148 -0.008107   \n",
       "34229 -0.011688  0.026427  0.003689 -0.026048 -0.176500  0.109893 -0.090517   \n",
       "34230 -0.025992  0.009089 -0.005342  0.088124  0.137533 -0.005234  0.042883   \n",
       "\n",
       "       Feature7  Feature8  Feature9  Feature10  Feature11  Feature12  \\\n",
       "0     -0.016922  0.039254 -0.146742   0.011019  -0.027047  -0.019460   \n",
       "1     -0.010437  0.035032 -0.144644   0.013159  -0.027133  -0.017048   \n",
       "2     -0.016922  0.039254 -0.146742   0.011019  -0.027047  -0.019460   \n",
       "3     -0.016922  0.039254 -0.146742   0.011019  -0.027047  -0.019460   \n",
       "4     -0.016905  0.039273 -0.146762   0.010013  -0.026118  -0.019457   \n",
       "...         ...       ...       ...        ...        ...        ...   \n",
       "34226  0.094212  0.031114 -0.040428  -0.153198  -0.000994  -0.028519   \n",
       "34227  0.125437  0.058320 -0.119896  -0.005968  -0.005857  -0.138673   \n",
       "34228  0.060018 -0.075783  0.070681   0.142362  -0.012412   0.075369   \n",
       "34229 -0.033649 -0.128526 -0.022405  -0.067933  -0.050485  -0.075974   \n",
       "34230 -0.037294  0.081823 -0.004737  -0.062302   0.082577  -0.013768   \n",
       "\n",
       "       Feature13  Feature14  Feature15  rating  \n",
       "0      -0.056794   0.125795  -0.089297     4.0  \n",
       "1      -0.055346   0.128766  -0.085253     4.0  \n",
       "2      -0.056794   0.125795  -0.089297     4.0  \n",
       "3      -0.056794   0.125795  -0.089297     4.0  \n",
       "4      -0.053591   0.125881  -0.089111     4.0  \n",
       "...          ...        ...        ...     ...  \n",
       "34226  -0.015443  -0.038772  -0.080868     0.0  \n",
       "34227   0.069097   0.055267   0.076856     0.0  \n",
       "34228  -0.126904   0.049242   0.133522     0.0  \n",
       "34229   0.021870   0.120764   0.005154     0.0  \n",
       "34230   0.048041   0.105470  -0.107231     0.0  \n",
       "\n",
       "[34231 rows x 17 columns]"
      ]
     },
     "execution_count": 212,
     "metadata": {},
     "output_type": "execute_result"
    }
   ],
   "source": [
    "regression_dataset"
   ]
  },
  {
   "cell_type": "code",
   "execution_count": 213,
   "metadata": {},
   "outputs": [
    {
     "data": {
      "text/html": [
       "<div>\n",
       "<style scoped>\n",
       "    .dataframe tbody tr th:only-of-type {\n",
       "        vertical-align: middle;\n",
       "    }\n",
       "\n",
       "    .dataframe tbody tr th {\n",
       "        vertical-align: top;\n",
       "    }\n",
       "\n",
       "    .dataframe thead th {\n",
       "        text-align: right;\n",
       "    }\n",
       "</style>\n",
       "<table border=\"1\" class=\"dataframe\">\n",
       "  <thead>\n",
       "    <tr style=\"text-align: right;\">\n",
       "      <th></th>\n",
       "      <th>User_Feature_0</th>\n",
       "      <th>User_Feature_1</th>\n",
       "      <th>User_Feature_2</th>\n",
       "      <th>User_Feature_3</th>\n",
       "      <th>User_Feature_4</th>\n",
       "      <th>User_Feature_5</th>\n",
       "      <th>User_Feature_6</th>\n",
       "      <th>User_Feature_7</th>\n",
       "      <th>User_Feature_8</th>\n",
       "      <th>User_Feature_9</th>\n",
       "      <th>User_Feature_10</th>\n",
       "      <th>User_Feature_11</th>\n",
       "      <th>User_Feature_12</th>\n",
       "      <th>User_Feature_13</th>\n",
       "      <th>User_Feature_14</th>\n",
       "      <th>User_Feature_15</th>\n",
       "      <th>user</th>\n",
       "    </tr>\n",
       "  </thead>\n",
       "  <tbody>\n",
       "    <tr>\n",
       "      <th>4818</th>\n",
       "      <td>0.052291</td>\n",
       "      <td>0.114901</td>\n",
       "      <td>0.047517</td>\n",
       "      <td>0.034348</td>\n",
       "      <td>-0.182523</td>\n",
       "      <td>-0.068898</td>\n",
       "      <td>0.134075</td>\n",
       "      <td>-0.016922</td>\n",
       "      <td>0.039254</td>\n",
       "      <td>-0.146742</td>\n",
       "      <td>0.011019</td>\n",
       "      <td>-0.027047</td>\n",
       "      <td>-0.01946</td>\n",
       "      <td>-0.056794</td>\n",
       "      <td>0.125795</td>\n",
       "      <td>-0.089297</td>\n",
       "      <td>2</td>\n",
       "    </tr>\n",
       "  </tbody>\n",
       "</table>\n",
       "</div>"
      ],
      "text/plain": [
       "      User_Feature_0  User_Feature_1  User_Feature_2  User_Feature_3  \\\n",
       "4818        0.052291        0.114901        0.047517        0.034348   \n",
       "\n",
       "      User_Feature_4  User_Feature_5  User_Feature_6  User_Feature_7  \\\n",
       "4818       -0.182523       -0.068898        0.134075       -0.016922   \n",
       "\n",
       "      User_Feature_8  User_Feature_9  User_Feature_10  User_Feature_11  \\\n",
       "4818        0.039254       -0.146742         0.011019        -0.027047   \n",
       "\n",
       "      User_Feature_12  User_Feature_13  User_Feature_14  User_Feature_15  user  \n",
       "4818         -0.01946        -0.056794         0.125795        -0.089297     2  "
      ]
     },
     "execution_count": 213,
     "metadata": {},
     "output_type": "execute_result"
    }
   ],
   "source": [
    "user_latent_features[user_latent_features['user']==2]"
   ]
  },
  {
   "cell_type": "code",
   "execution_count": 216,
   "metadata": {},
   "outputs": [
    {
     "data": {
      "text/html": [
       "<div>\n",
       "<style scoped>\n",
       "    .dataframe tbody tr th:only-of-type {\n",
       "        vertical-align: middle;\n",
       "    }\n",
       "\n",
       "    .dataframe tbody tr th {\n",
       "        vertical-align: top;\n",
       "    }\n",
       "\n",
       "    .dataframe thead th {\n",
       "        text-align: right;\n",
       "    }\n",
       "</style>\n",
       "<table border=\"1\" class=\"dataframe\">\n",
       "  <thead>\n",
       "    <tr style=\"text-align: right;\">\n",
       "      <th></th>\n",
       "      <th>Feature0</th>\n",
       "      <th>Feature1</th>\n",
       "      <th>Feature2</th>\n",
       "      <th>Feature3</th>\n",
       "      <th>Feature4</th>\n",
       "      <th>Feature5</th>\n",
       "      <th>Feature6</th>\n",
       "      <th>Feature7</th>\n",
       "      <th>Feature8</th>\n",
       "      <th>Feature9</th>\n",
       "      <th>Feature10</th>\n",
       "      <th>Feature11</th>\n",
       "      <th>Feature12</th>\n",
       "      <th>Feature13</th>\n",
       "      <th>Feature14</th>\n",
       "      <th>Feature15</th>\n",
       "      <th>rating</th>\n",
       "    </tr>\n",
       "  </thead>\n",
       "  <tbody>\n",
       "    <tr>\n",
       "      <th>0</th>\n",
       "      <td>0.052291</td>\n",
       "      <td>0.114901</td>\n",
       "      <td>0.047517</td>\n",
       "      <td>0.034348</td>\n",
       "      <td>-0.182523</td>\n",
       "      <td>-0.068898</td>\n",
       "      <td>0.134075</td>\n",
       "      <td>-0.016922</td>\n",
       "      <td>0.039254</td>\n",
       "      <td>-0.146742</td>\n",
       "      <td>0.011019</td>\n",
       "      <td>-0.027047</td>\n",
       "      <td>-0.019460</td>\n",
       "      <td>-0.056794</td>\n",
       "      <td>0.125795</td>\n",
       "      <td>-0.089297</td>\n",
       "      <td>4.0</td>\n",
       "    </tr>\n",
       "    <tr>\n",
       "      <th>1</th>\n",
       "      <td>0.051561</td>\n",
       "      <td>0.122253</td>\n",
       "      <td>0.045909</td>\n",
       "      <td>0.034260</td>\n",
       "      <td>-0.173182</td>\n",
       "      <td>-0.069053</td>\n",
       "      <td>0.136365</td>\n",
       "      <td>-0.010437</td>\n",
       "      <td>0.035032</td>\n",
       "      <td>-0.144644</td>\n",
       "      <td>0.013159</td>\n",
       "      <td>-0.027133</td>\n",
       "      <td>-0.017048</td>\n",
       "      <td>-0.055346</td>\n",
       "      <td>0.128766</td>\n",
       "      <td>-0.085253</td>\n",
       "      <td>4.0</td>\n",
       "    </tr>\n",
       "    <tr>\n",
       "      <th>2</th>\n",
       "      <td>0.052291</td>\n",
       "      <td>0.114901</td>\n",
       "      <td>0.047517</td>\n",
       "      <td>0.034348</td>\n",
       "      <td>-0.182523</td>\n",
       "      <td>-0.068898</td>\n",
       "      <td>0.134075</td>\n",
       "      <td>-0.016922</td>\n",
       "      <td>0.039254</td>\n",
       "      <td>-0.146742</td>\n",
       "      <td>0.011019</td>\n",
       "      <td>-0.027047</td>\n",
       "      <td>-0.019460</td>\n",
       "      <td>-0.056794</td>\n",
       "      <td>0.125795</td>\n",
       "      <td>-0.089297</td>\n",
       "      <td>4.0</td>\n",
       "    </tr>\n",
       "    <tr>\n",
       "      <th>3</th>\n",
       "      <td>0.052291</td>\n",
       "      <td>0.114901</td>\n",
       "      <td>0.047517</td>\n",
       "      <td>0.034348</td>\n",
       "      <td>-0.182523</td>\n",
       "      <td>-0.068898</td>\n",
       "      <td>0.134075</td>\n",
       "      <td>-0.016922</td>\n",
       "      <td>0.039254</td>\n",
       "      <td>-0.146742</td>\n",
       "      <td>0.011019</td>\n",
       "      <td>-0.027047</td>\n",
       "      <td>-0.019460</td>\n",
       "      <td>-0.056794</td>\n",
       "      <td>0.125795</td>\n",
       "      <td>-0.089297</td>\n",
       "      <td>4.0</td>\n",
       "    </tr>\n",
       "    <tr>\n",
       "      <th>4</th>\n",
       "      <td>0.053486</td>\n",
       "      <td>0.114901</td>\n",
       "      <td>0.048194</td>\n",
       "      <td>0.034343</td>\n",
       "      <td>-0.180605</td>\n",
       "      <td>-0.075245</td>\n",
       "      <td>0.135084</td>\n",
       "      <td>-0.016905</td>\n",
       "      <td>0.039273</td>\n",
       "      <td>-0.146762</td>\n",
       "      <td>0.010013</td>\n",
       "      <td>-0.026118</td>\n",
       "      <td>-0.019457</td>\n",
       "      <td>-0.053591</td>\n",
       "      <td>0.125881</td>\n",
       "      <td>-0.089111</td>\n",
       "      <td>4.0</td>\n",
       "    </tr>\n",
       "    <tr>\n",
       "      <th>...</th>\n",
       "      <td>...</td>\n",
       "      <td>...</td>\n",
       "      <td>...</td>\n",
       "      <td>...</td>\n",
       "      <td>...</td>\n",
       "      <td>...</td>\n",
       "      <td>...</td>\n",
       "      <td>...</td>\n",
       "      <td>...</td>\n",
       "      <td>...</td>\n",
       "      <td>...</td>\n",
       "      <td>...</td>\n",
       "      <td>...</td>\n",
       "      <td>...</td>\n",
       "      <td>...</td>\n",
       "      <td>...</td>\n",
       "      <td>...</td>\n",
       "    </tr>\n",
       "    <tr>\n",
       "      <th>241</th>\n",
       "      <td>0.052291</td>\n",
       "      <td>0.114901</td>\n",
       "      <td>0.047517</td>\n",
       "      <td>0.034348</td>\n",
       "      <td>-0.182523</td>\n",
       "      <td>-0.068898</td>\n",
       "      <td>0.134075</td>\n",
       "      <td>-0.016922</td>\n",
       "      <td>0.039254</td>\n",
       "      <td>-0.146742</td>\n",
       "      <td>0.011019</td>\n",
       "      <td>-0.027047</td>\n",
       "      <td>-0.019460</td>\n",
       "      <td>-0.056794</td>\n",
       "      <td>0.125795</td>\n",
       "      <td>-0.089297</td>\n",
       "      <td>4.0</td>\n",
       "    </tr>\n",
       "    <tr>\n",
       "      <th>242</th>\n",
       "      <td>0.137147</td>\n",
       "      <td>0.135362</td>\n",
       "      <td>0.145359</td>\n",
       "      <td>-0.173008</td>\n",
       "      <td>-0.275489</td>\n",
       "      <td>-0.105879</td>\n",
       "      <td>0.100701</td>\n",
       "      <td>0.004812</td>\n",
       "      <td>0.058184</td>\n",
       "      <td>-0.095956</td>\n",
       "      <td>0.126445</td>\n",
       "      <td>-0.116109</td>\n",
       "      <td>-0.036130</td>\n",
       "      <td>-0.229303</td>\n",
       "      <td>0.157230</td>\n",
       "      <td>-0.039903</td>\n",
       "      <td>4.0</td>\n",
       "    </tr>\n",
       "    <tr>\n",
       "      <th>243</th>\n",
       "      <td>0.052291</td>\n",
       "      <td>0.114901</td>\n",
       "      <td>0.047517</td>\n",
       "      <td>0.034348</td>\n",
       "      <td>-0.182523</td>\n",
       "      <td>-0.068898</td>\n",
       "      <td>0.134075</td>\n",
       "      <td>-0.016922</td>\n",
       "      <td>0.039254</td>\n",
       "      <td>-0.146742</td>\n",
       "      <td>0.011019</td>\n",
       "      <td>-0.027047</td>\n",
       "      <td>-0.019460</td>\n",
       "      <td>-0.056794</td>\n",
       "      <td>0.125795</td>\n",
       "      <td>-0.089297</td>\n",
       "      <td>4.0</td>\n",
       "    </tr>\n",
       "    <tr>\n",
       "      <th>244</th>\n",
       "      <td>0.052291</td>\n",
       "      <td>0.114901</td>\n",
       "      <td>0.047517</td>\n",
       "      <td>0.034348</td>\n",
       "      <td>-0.182523</td>\n",
       "      <td>-0.068898</td>\n",
       "      <td>0.134075</td>\n",
       "      <td>-0.016922</td>\n",
       "      <td>0.039254</td>\n",
       "      <td>-0.146742</td>\n",
       "      <td>0.011019</td>\n",
       "      <td>-0.027047</td>\n",
       "      <td>-0.019460</td>\n",
       "      <td>-0.056794</td>\n",
       "      <td>0.125795</td>\n",
       "      <td>-0.089297</td>\n",
       "      <td>4.0</td>\n",
       "    </tr>\n",
       "    <tr>\n",
       "      <th>245</th>\n",
       "      <td>0.051881</td>\n",
       "      <td>0.108926</td>\n",
       "      <td>0.042552</td>\n",
       "      <td>0.034753</td>\n",
       "      <td>-0.181901</td>\n",
       "      <td>-0.063684</td>\n",
       "      <td>0.131151</td>\n",
       "      <td>-0.025639</td>\n",
       "      <td>0.040285</td>\n",
       "      <td>-0.146744</td>\n",
       "      <td>0.017810</td>\n",
       "      <td>-0.031034</td>\n",
       "      <td>-0.019218</td>\n",
       "      <td>-0.058565</td>\n",
       "      <td>0.127880</td>\n",
       "      <td>-0.087472</td>\n",
       "      <td>4.0</td>\n",
       "    </tr>\n",
       "  </tbody>\n",
       "</table>\n",
       "<p>246 rows × 17 columns</p>\n",
       "</div>"
      ],
      "text/plain": [
       "     Feature0  Feature1  Feature2  Feature3  Feature4  Feature5  Feature6  \\\n",
       "0    0.052291  0.114901  0.047517  0.034348 -0.182523 -0.068898  0.134075   \n",
       "1    0.051561  0.122253  0.045909  0.034260 -0.173182 -0.069053  0.136365   \n",
       "2    0.052291  0.114901  0.047517  0.034348 -0.182523 -0.068898  0.134075   \n",
       "3    0.052291  0.114901  0.047517  0.034348 -0.182523 -0.068898  0.134075   \n",
       "4    0.053486  0.114901  0.048194  0.034343 -0.180605 -0.075245  0.135084   \n",
       "..        ...       ...       ...       ...       ...       ...       ...   \n",
       "241  0.052291  0.114901  0.047517  0.034348 -0.182523 -0.068898  0.134075   \n",
       "242  0.137147  0.135362  0.145359 -0.173008 -0.275489 -0.105879  0.100701   \n",
       "243  0.052291  0.114901  0.047517  0.034348 -0.182523 -0.068898  0.134075   \n",
       "244  0.052291  0.114901  0.047517  0.034348 -0.182523 -0.068898  0.134075   \n",
       "245  0.051881  0.108926  0.042552  0.034753 -0.181901 -0.063684  0.131151   \n",
       "\n",
       "     Feature7  Feature8  Feature9  Feature10  Feature11  Feature12  Feature13  \\\n",
       "0   -0.016922  0.039254 -0.146742   0.011019  -0.027047  -0.019460  -0.056794   \n",
       "1   -0.010437  0.035032 -0.144644   0.013159  -0.027133  -0.017048  -0.055346   \n",
       "2   -0.016922  0.039254 -0.146742   0.011019  -0.027047  -0.019460  -0.056794   \n",
       "3   -0.016922  0.039254 -0.146742   0.011019  -0.027047  -0.019460  -0.056794   \n",
       "4   -0.016905  0.039273 -0.146762   0.010013  -0.026118  -0.019457  -0.053591   \n",
       "..        ...       ...       ...        ...        ...        ...        ...   \n",
       "241 -0.016922  0.039254 -0.146742   0.011019  -0.027047  -0.019460  -0.056794   \n",
       "242  0.004812  0.058184 -0.095956   0.126445  -0.116109  -0.036130  -0.229303   \n",
       "243 -0.016922  0.039254 -0.146742   0.011019  -0.027047  -0.019460  -0.056794   \n",
       "244 -0.016922  0.039254 -0.146742   0.011019  -0.027047  -0.019460  -0.056794   \n",
       "245 -0.025639  0.040285 -0.146744   0.017810  -0.031034  -0.019218  -0.058565   \n",
       "\n",
       "     Feature14  Feature15  rating  \n",
       "0     0.125795  -0.089297     4.0  \n",
       "1     0.128766  -0.085253     4.0  \n",
       "2     0.125795  -0.089297     4.0  \n",
       "3     0.125795  -0.089297     4.0  \n",
       "4     0.125881  -0.089111     4.0  \n",
       "..         ...        ...     ...  \n",
       "241   0.125795  -0.089297     4.0  \n",
       "242   0.157230  -0.039903     4.0  \n",
       "243   0.125795  -0.089297     4.0  \n",
       "244   0.125795  -0.089297     4.0  \n",
       "245   0.127880  -0.087472     4.0  \n",
       "\n",
       "[246 rows x 17 columns]"
      ]
     },
     "execution_count": 216,
     "metadata": {},
     "output_type": "execute_result"
    }
   ],
   "source": [
    "regression_dataset.iloc[merged_df[(merged_df['user']==2)&(merged_df['item'].isin(unknown_courses))].index]"
   ]
  },
  {
   "cell_type": "code",
   "execution_count": 220,
   "metadata": {},
   "outputs": [],
   "source": [
    "from sklearn.model_selection import train_test_split,RandomizedSearchCV\n",
    "from xgboost import XGBClassifier\n",
    "import scipy"
   ]
  },
  {
   "cell_type": "code",
   "execution_count": 230,
   "metadata": {},
   "outputs": [
    {
     "ename": "KeyboardInterrupt",
     "evalue": "",
     "output_type": "error",
     "traceback": [
      "\u001b[1;31m---------------------------------------------------------------------------\u001b[0m",
      "\u001b[1;31mKeyboardInterrupt\u001b[0m                         Traceback (most recent call last)",
      "Cell \u001b[1;32mIn[230], line 41\u001b[0m\n\u001b[0;32m     35\u001b[0m parameters \u001b[38;5;241m=\u001b[39m {\n\u001b[0;32m     36\u001b[0m     \u001b[38;5;124m'\u001b[39m\u001b[38;5;124mreg_alpha\u001b[39m\u001b[38;5;124m'\u001b[39m: scipy\u001b[38;5;241m.\u001b[39mstats\u001b[38;5;241m.\u001b[39mloguniform(\u001b[38;5;241m10\u001b[39m\u001b[38;5;241m*\u001b[39m\u001b[38;5;241m*\u001b[39m\u001b[38;5;241m-\u001b[39m\u001b[38;5;241m10\u001b[39m,\u001b[38;5;241m10\u001b[39m\u001b[38;5;241m*\u001b[39m\u001b[38;5;241m*\u001b[39m\u001b[38;5;241m1\u001b[39m),\n\u001b[0;32m     37\u001b[0m     \u001b[38;5;124m'\u001b[39m\u001b[38;5;124mreg_lambda\u001b[39m\u001b[38;5;124m'\u001b[39m: scipy\u001b[38;5;241m.\u001b[39mstats\u001b[38;5;241m.\u001b[39mloguniform(\u001b[38;5;241m10\u001b[39m\u001b[38;5;241m*\u001b[39m\u001b[38;5;241m*\u001b[39m\u001b[38;5;241m-\u001b[39m\u001b[38;5;241m10\u001b[39m,\u001b[38;5;241m10\u001b[39m\u001b[38;5;241m*\u001b[39m\u001b[38;5;241m*\u001b[39m\u001b[38;5;241m3\u001b[39m),\n\u001b[0;32m     38\u001b[0m     \u001b[38;5;124m'\u001b[39m\u001b[38;5;124mgamma\u001b[39m\u001b[38;5;124m'\u001b[39m: scipy\u001b[38;5;241m.\u001b[39mstats\u001b[38;5;241m.\u001b[39mloguniform(\u001b[38;5;241m10\u001b[39m\u001b[38;5;241m*\u001b[39m\u001b[38;5;241m*\u001b[39m\u001b[38;5;241m-\u001b[39m\u001b[38;5;241m10\u001b[39m,\u001b[38;5;241m10\u001b[39m\u001b[38;5;241m*\u001b[39m\u001b[38;5;241m*\u001b[39m\u001b[38;5;241m1\u001b[39m),}\n\u001b[0;32m     40\u001b[0m model_cv\u001b[38;5;241m=\u001b[39mRandomizedSearchCV(estimator\u001b[38;5;241m=\u001b[39mmodel,param_distributions\u001b[38;5;241m=\u001b[39mparameters,n_iter\u001b[38;5;241m=\u001b[39m\u001b[38;5;241m500\u001b[39m,scoring\u001b[38;5;241m=\u001b[39m\u001b[38;5;124m'\u001b[39m\u001b[38;5;124mbalanced_accuracy\u001b[39m\u001b[38;5;124m'\u001b[39m,n_jobs\u001b[38;5;241m=\u001b[39m\u001b[38;5;241m-\u001b[39m\u001b[38;5;241m1\u001b[39m,cv\u001b[38;5;241m=\u001b[39m\u001b[38;5;241m3\u001b[39m)\n\u001b[1;32m---> 41\u001b[0m \u001b[43mmodel_cv\u001b[49m\u001b[38;5;241;43m.\u001b[39;49m\u001b[43mfit\u001b[49m\u001b[43m(\u001b[49m\u001b[43mx_train\u001b[49m\u001b[43m,\u001b[49m\u001b[43my_train\u001b[49m\u001b[43m)\u001b[49m\n\u001b[0;32m     44\u001b[0m model\u001b[38;5;241m.\u001b[39mset_params(\u001b[38;5;241m*\u001b[39m\u001b[38;5;241m*\u001b[39mmodel_cv\u001b[38;5;241m.\u001b[39mbest_params_)\n\u001b[0;32m     47\u001b[0m model\u001b[38;5;241m.\u001b[39mfit(X,y)\n",
      "File \u001b[1;32mc:\\Users\\Vishal\\anaconda3\\envs\\tf-with_some_pip\\lib\\site-packages\\sklearn\\base.py:1474\u001b[0m, in \u001b[0;36m_fit_context.<locals>.decorator.<locals>.wrapper\u001b[1;34m(estimator, *args, **kwargs)\u001b[0m\n\u001b[0;32m   1467\u001b[0m     estimator\u001b[38;5;241m.\u001b[39m_validate_params()\n\u001b[0;32m   1469\u001b[0m \u001b[38;5;28;01mwith\u001b[39;00m config_context(\n\u001b[0;32m   1470\u001b[0m     skip_parameter_validation\u001b[38;5;241m=\u001b[39m(\n\u001b[0;32m   1471\u001b[0m         prefer_skip_nested_validation \u001b[38;5;129;01mor\u001b[39;00m global_skip_validation\n\u001b[0;32m   1472\u001b[0m     )\n\u001b[0;32m   1473\u001b[0m ):\n\u001b[1;32m-> 1474\u001b[0m     \u001b[38;5;28;01mreturn\u001b[39;00m fit_method(estimator, \u001b[38;5;241m*\u001b[39margs, \u001b[38;5;241m*\u001b[39m\u001b[38;5;241m*\u001b[39mkwargs)\n",
      "File \u001b[1;32mc:\\Users\\Vishal\\anaconda3\\envs\\tf-with_some_pip\\lib\\site-packages\\sklearn\\model_selection\\_search.py:970\u001b[0m, in \u001b[0;36mBaseSearchCV.fit\u001b[1;34m(self, X, y, **params)\u001b[0m\n\u001b[0;32m    964\u001b[0m     results \u001b[38;5;241m=\u001b[39m \u001b[38;5;28mself\u001b[39m\u001b[38;5;241m.\u001b[39m_format_results(\n\u001b[0;32m    965\u001b[0m         all_candidate_params, n_splits, all_out, all_more_results\n\u001b[0;32m    966\u001b[0m     )\n\u001b[0;32m    968\u001b[0m     \u001b[38;5;28;01mreturn\u001b[39;00m results\n\u001b[1;32m--> 970\u001b[0m \u001b[38;5;28;43mself\u001b[39;49m\u001b[38;5;241;43m.\u001b[39;49m\u001b[43m_run_search\u001b[49m\u001b[43m(\u001b[49m\u001b[43mevaluate_candidates\u001b[49m\u001b[43m)\u001b[49m\n\u001b[0;32m    972\u001b[0m \u001b[38;5;66;03m# multimetric is determined here because in the case of a callable\u001b[39;00m\n\u001b[0;32m    973\u001b[0m \u001b[38;5;66;03m# self.scoring the return type is only known after calling\u001b[39;00m\n\u001b[0;32m    974\u001b[0m first_test_score \u001b[38;5;241m=\u001b[39m all_out[\u001b[38;5;241m0\u001b[39m][\u001b[38;5;124m\"\u001b[39m\u001b[38;5;124mtest_scores\u001b[39m\u001b[38;5;124m\"\u001b[39m]\n",
      "File \u001b[1;32mc:\\Users\\Vishal\\anaconda3\\envs\\tf-with_some_pip\\lib\\site-packages\\sklearn\\model_selection\\_search.py:1914\u001b[0m, in \u001b[0;36mRandomizedSearchCV._run_search\u001b[1;34m(self, evaluate_candidates)\u001b[0m\n\u001b[0;32m   1912\u001b[0m \u001b[38;5;28;01mdef\u001b[39;00m \u001b[38;5;21m_run_search\u001b[39m(\u001b[38;5;28mself\u001b[39m, evaluate_candidates):\n\u001b[0;32m   1913\u001b[0m \u001b[38;5;250m    \u001b[39m\u001b[38;5;124;03m\"\"\"Search n_iter candidates from param_distributions\"\"\"\u001b[39;00m\n\u001b[1;32m-> 1914\u001b[0m     \u001b[43mevaluate_candidates\u001b[49m\u001b[43m(\u001b[49m\n\u001b[0;32m   1915\u001b[0m \u001b[43m        \u001b[49m\u001b[43mParameterSampler\u001b[49m\u001b[43m(\u001b[49m\n\u001b[0;32m   1916\u001b[0m \u001b[43m            \u001b[49m\u001b[38;5;28;43mself\u001b[39;49m\u001b[38;5;241;43m.\u001b[39;49m\u001b[43mparam_distributions\u001b[49m\u001b[43m,\u001b[49m\u001b[43m \u001b[49m\u001b[38;5;28;43mself\u001b[39;49m\u001b[38;5;241;43m.\u001b[39;49m\u001b[43mn_iter\u001b[49m\u001b[43m,\u001b[49m\u001b[43m \u001b[49m\u001b[43mrandom_state\u001b[49m\u001b[38;5;241;43m=\u001b[39;49m\u001b[38;5;28;43mself\u001b[39;49m\u001b[38;5;241;43m.\u001b[39;49m\u001b[43mrandom_state\u001b[49m\n\u001b[0;32m   1917\u001b[0m \u001b[43m        \u001b[49m\u001b[43m)\u001b[49m\n\u001b[0;32m   1918\u001b[0m \u001b[43m    \u001b[49m\u001b[43m)\u001b[49m\n",
      "File \u001b[1;32mc:\\Users\\Vishal\\anaconda3\\envs\\tf-with_some_pip\\lib\\site-packages\\sklearn\\model_selection\\_search.py:916\u001b[0m, in \u001b[0;36mBaseSearchCV.fit.<locals>.evaluate_candidates\u001b[1;34m(candidate_params, cv, more_results)\u001b[0m\n\u001b[0;32m    908\u001b[0m \u001b[38;5;28;01mif\u001b[39;00m \u001b[38;5;28mself\u001b[39m\u001b[38;5;241m.\u001b[39mverbose \u001b[38;5;241m>\u001b[39m \u001b[38;5;241m0\u001b[39m:\n\u001b[0;32m    909\u001b[0m     \u001b[38;5;28mprint\u001b[39m(\n\u001b[0;32m    910\u001b[0m         \u001b[38;5;124m\"\u001b[39m\u001b[38;5;124mFitting \u001b[39m\u001b[38;5;132;01m{0}\u001b[39;00m\u001b[38;5;124m folds for each of \u001b[39m\u001b[38;5;132;01m{1}\u001b[39;00m\u001b[38;5;124m candidates,\u001b[39m\u001b[38;5;124m\"\u001b[39m\n\u001b[0;32m    911\u001b[0m         \u001b[38;5;124m\"\u001b[39m\u001b[38;5;124m totalling \u001b[39m\u001b[38;5;132;01m{2}\u001b[39;00m\u001b[38;5;124m fits\u001b[39m\u001b[38;5;124m\"\u001b[39m\u001b[38;5;241m.\u001b[39mformat(\n\u001b[0;32m    912\u001b[0m             n_splits, n_candidates, n_candidates \u001b[38;5;241m*\u001b[39m n_splits\n\u001b[0;32m    913\u001b[0m         )\n\u001b[0;32m    914\u001b[0m     )\n\u001b[1;32m--> 916\u001b[0m out \u001b[38;5;241m=\u001b[39m \u001b[43mparallel\u001b[49m\u001b[43m(\u001b[49m\n\u001b[0;32m    917\u001b[0m \u001b[43m    \u001b[49m\u001b[43mdelayed\u001b[49m\u001b[43m(\u001b[49m\u001b[43m_fit_and_score\u001b[49m\u001b[43m)\u001b[49m\u001b[43m(\u001b[49m\n\u001b[0;32m    918\u001b[0m \u001b[43m        \u001b[49m\u001b[43mclone\u001b[49m\u001b[43m(\u001b[49m\u001b[43mbase_estimator\u001b[49m\u001b[43m)\u001b[49m\u001b[43m,\u001b[49m\n\u001b[0;32m    919\u001b[0m \u001b[43m        \u001b[49m\u001b[43mX\u001b[49m\u001b[43m,\u001b[49m\n\u001b[0;32m    920\u001b[0m \u001b[43m        \u001b[49m\u001b[43my\u001b[49m\u001b[43m,\u001b[49m\n\u001b[0;32m    921\u001b[0m \u001b[43m        \u001b[49m\u001b[43mtrain\u001b[49m\u001b[38;5;241;43m=\u001b[39;49m\u001b[43mtrain\u001b[49m\u001b[43m,\u001b[49m\n\u001b[0;32m    922\u001b[0m \u001b[43m        \u001b[49m\u001b[43mtest\u001b[49m\u001b[38;5;241;43m=\u001b[39;49m\u001b[43mtest\u001b[49m\u001b[43m,\u001b[49m\n\u001b[0;32m    923\u001b[0m \u001b[43m        \u001b[49m\u001b[43mparameters\u001b[49m\u001b[38;5;241;43m=\u001b[39;49m\u001b[43mparameters\u001b[49m\u001b[43m,\u001b[49m\n\u001b[0;32m    924\u001b[0m \u001b[43m        \u001b[49m\u001b[43msplit_progress\u001b[49m\u001b[38;5;241;43m=\u001b[39;49m\u001b[43m(\u001b[49m\u001b[43msplit_idx\u001b[49m\u001b[43m,\u001b[49m\u001b[43m \u001b[49m\u001b[43mn_splits\u001b[49m\u001b[43m)\u001b[49m\u001b[43m,\u001b[49m\n\u001b[0;32m    925\u001b[0m \u001b[43m        \u001b[49m\u001b[43mcandidate_progress\u001b[49m\u001b[38;5;241;43m=\u001b[39;49m\u001b[43m(\u001b[49m\u001b[43mcand_idx\u001b[49m\u001b[43m,\u001b[49m\u001b[43m \u001b[49m\u001b[43mn_candidates\u001b[49m\u001b[43m)\u001b[49m\u001b[43m,\u001b[49m\n\u001b[0;32m    926\u001b[0m \u001b[43m        \u001b[49m\u001b[38;5;241;43m*\u001b[39;49m\u001b[38;5;241;43m*\u001b[39;49m\u001b[43mfit_and_score_kwargs\u001b[49m\u001b[43m,\u001b[49m\n\u001b[0;32m    927\u001b[0m \u001b[43m    \u001b[49m\u001b[43m)\u001b[49m\n\u001b[0;32m    928\u001b[0m \u001b[43m    \u001b[49m\u001b[38;5;28;43;01mfor\u001b[39;49;00m\u001b[43m \u001b[49m\u001b[43m(\u001b[49m\u001b[43mcand_idx\u001b[49m\u001b[43m,\u001b[49m\u001b[43m \u001b[49m\u001b[43mparameters\u001b[49m\u001b[43m)\u001b[49m\u001b[43m,\u001b[49m\u001b[43m \u001b[49m\u001b[43m(\u001b[49m\u001b[43msplit_idx\u001b[49m\u001b[43m,\u001b[49m\u001b[43m \u001b[49m\u001b[43m(\u001b[49m\u001b[43mtrain\u001b[49m\u001b[43m,\u001b[49m\u001b[43m \u001b[49m\u001b[43mtest\u001b[49m\u001b[43m)\u001b[49m\u001b[43m)\u001b[49m\u001b[43m \u001b[49m\u001b[38;5;129;43;01min\u001b[39;49;00m\u001b[43m \u001b[49m\u001b[43mproduct\u001b[49m\u001b[43m(\u001b[49m\n\u001b[0;32m    929\u001b[0m \u001b[43m        \u001b[49m\u001b[38;5;28;43menumerate\u001b[39;49m\u001b[43m(\u001b[49m\u001b[43mcandidate_params\u001b[49m\u001b[43m)\u001b[49m\u001b[43m,\u001b[49m\n\u001b[0;32m    930\u001b[0m \u001b[43m        \u001b[49m\u001b[38;5;28;43menumerate\u001b[39;49m\u001b[43m(\u001b[49m\u001b[43mcv\u001b[49m\u001b[38;5;241;43m.\u001b[39;49m\u001b[43msplit\u001b[49m\u001b[43m(\u001b[49m\u001b[43mX\u001b[49m\u001b[43m,\u001b[49m\u001b[43m \u001b[49m\u001b[43my\u001b[49m\u001b[43m,\u001b[49m\u001b[43m \u001b[49m\u001b[38;5;241;43m*\u001b[39;49m\u001b[38;5;241;43m*\u001b[39;49m\u001b[43mrouted_params\u001b[49m\u001b[38;5;241;43m.\u001b[39;49m\u001b[43msplitter\u001b[49m\u001b[38;5;241;43m.\u001b[39;49m\u001b[43msplit\u001b[49m\u001b[43m)\u001b[49m\u001b[43m)\u001b[49m\u001b[43m,\u001b[49m\n\u001b[0;32m    931\u001b[0m \u001b[43m    \u001b[49m\u001b[43m)\u001b[49m\n\u001b[0;32m    932\u001b[0m \u001b[43m\u001b[49m\u001b[43m)\u001b[49m\n\u001b[0;32m    934\u001b[0m \u001b[38;5;28;01mif\u001b[39;00m \u001b[38;5;28mlen\u001b[39m(out) \u001b[38;5;241m<\u001b[39m \u001b[38;5;241m1\u001b[39m:\n\u001b[0;32m    935\u001b[0m     \u001b[38;5;28;01mraise\u001b[39;00m \u001b[38;5;167;01mValueError\u001b[39;00m(\n\u001b[0;32m    936\u001b[0m         \u001b[38;5;124m\"\u001b[39m\u001b[38;5;124mNo fits were performed. \u001b[39m\u001b[38;5;124m\"\u001b[39m\n\u001b[0;32m    937\u001b[0m         \u001b[38;5;124m\"\u001b[39m\u001b[38;5;124mWas the CV iterator empty? \u001b[39m\u001b[38;5;124m\"\u001b[39m\n\u001b[0;32m    938\u001b[0m         \u001b[38;5;124m\"\u001b[39m\u001b[38;5;124mWere there no candidates?\u001b[39m\u001b[38;5;124m\"\u001b[39m\n\u001b[0;32m    939\u001b[0m     )\n",
      "File \u001b[1;32mc:\\Users\\Vishal\\anaconda3\\envs\\tf-with_some_pip\\lib\\site-packages\\sklearn\\utils\\parallel.py:67\u001b[0m, in \u001b[0;36mParallel.__call__\u001b[1;34m(self, iterable)\u001b[0m\n\u001b[0;32m     62\u001b[0m config \u001b[38;5;241m=\u001b[39m get_config()\n\u001b[0;32m     63\u001b[0m iterable_with_config \u001b[38;5;241m=\u001b[39m (\n\u001b[0;32m     64\u001b[0m     (_with_config(delayed_func, config), args, kwargs)\n\u001b[0;32m     65\u001b[0m     \u001b[38;5;28;01mfor\u001b[39;00m delayed_func, args, kwargs \u001b[38;5;129;01min\u001b[39;00m iterable\n\u001b[0;32m     66\u001b[0m )\n\u001b[1;32m---> 67\u001b[0m \u001b[38;5;28;01mreturn\u001b[39;00m \u001b[38;5;28;43msuper\u001b[39;49m\u001b[43m(\u001b[49m\u001b[43m)\u001b[49m\u001b[38;5;241;43m.\u001b[39;49m\u001b[38;5;21;43m__call__\u001b[39;49m\u001b[43m(\u001b[49m\u001b[43miterable_with_config\u001b[49m\u001b[43m)\u001b[49m\n",
      "File \u001b[1;32mc:\\Users\\Vishal\\anaconda3\\envs\\tf-with_some_pip\\lib\\site-packages\\joblib\\parallel.py:1952\u001b[0m, in \u001b[0;36mParallel.__call__\u001b[1;34m(self, iterable)\u001b[0m\n\u001b[0;32m   1946\u001b[0m \u001b[38;5;66;03m# The first item from the output is blank, but it makes the interpreter\u001b[39;00m\n\u001b[0;32m   1947\u001b[0m \u001b[38;5;66;03m# progress until it enters the Try/Except block of the generator and\u001b[39;00m\n\u001b[0;32m   1948\u001b[0m \u001b[38;5;66;03m# reach the first `yield` statement. This starts the aynchronous\u001b[39;00m\n\u001b[0;32m   1949\u001b[0m \u001b[38;5;66;03m# dispatch of the tasks to the workers.\u001b[39;00m\n\u001b[0;32m   1950\u001b[0m \u001b[38;5;28mnext\u001b[39m(output)\n\u001b[1;32m-> 1952\u001b[0m \u001b[38;5;28;01mreturn\u001b[39;00m output \u001b[38;5;28;01mif\u001b[39;00m \u001b[38;5;28mself\u001b[39m\u001b[38;5;241m.\u001b[39mreturn_generator \u001b[38;5;28;01melse\u001b[39;00m \u001b[38;5;28;43mlist\u001b[39;49m\u001b[43m(\u001b[49m\u001b[43moutput\u001b[49m\u001b[43m)\u001b[49m\n",
      "File \u001b[1;32mc:\\Users\\Vishal\\anaconda3\\envs\\tf-with_some_pip\\lib\\site-packages\\joblib\\parallel.py:1595\u001b[0m, in \u001b[0;36mParallel._get_outputs\u001b[1;34m(self, iterator, pre_dispatch)\u001b[0m\n\u001b[0;32m   1592\u001b[0m     \u001b[38;5;28;01myield\u001b[39;00m\n\u001b[0;32m   1594\u001b[0m     \u001b[38;5;28;01mwith\u001b[39;00m \u001b[38;5;28mself\u001b[39m\u001b[38;5;241m.\u001b[39m_backend\u001b[38;5;241m.\u001b[39mretrieval_context():\n\u001b[1;32m-> 1595\u001b[0m         \u001b[38;5;28;01myield from\u001b[39;00m \u001b[38;5;28mself\u001b[39m\u001b[38;5;241m.\u001b[39m_retrieve()\n\u001b[0;32m   1597\u001b[0m \u001b[38;5;28;01mexcept\u001b[39;00m \u001b[38;5;167;01mGeneratorExit\u001b[39;00m:\n\u001b[0;32m   1598\u001b[0m     \u001b[38;5;66;03m# The generator has been garbage collected before being fully\u001b[39;00m\n\u001b[0;32m   1599\u001b[0m     \u001b[38;5;66;03m# consumed. This aborts the remaining tasks if possible and warn\u001b[39;00m\n\u001b[0;32m   1600\u001b[0m     \u001b[38;5;66;03m# the user if necessary.\u001b[39;00m\n\u001b[0;32m   1601\u001b[0m     \u001b[38;5;28mself\u001b[39m\u001b[38;5;241m.\u001b[39m_exception \u001b[38;5;241m=\u001b[39m \u001b[38;5;28;01mTrue\u001b[39;00m\n",
      "File \u001b[1;32mc:\\Users\\Vishal\\anaconda3\\envs\\tf-with_some_pip\\lib\\site-packages\\joblib\\parallel.py:1707\u001b[0m, in \u001b[0;36mParallel._retrieve\u001b[1;34m(self)\u001b[0m\n\u001b[0;32m   1702\u001b[0m \u001b[38;5;66;03m# If the next job is not ready for retrieval yet, we just wait for\u001b[39;00m\n\u001b[0;32m   1703\u001b[0m \u001b[38;5;66;03m# async callbacks to progress.\u001b[39;00m\n\u001b[0;32m   1704\u001b[0m \u001b[38;5;28;01mif\u001b[39;00m ((\u001b[38;5;28mlen\u001b[39m(\u001b[38;5;28mself\u001b[39m\u001b[38;5;241m.\u001b[39m_jobs) \u001b[38;5;241m==\u001b[39m \u001b[38;5;241m0\u001b[39m) \u001b[38;5;129;01mor\u001b[39;00m\n\u001b[0;32m   1705\u001b[0m     (\u001b[38;5;28mself\u001b[39m\u001b[38;5;241m.\u001b[39m_jobs[\u001b[38;5;241m0\u001b[39m]\u001b[38;5;241m.\u001b[39mget_status(\n\u001b[0;32m   1706\u001b[0m         timeout\u001b[38;5;241m=\u001b[39m\u001b[38;5;28mself\u001b[39m\u001b[38;5;241m.\u001b[39mtimeout) \u001b[38;5;241m==\u001b[39m TASK_PENDING)):\n\u001b[1;32m-> 1707\u001b[0m     \u001b[43mtime\u001b[49m\u001b[38;5;241;43m.\u001b[39;49m\u001b[43msleep\u001b[49m\u001b[43m(\u001b[49m\u001b[38;5;241;43m0.01\u001b[39;49m\u001b[43m)\u001b[49m\n\u001b[0;32m   1708\u001b[0m     \u001b[38;5;28;01mcontinue\u001b[39;00m\n\u001b[0;32m   1710\u001b[0m \u001b[38;5;66;03m# We need to be careful: the job list can be filling up as\u001b[39;00m\n\u001b[0;32m   1711\u001b[0m \u001b[38;5;66;03m# we empty it and Python list are not thread-safe by\u001b[39;00m\n\u001b[0;32m   1712\u001b[0m \u001b[38;5;66;03m# default hence the use of the lock\u001b[39;00m\n",
      "\u001b[1;31mKeyboardInterrupt\u001b[0m: "
     ]
    }
   ],
   "source": [
    "ratings_df = pd.read_csv(\"ratings.csv\")\n",
    "course_genres_df = pd.read_csv(\"course_genres.csv\")\n",
    "user_ratings = ratings_df[ratings_df['user'] == 2]\n",
    "enrolled_course_ids = user_ratings['item'].to_list()\n",
    "all_courses = set(course_genres_df['COURSE_ID'].values)\n",
    "unknown_courses = list(all_courses.difference(enrolled_course_ids))\n",
    "test_dataset= pd.DataFrame({'user':[2]*len(unknown_courses),'item':unknown_courses,'rating':[4]*len(unknown_courses)})\n",
    "\n",
    "# Merge user embedding features\n",
    "user_emb_merged = pd.merge(ratings_df, user_latent_features, how='left', left_on='user', right_on='user').fillna(0)\n",
    "merged_df = pd.merge(user_emb_merged, item_latent_features, how='left', left_on='item', right_on='item').fillna(0)\n",
    "# Define column names for user and course embedding features\n",
    "u_features = [f\"User_Feature_{i}\" for i in range(len(user_latent_features.columns)-1)] \n",
    "c_features = [f\"Item_Feature_{i}\" for i in range(len(item_latent_features.columns)-1)]\n",
    "# Extract user embedding features\n",
    "user_embeddings = merged_df[u_features]\n",
    "# Extract course embedding features\n",
    "course_embeddings = merged_df[c_features]\n",
    "# Extract ratings\n",
    "ratings = merged_df['rating']\n",
    "# Aggregate the two feature columns using element-wise add\n",
    "interaction_dataset = user_embeddings + course_embeddings.values\n",
    "# Rename the columns of the resulting DataFrame\n",
    "interaction_dataset.columns = [f\"Feature{i}\" for i in range(len(item_latent_features.columns)-1)]# Assuming there are 16 features\n",
    "# Add the 'rating' column from the original DataFrame to the regression dataset\n",
    "interaction_dataset['rating'] = ratings\n",
    "\n",
    "X = interaction_dataset.iloc[:, :-1]\n",
    "y = interaction_dataset.iloc[:, -1].values-3\n",
    "x_train,x_test,y_train,y_test = train_test_split(X,y,test_size=0.3, random_state=123)\n",
    "\n",
    "\n",
    "\n",
    "model = XGBClassifier(n_jobs=-1,random_state=123)\n",
    "parameters = {\n",
    "    'reg_alpha': scipy.stats.loguniform(10**-10,10**1),\n",
    "    'reg_lambda': scipy.stats.loguniform(10**-10,10**3),\n",
    "    'gamma': scipy.stats.loguniform(10**-10,10**1),}\n",
    "\n",
    "model_cv=RandomizedSearchCV(estimator=model,param_distributions=parameters,n_iter=500,scoring='balanced_accuracy',n_jobs=-1,cv=3)\n",
    "model_cv.fit(x_train,y_train)\n",
    "\n",
    "\n",
    "model.set_params(**model_cv.best_params_)\n",
    "\n",
    "\n",
    "model.fit(X,y)\n",
    "\n",
    "# Merge user embedding features\n",
    "user_emb_merged = pd.merge(test_dataset, user_latent_features, how='left', left_on='user', right_on='user').fillna(0)\n",
    "merged_df = pd.merge(user_emb_merged, item_latent_features, how='left', left_on='item', right_on='item').fillna(0)\n",
    "# Define column names for user and course embedding features\n",
    "#u_features = [f\"User_Feature_{i}\" for i in range(len(user_latent_features.columns)-1)] \n",
    "#c_features = [f\"Item_Feature_{i}\" for i in range(len(item_latent_features.columns)-1)]\n",
    "# Extract user embedding features\n",
    "user_embeddings = merged_df[u_features]\n",
    "# Extract course embedding features\n",
    "course_embeddings = merged_df[c_features]\n",
    "# Extract ratings\n",
    "ratings = merged_df['rating']\n",
    "# Aggregate the two feature columns using element-wise add\n",
    "interaction_dataset = user_embeddings + course_embeddings.values\n",
    "# Rename the columns of the resulting DataFrame\n",
    "interaction_dataset.columns = [f\"Feature{i}\" for i in range(len(item_latent_features.columns)-1)]# Assuming there are 16 features\n",
    "# Add the 'rating' column from the original DataFrame to the regression dataset\n",
    "interaction_dataset['rating'] = ratings\n",
    "test_data = interaction_dataset.iloc[:, :-1]\n",
    "#y = regression_dataset.iloc[:, -1]\n",
    "#test_data=encoded_test_dataset[['user','item']].to_numpy()\n",
    "#test_data=regression_data.iloc[merged_df[(merged_df['user']==user_id)&(merged_df['item'].isin(unknown_courses))].index,:]\n",
    "\n",
    "pred=model.predict(test_data)\n",
    "\n",
    "\n",
    "test_dataset.loc[:,'rating']=pred+3\n",
    "res_df=test_dataset\n",
    "res_df.sort_values(by='rating',ascending=False,inplace=True)\n",
    "res_df.rename(columns={'user':'USER','item':'COURSE_ID','rating':'SCORE'},inplace=True)"
   ]
  },
  {
   "cell_type": "code",
   "execution_count": null,
   "metadata": {},
   "outputs": [
    {
     "data": {
      "text/plain": [
       "array([3., 2.])"
      ]
     },
     "execution_count": 226,
     "metadata": {},
     "output_type": "execute_result"
    }
   ],
   "source": [
    "interaction_dataset.rating.unique()"
   ]
  },
  {
   "cell_type": "code",
   "execution_count": 228,
   "metadata": {},
   "outputs": [
    {
     "data": {
      "text/plain": [
       "array([3., 2.])"
      ]
     },
     "execution_count": 228,
     "metadata": {},
     "output_type": "execute_result"
    }
   ],
   "source": [
    "ratings_df.rating.unique()"
   ]
  },
  {
   "cell_type": "markdown",
   "metadata": {},
   "source": [
    "### Summary\n"
   ]
  },
  {
   "cell_type": "markdown",
   "metadata": {},
   "source": [
    "In this lab, you have learned and practiced predicting course ratings using neural networks. With a predefined and trained neural network, we can extract or embed users and items into latent feature spaces and further predict the interaction between a user and an item with the latent feature vectors.\n"
   ]
  },
  {
   "cell_type": "markdown",
   "metadata": {},
   "source": [
    "## Authors\n"
   ]
  },
  {
   "cell_type": "markdown",
   "metadata": {},
   "source": [
    "[Yan Luo](https://www.linkedin.com/in/yan-luo-96288783/)\n"
   ]
  },
  {
   "cell_type": "markdown",
   "metadata": {},
   "source": [
    "### Other Contributors\n"
   ]
  },
  {
   "cell_type": "markdown",
   "metadata": {},
   "source": [
    "```toggle## Change Log\n",
    "```\n"
   ]
  },
  {
   "cell_type": "markdown",
   "metadata": {},
   "source": [
    "```toggle|Date (YYYY-MM-DD)|Version|Changed By|Change Description|\n",
    "```\n",
    "```toggle|-|-|-|-|\n",
    "```\n",
    "```toggle|2021-10-25|1.0|Yan|Created the initial version|\n",
    "```\n"
   ]
  },
  {
   "cell_type": "markdown",
   "metadata": {},
   "source": [
    "Copyright © 2021 IBM Corporation. All rights reserved.\n"
   ]
  }
 ],
 "metadata": {
  "kernelspec": {
   "display_name": "tf-with_some_pip",
   "language": "python",
   "name": "python3"
  },
  "language_info": {
   "codemirror_mode": {
    "name": "ipython",
    "version": 3
   },
   "file_extension": ".py",
   "mimetype": "text/x-python",
   "name": "python",
   "nbconvert_exporter": "python",
   "pygments_lexer": "ipython3",
   "version": "3.9.19"
  },
  "prev_pub_hash": "b666e2b2e913b0897482548eb096a4e157b670ab86270b1b3a78e523a1f244d9"
 },
 "nbformat": 4,
 "nbformat_minor": 4
}
